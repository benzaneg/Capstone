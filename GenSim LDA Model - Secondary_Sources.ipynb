{
 "cells": [
  {
   "cell_type": "code",
   "execution_count": 1,
   "metadata": {},
   "outputs": [],
   "source": [
    "# Normal imports\n",
    "import pandas as pd\n",
    "import time\n",
    "import re\n",
    "import matplotlib.pyplot as plt\n",
    "import seaborn as sns\n",
    "import matplotlib.pyplot as plt\n",
    "import numpy as np\n",
    "from time import time\n",
    "%matplotlib inline\n",
    "\n",
    "## General GenSim packages to import\n",
    "\n",
    "import gensim\n",
    "import gensim.corpora as corpora\n",
    "from gensim.utils import simple_preprocess\n",
    "from gensim.models import CoherenceModel\n",
    "from gensim.test.utils import datapath\n",
    "from gensim.corpora.dictionary import Dictionary\n",
    "from gensim.models.ldamodel import LdaModel\n",
    "from gensim.models.coherencemodel import CoherenceModel\n",
    "\n",
    "# pyLDAvis for gensim\n",
    "\n",
    "import pyLDAvis\n",
    "pyLDAvis.enable_notebook()\n",
    "import pyLDAvis.gensim  # don't skip this\n",
    "\n",
    "# Temporal models\n",
    "from gensim.models import LdaSeqModel\n",
    "from gensim.models.wrappers.dtmmodel import DtmModel\n",
    "\n",
    "# Enable logging for gensim - to get pink boxes\n",
    "import logging\n",
    "logging.basicConfig(format='%(asctime)s : %(levelname)s : %(message)s', level=logging.ERROR)\n",
    "\n",
    "# Sklearn CountVectorizer\n",
    "from sklearn.feature_extraction.text import TfidfVectorizer, CountVectorizer\n",
    "\n",
    "# A lot of warnings\n",
    "import warnings\n",
    "warnings.filterwarnings(\"ignore\",category=DeprecationWarning)\n",
    "\n",
    "# The all important, Pickle\n",
    "import pickle\n"
   ]
  },
  {
   "cell_type": "markdown",
   "metadata": {},
   "source": [
    "### Functions to help with topic model understanding"
   ]
  },
  {
   "cell_type": "code",
   "execution_count": 1606,
   "metadata": {},
   "outputs": [],
   "source": [
    "    topic_count = []\n",
    "    confidence = []\n",
    "    both = []\n",
    "    one_topic = 0\n",
    "    two_topic = 0\n",
    "    three_topic = 0\n",
    "    four_more_topic = 0\n",
    "    for num, doc in enumerate(range(len(corpus_vect_gensim))):\n",
    "        item = lda_model.get_document_topics(corpus_vect_gensim[num])\n",
    "        if len(item) == 1:\n",
    "            topic_count.append(item[0][0])\n",
    "            confidence.append(item[0][1])\n",
    "            one_topic += 1\n",
    "        else:\n",
    "            pickin_best = []\n",
    "            for it in item:\n",
    "                pickin_best.append(it[1])\n",
    "            for it in item:\n",
    "                if it[1] == max(pickin_best):\n",
    "                    topic_count.append(it[0])\n",
    "                    confidence.append(it[1])\n",
    "            if len(item) == 2:\n",
    "                two_topic += 1\n",
    "            if len(item) == 3:\n",
    "                three_topic += 1\n",
    "            if len(item) >= 4:\n",
    "                four_more_topic += 1\n",
    "                \n",
    "    enumed = list(range(len(topic_count)))\n",
    "    topic_winners_time = pd.DataFrame(data = [enumed, topic_count]).T\n",
    "    topic_winners_time.columns = ['chap_num', 'topic_winner']             "
   ]
  },
  {
   "cell_type": "code",
   "execution_count": 2,
   "metadata": {},
   "outputs": [],
   "source": [
    "def document_breakdown(sparse_corpus):\n",
    "    # Bound even though it doesn't say much\n",
    "    print(\"Bound of LDA model: \", lda_model.bound(corpus_vect_gensim))\n",
    "\n",
    "    # Estimate for the corpus\n",
    "    topic_count = []\n",
    "    confidence = []\n",
    "    both = []\n",
    "    one_topic = 0\n",
    "    two_topic = 0\n",
    "    three_topic = 0\n",
    "    four_more_topic = 0\n",
    "    for num, doc in enumerate(range(len(sparse_corpus))):\n",
    "        item = lda_model.get_document_topics(sparse_corpus[num])\n",
    "        if len(item) == 1:\n",
    "            topic_count.append(item[0][0])\n",
    "            confidence.append(item[0][1])\n",
    "            one_topic += 1\n",
    "        else:\n",
    "            pickin_best = []\n",
    "            for it in item:\n",
    "                pickin_best.append(it[1])\n",
    "            for it in item:\n",
    "                if it[1] == max(pickin_best):\n",
    "                    topic_count.append(it[0])\n",
    "                    confidence.append(it[1])\n",
    "            if len(item) == 2:\n",
    "                two_topic += 1\n",
    "            if len(item) == 3:\n",
    "                three_topic += 1\n",
    "            if len(item) >= 4:\n",
    "                four_more_topic += 1\n",
    "# Topic winners over time\n",
    "    enumed = list(range(len(topic_count)))\n",
    "    topic_winners_time = pd.DataFrame(data = [enumed, topic_count]).T\n",
    "    topic_winners_time.columns = ['chap_num', 'topic_winner']                \n",
    "\n",
    "# Creating a scatter plot by topic, but first a dataframe\n",
    "    topic_hue = pd.DataFrame([topic_count, confidence]).T\n",
    "    topic_hue.columns = ['topic', 'confidence']\n",
    "    sns.boxplot(x=\"topic\", y=\"confidence\", data=topic_hue)\n",
    "#sns.lmplot(x=0, y=1, data= topic_hue, fit_reg=False, hue='trunc_model', legend=False, size = 8)\n",
    "\n",
    "    print(len(topic_count))\n",
    "# topic_count = []\n",
    "# # Count of different doc topics\n",
    "# for num, doc in enumerate(range(len(corpus_vect_gensim))):\n",
    "#     topic_count.append(lda_model.get_document_topics(corpus_vect_gensim[num][0][0]))\n",
    "    fig, axes = plt.subplots(ncols = 2, nrows = 2, figsize=(15,10))\n",
    "    axes[0,0].hist(topic_count, bins = num_of_topics)\n",
    "    axes[0, 0].set_title('Winning Topic Count');\n",
    "    axes[0,1].hist(confidence);\n",
    "    axes[0,1].set_title('Confidence Histogram');\n",
    "    axes[1,0].bar(x = 'chap_num', height = 'topic_winner', data = topic_winners_time);\n",
    "    axes[1,0].set_title('Winner by Chapter');\n",
    "    axes[1,1].bar(x = ['One Topic', 'Two Topic', 'Three Topic', 'Four or More Topic'], height = [one_topic, two_topic, three_topic, four_more_topic])\n",
    "    axes[1,1].set_title('Topic Classification Split')\n",
    "\n",
    "    \n",
    "#     topic_map_names = {0 : 'Progressive', 1 : 'World Order', 2 : 'Colonial', 3 : 'Establishing Empire', 5 : '1930s',\n",
    "#                6 : 'Civil War', 7 : 'America at War', 8 : 'Cold War', 9 : 'World War II' }\n",
    "\n",
    "#     replacement = topic_winners_time['topic_winner'] \n",
    "\n",
    "#     topic_winners_time['topic_winner_names'] = replacement\n",
    "\n",
    "#     topic_winners_time['topic_winner_names'] = topic_winners_time['topic_winner_names'].map(topic_map_names)\n",
    "    \n",
    "#     fig, ax = plt.subplots(figsize=(15,10))\n",
    "\n",
    "#     sns.barplot(x = 'chap_num', y = 'topic_winner', data = topic_winners_time, hue = 'topic_winner_names', palette=\"rainbow\")\n",
    "\n",
    "#     def change_width(ax, new_value) :\n",
    "#         for patch in ax.patches :\n",
    "#             current_width = patch.get_width()\n",
    "#             diff = current_width - new_value\n",
    "\n",
    "#             # we change the bar width\n",
    "#             patch.set_width(new_value)\n",
    "\n",
    "#             # we recenter the bar\n",
    "#             patch.set_x(patch.get_x() + diff * .5)\n",
    "#     plt.title('Topics of American Foreign Relations')\n",
    "#     plt.xlabel('Chapter Number')\n",
    "#     plt.ylabel(' ')\n",
    "#     plt.legend(loc = 'upper left')\n",
    "#     change_width(ax, .5)\n",
    "#     plt.show()"
   ]
  },
  {
   "cell_type": "code",
   "execution_count": 3,
   "metadata": {},
   "outputs": [],
   "source": [
    "# Creating a readable dictionary file for pyLDA and DTM\n",
    "def readable_dict(vectorized_corpus, vectorizer):\n",
    "    corpus_df = pd.DataFrame(vectorized_corpus.A, columns=vectorizer.get_feature_names())\n",
    "    corpus_all_list = []\n",
    "    for corpus in vectorized_corpus.toarray():\n",
    "        coprus_words = []\n",
    "        for idd, y in enumerate(corpus):\n",
    "            if y == 0:\n",
    "                pass\n",
    "            else:\n",
    "                coprus_words.append(corpus_df.columns[idd])\n",
    "        corpus_all_list.append(coprus_words)"
   ]
  },
  {
   "cell_type": "code",
   "execution_count": 4,
   "metadata": {},
   "outputs": [],
   "source": [
    "def word_impact(lda_model):\n",
    "        topic_words = []\n",
    "        topic_words_id = []\n",
    "        topic_impact = []\n",
    "        topic_id = []\n",
    "        for x in range(num_of_topics):\n",
    "            topic_terms = lda_model.show_topic(x, 30)\n",
    "            for y in topic_terms:\n",
    "                word, impact = y\n",
    "                topic_words.append(word)\n",
    "                topic_impact.append(impact)\n",
    "                topic_id.append(x)\n",
    "            topic_terms = lda_model.get_topic_terms(x, 30)\n",
    "            for z in topic_terms:\n",
    "                word_id, _ = z\n",
    "                topic_words_id.append(word_id)\n",
    "        word_topic_impact = pd.DataFrame([topic_words, topic_words_id, topic_impact, topic_id]).T\n",
    "        word_topic_impact.columns = ['word', 'words_id', 'impact', 'topic_num']\n",
    "        rank_count = word_topic_impact.groupby(by = 'words_id').count().sort_values('words_id', ascending = False) #.reset_index().reset_index()\n",
    "        rank_count = rank_count.sort_values('impact', ascending = False).reset_index().reset_index()\n",
    "        rank_count\n",
    "        rank_count.drop(labels = ['topic_num', 'word',], axis = 1, inplace = True)\n",
    "        rank_count.columns = ['count_topic_rank', 'words_id', 'count']\n",
    "        rank_count.head()\n",
    "        word_topic_impact['words_id'] = word_topic_impact['words_id'].astype(int)\n",
    "        word_topic_impact['topic_num'] = word_topic_impact['topic_num'].astype(int)\n",
    "        word_topic_impact['impact'] = word_topic_impact['impact'].astype(float)\n",
    "        word_topic_impact = word_topic_impact.merge(rank_count, how = 'left', on = 'words_id')\n",
    "        impact_avg = word_topic_impact.groupby(by = 'word').mean().reset_index()\n",
    "        impact_avg.drop(labels = ['words_id', 'topic_num', 'count_topic_rank', 'count'], axis = 1, inplace = True)\n",
    "        impact_avg.columns = ['word', 'impact_avg']\n",
    "        impact_avg.head()\n",
    "        word_topic_impact = word_topic_impact.merge(impact_avg, how = 'left', on = 'word')\n",
    "        return word_topic_impact.sort_values(by = 'impact_avg', ascending = False).head(15)"
   ]
  },
  {
   "cell_type": "code",
   "execution_count": 5,
   "metadata": {},
   "outputs": [],
   "source": [
    "chapters_all = pd.read_csv('./text/sec_chapters_all.csv')"
   ]
  },
  {
   "cell_type": "code",
   "execution_count": 10,
   "metadata": {},
   "outputs": [],
   "source": [
    "year_all = pd.read_csv('./text/sec_para_year.csv')"
   ]
  },
  {
   "cell_type": "code",
   "execution_count": 7,
   "metadata": {},
   "outputs": [],
   "source": [
    "date_text = pd.read_csv('./text/sec_para_date.csv')"
   ]
  },
  {
   "cell_type": "code",
   "execution_count": 8,
   "metadata": {},
   "outputs": [],
   "source": [
    "chapters_all = chapters_all.set_index('Unnamed: 0')"
   ]
  },
  {
   "cell_type": "code",
   "execution_count": 11,
   "metadata": {},
   "outputs": [
    {
     "name": "stdout",
     "output_type": "stream",
     "text": [
      "done in 22.144s.\n"
     ]
    }
   ],
   "source": [
    "\n",
    "\n",
    "num_of_topics = 10\n",
    "\n",
    "vectorizer = CountVectorizer(stop_words='english', ngram_range = (1, 3), min_df = 5, max_df = .35)\n",
    "\n",
    "\n",
    "corpus_count = vectorizer.fit_transform(year_all['para_lemma'])\n",
    "\n",
    "\n",
    "#transform to gensim acceptable objects\n",
    "vocab = vectorizer.get_feature_names()\n",
    "\n",
    "id2word = dict([(i, s) for i, s in enumerate(vocab)])\n",
    "\n",
    "corpus_vect_gensim = gensim.matutils.Sparse2Corpus(corpus_count, documents_columns=False)\n",
    "\n",
    "readable_dict(corpus_count, vectorizer)\n",
    "t0 = time()\n",
    "# Build LDA model\n",
    "lda_model = gensim.models.ldamodel.LdaModel(corpus=corpus_vect_gensim,\n",
    "                                           id2word=id2word,\n",
    "                                           num_topics=num_of_topics, \n",
    "                                           update_every=1,\n",
    "                                           passes=10,\n",
    "                                           per_word_topics=True,\n",
    "                                           alpha='asymmetric',\n",
    "                                           eta = .15,\n",
    "                                            decay = .7,\n",
    "                                            random_state = 33\n",
    "                                           )\n",
    "\n",
    "print(\"done in %0.3fs.\" % (time() - t0))"
   ]
  },
  {
   "cell_type": "code",
   "execution_count": 12,
   "metadata": {},
   "outputs": [
    {
     "data": {
      "text/plain": [
       "(1465, 4793)"
      ]
     },
     "execution_count": 12,
     "metadata": {},
     "output_type": "execute_result"
    }
   ],
   "source": [
    "corpus_count.shape"
   ]
  },
  {
   "cell_type": "code",
   "execution_count": 13,
   "metadata": {},
   "outputs": [
    {
     "data": {
      "text/plain": [
       "<1465x4793 sparse matrix of type '<class 'numpy.int64'>'\n",
       "\twith 100551 stored elements in Compressed Sparse Row format>"
      ]
     },
     "execution_count": 13,
     "metadata": {},
     "output_type": "execute_result"
    }
   ],
   "source": [
    "corpus_count"
   ]
  },
  {
   "cell_type": "code",
   "execution_count": 1660,
   "metadata": {},
   "outputs": [],
   "source": [
    "readable_dict(corpus_count, vectorizer)"
   ]
  },
  {
   "cell_type": "code",
   "execution_count": 1661,
   "metadata": {},
   "outputs": [],
   "source": [
    "# # Build LDA model\n",
    "# lda_model = gensim.models.ldamodel.LdaModel(corpus=corpus_vect_gensim,\n",
    "#                                            id2word=id2word,\n",
    "#                                            num_topics=num_of_topics, \n",
    "#                                            update_every=1,\n",
    "#                                            passes=10,\n",
    "#                                            per_word_topics=True,\n",
    "#                                            alpha='asymmetric',\n",
    "#                                            eta = 1,\n",
    "#                                             decay = .7\n",
    "#                                            )"
   ]
  },
  {
   "cell_type": "code",
   "execution_count": 1697,
   "metadata": {},
   "outputs": [],
   "source": [
    "fname = datapath(\"/Users/bengreer/Documents/github/DSI-US-5/Capstone/gensim_lda_model/sec_chap_equal\")\n",
    "\n",
    "lda_model_id = LdaModel.load(fname, mmap='r')"
   ]
  },
  {
   "cell_type": "code",
   "execution_count": 1708,
   "metadata": {},
   "outputs": [
    {
     "name": "stdout",
     "output_type": "stream",
     "text": [
      "Topic 0: (0, '0.020*\"missionary\" + 0.017*\"seward\" + 0.011*\"destiny\" + 0.010*\"indian\" + 0.009*\"hawaii\" + 0.008*\"cotton\" + 0.008*\"ocean\" + 0.007*\"hawaiian\" + 0.007*\"manifest\" + 0.007*\"manifest destiny\" + 0.007*\"railroad\" + 0.006*\"native\" + 0.006*\"merchant\" + 0.006*\"slave\" + 0.005*\"vessel\" + 0.005*\"lincoln\" + 0.005*\"jackson\" + 0.005*\"expedition\" + 0.005*\"1890\" + 0.005*\"california\"')\n",
      "Topic 1: (1, '0.021*\"mckinley\" + 0.010*\"1898\" + 0.009*\"tariff\" + 0.008*\"spain\" + 0.007*\"cuban\" + 0.007*\"carnegie\" + 0.006*\"1890\" + 0.006*\"philippine\" + 0.006*\"seward\" + 0.006*\"annexation\" + 0.006*\"canada\" + 0.006*\"steel\" + 0.006*\"railway\" + 0.005*\"canal\" + 0.005*\"caribbean\" + 0.005*\"oil\" + 0.005*\"fleet\" + 0.005*\"sugar\" + 0.005*\"1890s\" + 0.005*\"monroe\"')\n",
      "Topic 2: (2, '0.020*\"soviet\" + 0.017*\"league\" + 0.014*\"postwar\" + 0.014*\"soviet union\" + 0.010*\"conference\" + 0.010*\"1920s\" + 0.008*\"communist\" + 0.007*\"arrangement\" + 0.006*\"1919\" + 0.006*\"state britain\" + 0.006*\"united state britain\" + 0.005*\"paris\" + 0.005*\"league nation\" + 0.005*\"stalin\" + 0.005*\"peace treaty\" + 0.005*\"health\" + 0.005*\"light\" + 0.004*\"italy\" + 0.004*\"moscow\" + 0.004*\"internationalism\"')\n",
      "Topic 3: (3, '0.098*\"soviet\" + 0.021*\"soviet union\" + 0.017*\"communist\" + 0.012*\"stalin\" + 0.011*\"nuclear\" + 0.008*\"korea\" + 0.007*\"moscow\" + 0.006*\"cold\" + 0.006*\"chiang\" + 0.006*\"cold war\" + 0.006*\"iran\" + 0.006*\"taiwan\" + 0.005*\"middle east\" + 0.005*\"korean\" + 0.005*\"cuban\" + 0.005*\"kennedy\" + 0.004*\"trouble\" + 0.004*\"withdraw\" + 0.003*\"nuclear weapon\" + 0.003*\"superpower\"')\n",
      "Topic 4: (4, '0.081*\"lincoln\" + 0.022*\"slavery\" + 0.019*\"slave\" + 0.013*\"federal\" + 0.010*\"seward\" + 0.010*\"address\" + 0.007*\"ultimate\" + 0.006*\"blockade\" + 0.006*\"cotton\" + 0.005*\"god\" + 0.005*\"declaration independence\" + 0.004*\"spain\" + 0.004*\"rebellion\" + 0.004*\"moral\" + 0.004*\"purpose\" + 0.004*\"violence\" + 0.004*\"constitute\" + 0.004*\"southerner\" + 0.003*\"monroe\" + 0.003*\"crucial\"')\n",
      "Topic 5: (5, '0.045*\"soviet\" + 0.027*\"soviet union\" + 0.016*\"postwar\" + 0.010*\"stalin\" + 0.010*\"conference\" + 0.009*\"neutrality\" + 0.008*\"hitler\" + 0.007*\"big\" + 0.006*\"poland\" + 0.006*\"communist\" + 0.006*\"atlantic\" + 0.006*\"meantime\" + 0.006*\"italy\" + 0.006*\"aggression\" + 0.005*\"arrangement\" + 0.005*\"postwar world\" + 0.004*\"occupation\" + 0.004*\"chiang\" + 0.004*\"1930\" + 0.004*\"britain france\"')\n",
      "Topic 6: (6, '0.041*\"vietnam\" + 0.029*\"slavery\" + 0.022*\"lincoln\" + 0.018*\"slave\" + 0.017*\"johnson\" + 0.015*\"kennedy\" + 0.010*\"communist\" + 0.006*\"1850\" + 0.006*\"expansionist\" + 0.005*\"southeast\" + 0.004*\"cuban\" + 0.004*\"candidate\" + 0.004*\"annexation\" + 0.004*\"southerner\" + 0.004*\"mexican\" + 0.004*\"acquire\" + 0.004*\"dollar\" + 0.004*\"federal\" + 0.003*\"scheme\" + 0.003*\"robert\"')\n",
      "Topic 7: (7, '0.016*\"league\" + 0.014*\"postwar\" + 0.011*\"intellectual\" + 0.010*\"internationalism\" + 0.008*\"gold\" + 0.007*\"1920s\" + 0.006*\"league nation\" + 0.006*\"conference\" + 0.006*\"international affair\" + 0.006*\"debt\" + 0.005*\"1917\" + 0.005*\"promote\" + 0.005*\"arrangement\" + 0.005*\"paris\" + 0.005*\"fourteen\" + 0.005*\"currency\" + 0.004*\"rate\" + 0.004*\"wartime\" + 0.004*\"wilsonian\" + 0.004*\"loan\"')\n",
      "Topic 8: (8, '0.021*\"franklin\" + 0.019*\"jefferson\" + 0.014*\"indian\" + 0.013*\"neutral\" + 0.011*\"ohio\" + 0.008*\"virginia\" + 0.008*\"madison\" + 0.008*\"north america\" + 0.008*\"anglo\" + 0.007*\"vessel\" + 0.006*\"embargo\" + 0.006*\"frontier\" + 0.005*\"river\" + 0.005*\"unity\" + 0.005*\"resistance\" + 0.005*\"adams\" + 0.004*\"spain\" + 0.004*\"formal\" + 0.004*\"adam\" + 0.004*\"expedition\"')\n",
      "Topic 9: (9, '0.021*\"texas\" + 0.015*\"monroe\" + 0.013*\"slavery\" + 0.011*\"mexican\" + 0.010*\"slave\" + 0.009*\"expansionist\" + 0.009*\"california\" + 0.009*\"spanish\" + 0.008*\"jackson\" + 0.008*\"annexation\" + 0.008*\"river\" + 0.008*\"spain\" + 0.008*\"adams\" + 0.006*\"adam\" + 0.006*\"coast\" + 0.005*\"indian\" + 0.005*\"anglo\" + 0.005*\"florida\" + 0.005*\"madison\" + 0.004*\"jefferson\"')\n"
     ]
    }
   ],
   "source": [
    "for idx, x in enumerate(lda_model.print_topics(num_words = 20)):\n",
    "    print(\"Topic {}:\".format(idx), x)\n",
    "doc_lda = lda_model[corpus_vect_gensim]"
   ]
  },
  {
   "cell_type": "code",
   "execution_count": 1699,
   "metadata": {},
   "outputs": [
    {
     "data": {
      "text/plain": [
       "[(0,\n",
       "  '0.009*\"british\" + 0.008*\"government\" + 0.006*\"treaty\" + 0.005*\"force\" + 0.005*\"washington\" + 0.005*\"country\" + 0.005*\"american\" + 0.004*\"great\" + 0.004*\"britain\" + 0.004*\"new\" + 0.004*\"power\" + 0.004*\"french\" + 0.003*\"polk\" + 0.003*\"president\" + 0.003*\"japan\" + 0.003*\"claim\" + 0.003*\"mexico\" + 0.003*\"congress\" + 0.003*\"western\" + 0.003*\"right\"'),\n",
       " (1,\n",
       "  '0.015*\"china\" + 0.010*\"chinese\" + 0.007*\"policy\" + 0.007*\"world\" + 0.007*\"foreign\" + 0.006*\"power\" + 0.006*\"country\" + 0.006*\"new\" + 0.005*\"economic\" + 0.005*\"communist\" + 0.005*\"force\" + 0.005*\"president\" + 0.005*\"nation\" + 0.004*\"american\" + 0.004*\"affair\" + 0.004*\"government\" + 0.003*\"come\" + 0.003*\"asia\" + 0.003*\"people\" + 0.003*\"control\"'),\n",
       " (2,\n",
       "  '0.009*\"new\" + 0.008*\"world\" + 0.008*\"trade\" + 0.005*\"mckinley\" + 0.005*\"million\" + 0.005*\"market\" + 0.004*\"foreign\" + 0.004*\"tariff\" + 0.004*\"gold\" + 0.004*\"order\" + 0.004*\"economic\" + 0.004*\"policy\" + 0.004*\"american\" + 0.004*\"international\" + 0.004*\"nation\" + 0.003*\"british\" + 0.003*\"industrial\" + 0.003*\"percent\" + 0.003*\"export\" + 0.003*\"capital\"'),\n",
       " (3,\n",
       "  '0.007*\"slavery\" + 0.006*\"american\" + 0.006*\"new\" + 0.006*\"president\" + 0.005*\"power\" + 0.005*\"policy\" + 0.005*\"slave\" + 0.005*\"south\" + 0.005*\"monroe\" + 0.005*\"lincoln\" + 0.005*\"texas\" + 0.004*\"union\" + 0.004*\"time\" + 0.004*\"foreign\" + 0.004*\"white\" + 0.004*\"british\" + 0.004*\"independence\" + 0.003*\"america\" + 0.003*\"republican\" + 0.003*\"congress\"'),\n",
       " (4,\n",
       "  '0.007*\"american\" + 0.006*\"north\" + 0.006*\"korea\" + 0.005*\"president\" + 0.005*\"japan\" + 0.005*\"power\" + 0.005*\"control\" + 0.005*\"new\" + 0.005*\"russia\" + 0.004*\"treaty\" + 0.004*\"island\" + 0.004*\"japanese\" + 0.004*\"land\" + 0.004*\"government\" + 0.004*\"great\" + 0.004*\"british\" + 0.004*\"russian\" + 0.003*\"policy\" + 0.003*\"secretary\" + 0.003*\"seward\"'),\n",
       " (5,\n",
       "  '0.007*\"power\" + 0.006*\"people\" + 0.006*\"new\" + 0.005*\"britain\" + 0.005*\"great\" + 0.005*\"british\" + 0.005*\"world\" + 0.005*\"nation\" + 0.005*\"union\" + 0.005*\"american\" + 0.004*\"destiny\" + 0.004*\"time\" + 0.004*\"america\" + 0.003*\"washington\" + 0.003*\"mexico\" + 0.003*\"future\" + 0.003*\"right\" + 0.003*\"lincoln\" + 0.003*\"naval\" + 0.003*\"president\"'),\n",
       " (6,\n",
       "  '0.008*\"world\" + 0.007*\"peace\" + 0.006*\"power\" + 0.006*\"new\" + 0.005*\"blaine\" + 0.005*\"year\" + 0.005*\"economic\" + 0.004*\"navy\" + 0.004*\"nation\" + 0.004*\"cuban\" + 0.004*\"great\" + 0.003*\"idea\" + 0.003*\"force\" + 0.003*\"international\" + 0.003*\"america\" + 0.003*\"grow\" + 0.003*\"good\" + 0.003*\"country\" + 0.003*\"president\" + 0.003*\"market\"'),\n",
       " (7,\n",
       "  '0.008*\"iraq\" + 0.008*\"force\" + 0.007*\"bush\" + 0.006*\"israel\" + 0.006*\"vietnam\" + 0.006*\"north\" + 0.006*\"attack\" + 0.005*\"administration\" + 0.005*\"troop\" + 0.005*\"israeli\" + 0.005*\"people\" + 0.005*\"man\" + 0.005*\"vietnamese\" + 0.004*\"american\" + 0.004*\"arab\" + 0.004*\"end\" + 0.004*\"power\" + 0.004*\"support\" + 0.004*\"peace\" + 0.004*\"iraqi\"'),\n",
       " (8,\n",
       "  '0.006*\"nation\" + 0.006*\"force\" + 0.006*\"world\" + 0.006*\"british\" + 0.005*\"international\" + 0.005*\"cultural\" + 0.004*\"home\" + 0.004*\"effort\" + 0.004*\"washington\" + 0.004*\"lead\" + 0.003*\"major\" + 0.003*\"league\" + 0.003*\"new\" + 0.003*\"organization\" + 0.003*\"peace\" + 0.003*\"american\" + 0.003*\"people\" + 0.003*\"country\" + 0.003*\"eisenhower\" + 0.003*\"military\"'),\n",
       " (9,\n",
       "  '0.049*\"soviet\" + 0.012*\"soviet union\" + 0.011*\"union\" + 0.010*\"world\" + 0.007*\"stalin\" + 0.007*\"power\" + 0.007*\"germany\" + 0.007*\"military\" + 0.006*\"leader\" + 0.006*\"german\" + 0.006*\"force\" + 0.005*\"nation\" + 0.005*\"europe\" + 0.004*\"khrushchev\" + 0.004*\"international\" + 0.004*\"american\" + 0.004*\"nuclear\" + 0.003*\"come\" + 0.003*\"economic\" + 0.003*\"truman\"')]"
      ]
     },
     "execution_count": 1699,
     "metadata": {},
     "output_type": "execute_result"
    }
   ],
   "source": [
    "lda_model.print_topics(num_words = 20)"
   ]
  },
  {
   "cell_type": "code",
   "execution_count": null,
   "metadata": {},
   "outputs": [],
   "source": [
    "document_breakdown(corpus_vect_gensim)"
   ]
  },
  {
   "cell_type": "code",
   "execution_count": 14,
   "metadata": {},
   "outputs": [
    {
     "ename": "NameError",
     "evalue": "name 'topic_winners_time' is not defined",
     "output_type": "error",
     "traceback": [
      "\u001b[0;31m---------------------------------------------------------------------------\u001b[0m",
      "\u001b[0;31mNameError\u001b[0m                                 Traceback (most recent call last)",
      "\u001b[0;32m<ipython-input-14-9c3eb17d5861>\u001b[0m in \u001b[0;36m<module>\u001b[0;34m\u001b[0m\n\u001b[1;32m      2\u001b[0m                6 : 'Civil War', 7 : 'America at War - lukewarm', 8 : 'Cold War', 9 : 'World War II' }\n\u001b[1;32m      3\u001b[0m \u001b[0;34m\u001b[0m\u001b[0m\n\u001b[0;32m----> 4\u001b[0;31m \u001b[0mreplacement\u001b[0m \u001b[0;34m=\u001b[0m \u001b[0mtopic_winners_time\u001b[0m\u001b[0;34m[\u001b[0m\u001b[0;34m'topic_winner'\u001b[0m\u001b[0;34m]\u001b[0m\u001b[0;34m\u001b[0m\u001b[0m\n\u001b[0m\u001b[1;32m      5\u001b[0m \u001b[0;34m\u001b[0m\u001b[0m\n\u001b[1;32m      6\u001b[0m \u001b[0mtopic_winners_time\u001b[0m\u001b[0;34m[\u001b[0m\u001b[0;34m'topic_winner_names'\u001b[0m\u001b[0;34m]\u001b[0m \u001b[0;34m=\u001b[0m \u001b[0mreplacement\u001b[0m\u001b[0;34m\u001b[0m\u001b[0m\n",
      "\u001b[0;31mNameError\u001b[0m: name 'topic_winners_time' is not defined"
     ]
    }
   ],
   "source": [
    "topic_map_names = {0 : 'Progressive', 1 : 'World Order', 2 : 'Colonial', 3 : 'Establishing Empire', 5 : '1930s',\n",
    "               6 : 'Civil War', 7 : 'America at War - lukewarm', 8 : 'Cold War', 9 : 'World War II' }\n",
    "\n",
    "replacement = topic_winners_time['topic_winner'] \n",
    "\n",
    "topic_winners_time['topic_winner_names'] = replacement\n",
    "\n",
    "topic_winners_time['topic_winner_names'] = topic_winners_time['topic_winner_names'].map(topic_map_names)\n",
    "# for x in topic_winners_time['topic_winner']:\n",
    "#     str(x).map(x, topic_map_names[x])"
   ]
  },
  {
   "cell_type": "code",
   "execution_count": 1268,
   "metadata": {},
   "outputs": [
    {
     "data": {
      "text/plain": [
       "'Progressive'"
      ]
     },
     "execution_count": 1268,
     "metadata": {},
     "output_type": "execute_result"
    }
   ],
   "source": [
    "topic_map_names[0]"
   ]
  },
  {
   "cell_type": "code",
   "execution_count": null,
   "metadata": {},
   "outputs": [],
   "source": [
    "fig, ax = plt.subplots(figsize=(15,10))\n",
    "\n",
    "sns.barplot(x = 'chap_num', y = 'topic_winner', data = topic_winners_time, hue = 'topic_winner_names', palette=\"rainbow\")\n",
    "\n",
    "def change_width(ax, new_value) :\n",
    "    for patch in ax.patches :\n",
    "        current_width = patch.get_width()\n",
    "        diff = current_width - new_value\n",
    "\n",
    "        # we change the bar width\n",
    "        patch.set_width(new_value)\n",
    "\n",
    "        # we recenter the bar\n",
    "        patch.set_x(patch.get_x() + diff * .5)\n",
    "plt.title('Topics of American Foreign Relations')\n",
    "plt.xlabel('Chapter Number')\n",
    "plt.ylabel(' ')\n",
    "plt.legend()\n",
    "change_width(ax, .5)\n",
    "plt.show()"
   ]
  },
  {
   "cell_type": "code",
   "execution_count": 1707,
   "metadata": {},
   "outputs": [
    {
     "data": {
      "text/plain": [
       "-0.6919493152718381"
      ]
     },
     "execution_count": 1707,
     "metadata": {},
     "output_type": "execute_result"
    }
   ],
   "source": [
    "cm = CoherenceModel(model= lda_model, corpus = corpus_vect_gensim, coherence='u_mass')\n",
    "coherence = cm.get_coherence()  # get coherence value\n",
    "coherence"
   ]
  },
  {
   "cell_type": "code",
   "execution_count": 1136,
   "metadata": {},
   "outputs": [
    {
     "data": {
      "text/html": [
       "<div>\n",
       "<style scoped>\n",
       "    .dataframe tbody tr th:only-of-type {\n",
       "        vertical-align: middle;\n",
       "    }\n",
       "\n",
       "    .dataframe tbody tr th {\n",
       "        vertical-align: top;\n",
       "    }\n",
       "\n",
       "    .dataframe thead th {\n",
       "        text-align: right;\n",
       "    }\n",
       "</style>\n",
       "<table border=\"1\" class=\"dataframe\">\n",
       "  <thead>\n",
       "    <tr style=\"text-align: right;\">\n",
       "      <th></th>\n",
       "      <th>word</th>\n",
       "      <th>words_id</th>\n",
       "      <th>impact</th>\n",
       "      <th>topic_num</th>\n",
       "      <th>count_topic_rank</th>\n",
       "      <th>count</th>\n",
       "      <th>impact_avg</th>\n",
       "    </tr>\n",
       "  </thead>\n",
       "  <tbody>\n",
       "    <tr>\n",
       "      <th>270</th>\n",
       "      <td>franklin</td>\n",
       "      <td>764</td>\n",
       "      <td>0.038861</td>\n",
       "      <td>9</td>\n",
       "      <td>85</td>\n",
       "      <td>1</td>\n",
       "      <td>0.038861</td>\n",
       "    </tr>\n",
       "    <tr>\n",
       "      <th>150</th>\n",
       "      <td>league</td>\n",
       "      <td>998</td>\n",
       "      <td>0.021175</td>\n",
       "      <td>5</td>\n",
       "      <td>237</td>\n",
       "      <td>1</td>\n",
       "      <td>0.021175</td>\n",
       "    </tr>\n",
       "    <tr>\n",
       "      <th>0</th>\n",
       "      <td>vietnam</td>\n",
       "      <td>1863</td>\n",
       "      <td>0.027712</td>\n",
       "      <td>0</td>\n",
       "      <td>53</td>\n",
       "      <td>2</td>\n",
       "      <td>0.018834</td>\n",
       "    </tr>\n",
       "    <tr>\n",
       "      <th>33</th>\n",
       "      <td>vietnam</td>\n",
       "      <td>1863</td>\n",
       "      <td>0.009955</td>\n",
       "      <td>1</td>\n",
       "      <td>53</td>\n",
       "      <td>2</td>\n",
       "      <td>0.018834</td>\n",
       "    </tr>\n",
       "    <tr>\n",
       "      <th>360</th>\n",
       "      <td>mckinley</td>\n",
       "      <td>1065</td>\n",
       "      <td>0.028873</td>\n",
       "      <td>12</td>\n",
       "      <td>35</td>\n",
       "      <td>2</td>\n",
       "      <td>0.016736</td>\n",
       "    </tr>\n",
       "    <tr>\n",
       "      <th>194</th>\n",
       "      <td>mckinley</td>\n",
       "      <td>1065</td>\n",
       "      <td>0.004600</td>\n",
       "      <td>6</td>\n",
       "      <td>35</td>\n",
       "      <td>2</td>\n",
       "      <td>0.016736</td>\n",
       "    </tr>\n",
       "    <tr>\n",
       "      <th>148</th>\n",
       "      <td>soviets</td>\n",
       "      <td>1634</td>\n",
       "      <td>0.003021</td>\n",
       "      <td>4</td>\n",
       "      <td>0</td>\n",
       "      <td>5</td>\n",
       "      <td>0.015446</td>\n",
       "    </tr>\n",
       "    <tr>\n",
       "      <th>22</th>\n",
       "      <td>soviets</td>\n",
       "      <td>1634</td>\n",
       "      <td>0.002953</td>\n",
       "      <td>0</td>\n",
       "      <td>0</td>\n",
       "      <td>5</td>\n",
       "      <td>0.015446</td>\n",
       "    </tr>\n",
       "    <tr>\n",
       "      <th>241</th>\n",
       "      <td>soviets</td>\n",
       "      <td>1634</td>\n",
       "      <td>0.013603</td>\n",
       "      <td>8</td>\n",
       "      <td>0</td>\n",
       "      <td>5</td>\n",
       "      <td>0.015446</td>\n",
       "    </tr>\n",
       "    <tr>\n",
       "      <th>30</th>\n",
       "      <td>soviets</td>\n",
       "      <td>1634</td>\n",
       "      <td>0.032950</td>\n",
       "      <td>1</td>\n",
       "      <td>0</td>\n",
       "      <td>5</td>\n",
       "      <td>0.015446</td>\n",
       "    </tr>\n",
       "    <tr>\n",
       "      <th>330</th>\n",
       "      <td>soviets</td>\n",
       "      <td>1634</td>\n",
       "      <td>0.024702</td>\n",
       "      <td>11</td>\n",
       "      <td>0</td>\n",
       "      <td>5</td>\n",
       "      <td>0.015446</td>\n",
       "    </tr>\n",
       "    <tr>\n",
       "      <th>90</th>\n",
       "      <td>neutral</td>\n",
       "      <td>1133</td>\n",
       "      <td>0.019073</td>\n",
       "      <td>3</td>\n",
       "      <td>48</td>\n",
       "      <td>2</td>\n",
       "      <td>0.014452</td>\n",
       "    </tr>\n",
       "    <tr>\n",
       "      <th>274</th>\n",
       "      <td>neutral</td>\n",
       "      <td>1133</td>\n",
       "      <td>0.009830</td>\n",
       "      <td>9</td>\n",
       "      <td>48</td>\n",
       "      <td>2</td>\n",
       "      <td>0.014452</td>\n",
       "    </tr>\n",
       "    <tr>\n",
       "      <th>272</th>\n",
       "      <td>virginia</td>\n",
       "      <td>1870</td>\n",
       "      <td>0.013985</td>\n",
       "      <td>9</td>\n",
       "      <td>203</td>\n",
       "      <td>1</td>\n",
       "      <td>0.013985</td>\n",
       "    </tr>\n",
       "    <tr>\n",
       "      <th>210</th>\n",
       "      <td>seward</td>\n",
       "      <td>1568</td>\n",
       "      <td>0.035738</td>\n",
       "      <td>7</td>\n",
       "      <td>3</td>\n",
       "      <td>3</td>\n",
       "      <td>0.013957</td>\n",
       "    </tr>\n",
       "  </tbody>\n",
       "</table>\n",
       "</div>"
      ],
      "text/plain": [
       "         word  words_id    impact  topic_num  count_topic_rank  count  \\\n",
       "270  franklin       764  0.038861          9                85      1   \n",
       "150    league       998  0.021175          5               237      1   \n",
       "0     vietnam      1863  0.027712          0                53      2   \n",
       "33    vietnam      1863  0.009955          1                53      2   \n",
       "360  mckinley      1065  0.028873         12                35      2   \n",
       "194  mckinley      1065  0.004600          6                35      2   \n",
       "148   soviets      1634  0.003021          4                 0      5   \n",
       "22    soviets      1634  0.002953          0                 0      5   \n",
       "241   soviets      1634  0.013603          8                 0      5   \n",
       "30    soviets      1634  0.032950          1                 0      5   \n",
       "330   soviets      1634  0.024702         11                 0      5   \n",
       "90    neutral      1133  0.019073          3                48      2   \n",
       "274   neutral      1133  0.009830          9                48      2   \n",
       "272  virginia      1870  0.013985          9               203      1   \n",
       "210    seward      1568  0.035738          7                 3      3   \n",
       "\n",
       "     impact_avg  \n",
       "270    0.038861  \n",
       "150    0.021175  \n",
       "0      0.018834  \n",
       "33     0.018834  \n",
       "360    0.016736  \n",
       "194    0.016736  \n",
       "148    0.015446  \n",
       "22     0.015446  \n",
       "241    0.015446  \n",
       "30     0.015446  \n",
       "330    0.015446  \n",
       "90     0.014452  \n",
       "274    0.014452  \n",
       "272    0.013985  \n",
       "210    0.013957  "
      ]
     },
     "execution_count": 1136,
     "metadata": {},
     "output_type": "execute_result"
    }
   ],
   "source": [
    "slim = word_impact(lda_model)\n",
    "slim"
   ]
  },
  {
   "cell_type": "code",
   "execution_count": null,
   "metadata": {},
   "outputs": [],
   "source": [
    "# Creating a readable dictionary file for pyLDA and DTM\n",
    "\n",
    "corpus_df = pd.DataFrame(corpus_count.A, columns=vectorizer.get_feature_names())\n",
    "corpus_all_list = []\n",
    "for corpus in corpus_count.toarray():\n",
    "    coprus_words = []\n",
    "    for idd, y in enumerate(corpus):\n",
    "        if y == 0:\n",
    "            pass\n",
    "        else:\n",
    "            coprus_words.append(corpus_df.columns[idd])\n",
    "    corpus_all_list.append(coprus_words)"
   ]
  },
  {
   "cell_type": "code",
   "execution_count": null,
   "metadata": {},
   "outputs": [],
   "source": [
    "# Setting up a pyLDA readable dict\n",
    "id2word = corpora.Dictionary(corpus_all_list)\n",
    "\n",
    "# Compute Perplexity\n",
    "print('\\nPerplexity: ', lda_model.log_perplexity(corpus_vect_gensim))  # a measure of how good the model is. lower the better.\n",
    "\n",
    "pyLDAvis.enable_notebook()\n",
    "vis = pyLDAvis.gensim.prepare(lda_model, corpus_vect_gensim, id2word)\n",
    "vis\n",
    "\n"
   ]
  },
  {
   "cell_type": "markdown",
   "metadata": {},
   "source": [
    " '0.047*\"vietnam\" + 0.019*\"johnson\" + 0.015*\"kennedy\" + 0.007*\"advisers\" + 0.006*\"1917\" + 0.006*\"southeast\" + 0.006*\"american military\" + 0.006*\"american troops\" + 0.005*\"communist\" + 0.005*\"expedition\" + 0.005*\"points\" + 0.005*\"fourteen\" + 0.004*\"secret\" + 0.004*\"loss\" + 0.004*\"germans\" + 0.003*\"combat\" + 0.003*\"wartime\" + 0.003*\"paris\" + 0.003*\"nationality\" + 0.003*\"postwar\"'),\n",
    " (8,"
   ]
  },
  {
   "cell_type": "code",
   "execution_count": 1342,
   "metadata": {},
   "outputs": [
    {
     "data": {
      "text/plain": [
       "[('naval base', 0.33084410429000854),\n",
       " ('world economy', 0.31406405568122864),\n",
       " ('hawaii', 0.30527088046073914),\n",
       " ('states soviet union', 0.30237674713134766),\n",
       " ('model', 0.2927151620388031),\n",
       " ('relations united', 0.29063913226127625),\n",
       " ('importantly', 0.2870829701423645),\n",
       " ('turkey', 0.2865292429924011),\n",
       " ('black', 0.2846500277519226),\n",
       " ('progress', 0.2772141098976135)]"
      ]
     },
     "execution_count": 1342,
     "metadata": {},
     "output_type": "execute_result"
    }
   ],
   "source": [
    "\"fourteen\", '1917', 'paris', 'points'\n",
    "\n",
    "# from gensim.models import Word2Vec\n",
    "corpus_word_vec = Word2Vec(corpus_all_list)\n",
    "corpus_word_vec.most_similar(['17'],['1917'])"
   ]
  },
  {
   "cell_type": "code",
   "execution_count": 1113,
   "metadata": {},
   "outputs": [],
   "source": [
    "pylda_table = vis.topic_info"
   ]
  },
  {
   "cell_type": "code",
   "execution_count": 1280,
   "metadata": {},
   "outputs": [
    {
     "data": {
      "text/html": [
       "<div>\n",
       "<style scoped>\n",
       "    .dataframe tbody tr th:only-of-type {\n",
       "        vertical-align: middle;\n",
       "    }\n",
       "\n",
       "    .dataframe tbody tr th {\n",
       "        vertical-align: top;\n",
       "    }\n",
       "\n",
       "    .dataframe thead th {\n",
       "        text-align: right;\n",
       "    }\n",
       "</style>\n",
       "<table border=\"1\" class=\"dataframe\">\n",
       "  <thead>\n",
       "    <tr style=\"text-align: right;\">\n",
       "      <th></th>\n",
       "      <th>Topic</th>\n",
       "      <th>Freq</th>\n",
       "      <th>Term</th>\n",
       "    </tr>\n",
       "    <tr>\n",
       "      <th>term</th>\n",
       "      <th></th>\n",
       "      <th></th>\n",
       "      <th></th>\n",
       "    </tr>\n",
       "  </thead>\n",
       "  <tbody>\n",
       "    <tr>\n",
       "      <th>1226</th>\n",
       "      <td>1</td>\n",
       "      <td>0.077977</td>\n",
       "      <td>12</td>\n",
       "    </tr>\n",
       "    <tr>\n",
       "      <th>1226</th>\n",
       "      <td>2</td>\n",
       "      <td>0.155954</td>\n",
       "      <td>12</td>\n",
       "    </tr>\n",
       "    <tr>\n",
       "      <th>1226</th>\n",
       "      <td>3</td>\n",
       "      <td>0.311908</td>\n",
       "      <td>12</td>\n",
       "    </tr>\n",
       "    <tr>\n",
       "      <th>1226</th>\n",
       "      <td>8</td>\n",
       "      <td>0.155954</td>\n",
       "      <td>12</td>\n",
       "    </tr>\n",
       "    <tr>\n",
       "      <th>1226</th>\n",
       "      <td>9</td>\n",
       "      <td>0.155954</td>\n",
       "      <td>12</td>\n",
       "    </tr>\n",
       "    <tr>\n",
       "      <th>1933</th>\n",
       "      <td>1</td>\n",
       "      <td>0.304488</td>\n",
       "      <td>1865</td>\n",
       "    </tr>\n",
       "    <tr>\n",
       "      <th>1933</th>\n",
       "      <td>2</td>\n",
       "      <td>0.152244</td>\n",
       "      <td>1865</td>\n",
       "    </tr>\n",
       "    <tr>\n",
       "      <th>1933</th>\n",
       "      <td>3</td>\n",
       "      <td>0.228366</td>\n",
       "      <td>1865</td>\n",
       "    </tr>\n",
       "    <tr>\n",
       "      <th>1933</th>\n",
       "      <td>5</td>\n",
       "      <td>0.076122</td>\n",
       "      <td>1865</td>\n",
       "    </tr>\n",
       "    <tr>\n",
       "      <th>1933</th>\n",
       "      <td>7</td>\n",
       "      <td>0.076122</td>\n",
       "      <td>1865</td>\n",
       "    </tr>\n",
       "    <tr>\n",
       "      <th>1933</th>\n",
       "      <td>9</td>\n",
       "      <td>0.076122</td>\n",
       "      <td>1865</td>\n",
       "    </tr>\n",
       "    <tr>\n",
       "      <th>1933</th>\n",
       "      <td>10</td>\n",
       "      <td>0.076122</td>\n",
       "      <td>1865</td>\n",
       "    </tr>\n",
       "    <tr>\n",
       "      <th>2039</th>\n",
       "      <td>1</td>\n",
       "      <td>0.061199</td>\n",
       "      <td>1914</td>\n",
       "    </tr>\n",
       "    <tr>\n",
       "      <th>2039</th>\n",
       "      <td>3</td>\n",
       "      <td>0.305995</td>\n",
       "      <td>1914</td>\n",
       "    </tr>\n",
       "    <tr>\n",
       "      <th>2039</th>\n",
       "      <td>4</td>\n",
       "      <td>0.428393</td>\n",
       "      <td>1914</td>\n",
       "    </tr>\n",
       "    <tr>\n",
       "      <th>2039</th>\n",
       "      <td>6</td>\n",
       "      <td>0.122398</td>\n",
       "      <td>1914</td>\n",
       "    </tr>\n",
       "    <tr>\n",
       "      <th>2039</th>\n",
       "      <td>7</td>\n",
       "      <td>0.061199</td>\n",
       "      <td>1914</td>\n",
       "    </tr>\n",
       "    <tr>\n",
       "      <th>8</th>\n",
       "      <td>1</td>\n",
       "      <td>0.024672</td>\n",
       "      <td>200</td>\n",
       "    </tr>\n",
       "    <tr>\n",
       "      <th>8</th>\n",
       "      <td>2</td>\n",
       "      <td>0.024672</td>\n",
       "      <td>200</td>\n",
       "    </tr>\n",
       "    <tr>\n",
       "      <th>8</th>\n",
       "      <td>3</td>\n",
       "      <td>0.814169</td>\n",
       "      <td>200</td>\n",
       "    </tr>\n",
       "    <tr>\n",
       "      <th>8</th>\n",
       "      <td>4</td>\n",
       "      <td>0.049344</td>\n",
       "      <td>200</td>\n",
       "    </tr>\n",
       "    <tr>\n",
       "      <th>8</th>\n",
       "      <td>8</td>\n",
       "      <td>0.049344</td>\n",
       "      <td>200</td>\n",
       "    </tr>\n",
       "    <tr>\n",
       "      <th>8</th>\n",
       "      <td>9</td>\n",
       "      <td>0.024672</td>\n",
       "      <td>200</td>\n",
       "    </tr>\n",
       "    <tr>\n",
       "      <th>10</th>\n",
       "      <td>2</td>\n",
       "      <td>0.206391</td>\n",
       "      <td>28</td>\n",
       "    </tr>\n",
       "    <tr>\n",
       "      <th>10</th>\n",
       "      <td>3</td>\n",
       "      <td>0.171992</td>\n",
       "      <td>28</td>\n",
       "    </tr>\n",
       "    <tr>\n",
       "      <th>10</th>\n",
       "      <td>4</td>\n",
       "      <td>0.309586</td>\n",
       "      <td>28</td>\n",
       "    </tr>\n",
       "    <tr>\n",
       "      <th>10</th>\n",
       "      <td>8</td>\n",
       "      <td>0.103195</td>\n",
       "      <td>28</td>\n",
       "    </tr>\n",
       "    <tr>\n",
       "      <th>10</th>\n",
       "      <td>9</td>\n",
       "      <td>0.206391</td>\n",
       "      <td>28</td>\n",
       "    </tr>\n",
       "    <tr>\n",
       "      <th>11</th>\n",
       "      <td>2</td>\n",
       "      <td>0.258375</td>\n",
       "      <td>31</td>\n",
       "    </tr>\n",
       "    <tr>\n",
       "      <th>11</th>\n",
       "      <td>3</td>\n",
       "      <td>0.086125</td>\n",
       "      <td>31</td>\n",
       "    </tr>\n",
       "    <tr>\n",
       "      <th>...</th>\n",
       "      <td>...</td>\n",
       "      <td>...</td>\n",
       "      <td>...</td>\n",
       "    </tr>\n",
       "    <tr>\n",
       "      <th>1417</th>\n",
       "      <td>5</td>\n",
       "      <td>0.084769</td>\n",
       "      <td>world greatest</td>\n",
       "    </tr>\n",
       "    <tr>\n",
       "      <th>1417</th>\n",
       "      <td>8</td>\n",
       "      <td>0.169538</td>\n",
       "      <td>world greatest</td>\n",
       "    </tr>\n",
       "    <tr>\n",
       "      <th>1417</th>\n",
       "      <td>9</td>\n",
       "      <td>0.084769</td>\n",
       "      <td>world greatest</td>\n",
       "    </tr>\n",
       "    <tr>\n",
       "      <th>1417</th>\n",
       "      <td>10</td>\n",
       "      <td>0.084769</td>\n",
       "      <td>world greatest</td>\n",
       "    </tr>\n",
       "    <tr>\n",
       "      <th>1223</th>\n",
       "      <td>2</td>\n",
       "      <td>0.161769</td>\n",
       "      <td>world order</td>\n",
       "    </tr>\n",
       "    <tr>\n",
       "      <th>1223</th>\n",
       "      <td>3</td>\n",
       "      <td>0.032354</td>\n",
       "      <td>world order</td>\n",
       "    </tr>\n",
       "    <tr>\n",
       "      <th>1223</th>\n",
       "      <td>4</td>\n",
       "      <td>0.226476</td>\n",
       "      <td>world order</td>\n",
       "    </tr>\n",
       "    <tr>\n",
       "      <th>1223</th>\n",
       "      <td>5</td>\n",
       "      <td>0.452953</td>\n",
       "      <td>world order</td>\n",
       "    </tr>\n",
       "    <tr>\n",
       "      <th>1223</th>\n",
       "      <td>6</td>\n",
       "      <td>0.032354</td>\n",
       "      <td>world order</td>\n",
       "    </tr>\n",
       "    <tr>\n",
       "      <th>1223</th>\n",
       "      <td>7</td>\n",
       "      <td>0.032354</td>\n",
       "      <td>world order</td>\n",
       "    </tr>\n",
       "    <tr>\n",
       "      <th>1223</th>\n",
       "      <td>8</td>\n",
       "      <td>0.032354</td>\n",
       "      <td>world order</td>\n",
       "    </tr>\n",
       "    <tr>\n",
       "      <th>821</th>\n",
       "      <td>1</td>\n",
       "      <td>0.059357</td>\n",
       "      <td>worst</td>\n",
       "    </tr>\n",
       "    <tr>\n",
       "      <th>821</th>\n",
       "      <td>2</td>\n",
       "      <td>0.178070</td>\n",
       "      <td>worst</td>\n",
       "    </tr>\n",
       "    <tr>\n",
       "      <th>821</th>\n",
       "      <td>3</td>\n",
       "      <td>0.356141</td>\n",
       "      <td>worst</td>\n",
       "    </tr>\n",
       "    <tr>\n",
       "      <th>821</th>\n",
       "      <td>4</td>\n",
       "      <td>0.118714</td>\n",
       "      <td>worst</td>\n",
       "    </tr>\n",
       "    <tr>\n",
       "      <th>821</th>\n",
       "      <td>5</td>\n",
       "      <td>0.059357</td>\n",
       "      <td>worst</td>\n",
       "    </tr>\n",
       "    <tr>\n",
       "      <th>821</th>\n",
       "      <td>8</td>\n",
       "      <td>0.059357</td>\n",
       "      <td>worst</td>\n",
       "    </tr>\n",
       "    <tr>\n",
       "      <th>821</th>\n",
       "      <td>9</td>\n",
       "      <td>0.178070</td>\n",
       "      <td>worst</td>\n",
       "    </tr>\n",
       "    <tr>\n",
       "      <th>1224</th>\n",
       "      <td>2</td>\n",
       "      <td>0.084716</td>\n",
       "      <td>writing</td>\n",
       "    </tr>\n",
       "    <tr>\n",
       "      <th>1224</th>\n",
       "      <td>3</td>\n",
       "      <td>0.381220</td>\n",
       "      <td>writing</td>\n",
       "    </tr>\n",
       "    <tr>\n",
       "      <th>1224</th>\n",
       "      <td>4</td>\n",
       "      <td>0.423578</td>\n",
       "      <td>writing</td>\n",
       "    </tr>\n",
       "    <tr>\n",
       "      <th>1224</th>\n",
       "      <td>8</td>\n",
       "      <td>0.084716</td>\n",
       "      <td>writing</td>\n",
       "    </tr>\n",
       "    <tr>\n",
       "      <th>825</th>\n",
       "      <td>1</td>\n",
       "      <td>0.049991</td>\n",
       "      <td>years earlier</td>\n",
       "    </tr>\n",
       "    <tr>\n",
       "      <th>825</th>\n",
       "      <td>2</td>\n",
       "      <td>0.049991</td>\n",
       "      <td>years earlier</td>\n",
       "    </tr>\n",
       "    <tr>\n",
       "      <th>825</th>\n",
       "      <td>3</td>\n",
       "      <td>0.299948</td>\n",
       "      <td>years earlier</td>\n",
       "    </tr>\n",
       "    <tr>\n",
       "      <th>825</th>\n",
       "      <td>4</td>\n",
       "      <td>0.249956</td>\n",
       "      <td>years earlier</td>\n",
       "    </tr>\n",
       "    <tr>\n",
       "      <th>825</th>\n",
       "      <td>7</td>\n",
       "      <td>0.049991</td>\n",
       "      <td>years earlier</td>\n",
       "    </tr>\n",
       "    <tr>\n",
       "      <th>825</th>\n",
       "      <td>8</td>\n",
       "      <td>0.199965</td>\n",
       "      <td>years earlier</td>\n",
       "    </tr>\n",
       "    <tr>\n",
       "      <th>825</th>\n",
       "      <td>9</td>\n",
       "      <td>0.049991</td>\n",
       "      <td>years earlier</td>\n",
       "    </tr>\n",
       "    <tr>\n",
       "      <th>825</th>\n",
       "      <td>10</td>\n",
       "      <td>0.049991</td>\n",
       "      <td>years earlier</td>\n",
       "    </tr>\n",
       "  </tbody>\n",
       "</table>\n",
       "<p>2901 rows × 3 columns</p>\n",
       "</div>"
      ],
      "text/plain": [
       "      Topic      Freq            Term\n",
       "term                                 \n",
       "1226      1  0.077977              12\n",
       "1226      2  0.155954              12\n",
       "1226      3  0.311908              12\n",
       "1226      8  0.155954              12\n",
       "1226      9  0.155954              12\n",
       "1933      1  0.304488            1865\n",
       "1933      2  0.152244            1865\n",
       "1933      3  0.228366            1865\n",
       "1933      5  0.076122            1865\n",
       "1933      7  0.076122            1865\n",
       "1933      9  0.076122            1865\n",
       "1933     10  0.076122            1865\n",
       "2039      1  0.061199            1914\n",
       "2039      3  0.305995            1914\n",
       "2039      4  0.428393            1914\n",
       "2039      6  0.122398            1914\n",
       "2039      7  0.061199            1914\n",
       "8         1  0.024672             200\n",
       "8         2  0.024672             200\n",
       "8         3  0.814169             200\n",
       "8         4  0.049344             200\n",
       "8         8  0.049344             200\n",
       "8         9  0.024672             200\n",
       "10        2  0.206391              28\n",
       "10        3  0.171992              28\n",
       "10        4  0.309586              28\n",
       "10        8  0.103195              28\n",
       "10        9  0.206391              28\n",
       "11        2  0.258375              31\n",
       "11        3  0.086125              31\n",
       "...     ...       ...             ...\n",
       "1417      5  0.084769  world greatest\n",
       "1417      8  0.169538  world greatest\n",
       "1417      9  0.084769  world greatest\n",
       "1417     10  0.084769  world greatest\n",
       "1223      2  0.161769     world order\n",
       "1223      3  0.032354     world order\n",
       "1223      4  0.226476     world order\n",
       "1223      5  0.452953     world order\n",
       "1223      6  0.032354     world order\n",
       "1223      7  0.032354     world order\n",
       "1223      8  0.032354     world order\n",
       "821       1  0.059357           worst\n",
       "821       2  0.178070           worst\n",
       "821       3  0.356141           worst\n",
       "821       4  0.118714           worst\n",
       "821       5  0.059357           worst\n",
       "821       8  0.059357           worst\n",
       "821       9  0.178070           worst\n",
       "1224      2  0.084716         writing\n",
       "1224      3  0.381220         writing\n",
       "1224      4  0.423578         writing\n",
       "1224      8  0.084716         writing\n",
       "825       1  0.049991   years earlier\n",
       "825       2  0.049991   years earlier\n",
       "825       3  0.299948   years earlier\n",
       "825       4  0.249956   years earlier\n",
       "825       7  0.049991   years earlier\n",
       "825       8  0.199965   years earlier\n",
       "825       9  0.049991   years earlier\n",
       "825      10  0.049991   years earlier\n",
       "\n",
       "[2901 rows x 3 columns]"
      ]
     },
     "execution_count": 1280,
     "metadata": {},
     "output_type": "execute_result"
    }
   ],
   "source": [
    "vis.token_table"
   ]
  },
  {
   "cell_type": "markdown",
   "metadata": {},
   "source": [
    "#### Save the LDA Model"
   ]
  },
  {
   "cell_type": "code",
   "execution_count": 1115,
   "metadata": {},
   "outputs": [],
   "source": [
    "lda_model.save(fname= './gensim_lda_model/sec_chap_equal20')\n",
    "pickle.dump(corpus_vect_gensim ,open('./gensim_lda_model/sec_chap20_corpus_vect.txt', 'wb'))\n",
    "pickle.dump(corpus_count ,open('./gensim_lda_model/sec_chap20_corpus_count.txt', 'wb'))"
   ]
  },
  {
   "cell_type": "markdown",
   "metadata": {},
   "source": [
    "### Load in Primary Source Documents"
   ]
  },
  {
   "cell_type": "code",
   "execution_count": 1116,
   "metadata": {},
   "outputs": [],
   "source": [
    "df_pres = pd.read_csv('./text/df_pres.csv')\n",
    "df_prog = pd.read_csv('./text/df_prog.csv')\n",
    "df_pri = pd.read_csv('./text/df_pri.csv')"
   ]
  },
  {
   "cell_type": "markdown",
   "metadata": {},
   "source": [
    "## All Primary Source Comparison"
   ]
  },
  {
   "cell_type": "code",
   "execution_count": 1117,
   "metadata": {},
   "outputs": [],
   "source": [
    "df_pri = df_pri[7:]"
   ]
  },
  {
   "cell_type": "code",
   "execution_count": 1288,
   "metadata": {},
   "outputs": [
    {
     "name": "stderr",
     "output_type": "stream",
     "text": [
      "/Users/bengreer/anaconda3/lib/python3.6/site-packages/pandas/core/generic.py:5434: SettingWithCopyWarning: \n",
      "A value is trying to be set on a copy of a slice from a DataFrame\n",
      "\n",
      "See the caveats in the documentation: http://pandas.pydata.org/pandas-docs/stable/indexing.html#indexing-view-versus-copy\n",
      "  self._update_inplace(new_data)\n"
     ]
    }
   ],
   "source": [
    "# Splitting up into predictable time periods\n",
    "\n",
    "df_pri['doc'].fillna(' ', inplace = True)\n",
    "df_pri['chapter_lemma'].fillna(' ', inplace = True)\n",
    "\n",
    "df_b_1865 = df_pri[df_pri['year'] < 1865]\n",
    "df_b_1865['doc'].fillna(' ', inplace = True)\n",
    "df_b_1865['chapter_lemma'].fillna(' ', inplace = True)\n",
    "\n",
    "df_1865_1913 = df_pri[df_pri['year'] < 1913]\n",
    "df_1865_1913 = df_1865_1913[df_1865_1913['year'] > 1865]\n",
    "\n",
    "df_1913_1945 = df_pri[df_pri['year'] < 1945]\n",
    "df_1913_1945 = df_1913_1945[df_1913_1945['year'] > 1913]\n",
    "\n",
    "df_a_1945 = df_pri[df_pri['year'] > 1945]"
   ]
  },
  {
   "cell_type": "markdown",
   "metadata": {},
   "source": [
    "# All documents"
   ]
  },
  {
   "cell_type": "code",
   "execution_count": 1652,
   "metadata": {},
   "outputs": [
    {
     "name": "stdout",
     "output_type": "stream",
     "text": [
      "Bound of LDA model:  -1192319.3415237665\n",
      "1718\n"
     ]
    },
    {
     "data": {
      "image/png": "[encoded data removed]",
      "text/plain": [
       "<Figure size 432x288 with 1 Axes>"
      ]
     },
     "metadata": {},
     "output_type": "display_data"
    },
    {
     "data": {
      "image/png": "[encoded data removed]",
      "text/plain": [
       "<Figure size 1080x720 with 4 Axes>"
      ]
     },
     "metadata": {},
     "output_type": "display_data"
    }
   ],
   "source": [
    "# Transforming Primary doc's into correct vectorized matrix\n",
    "\n",
    "sec_pri_countvec = vectorizer.transform(df_pri['chapter_lemma'])\n",
    "\n",
    "pri_corpus_vect_gensim = gensim.matutils.Sparse2Corpus(sec_pri_countvec, documents_columns=False)\n",
    "\n",
    "document_breakdown(pri_corpus_vect_gensim)"
   ]
  },
  {
   "cell_type": "markdown",
   "metadata": {},
   "source": [
    "# Before 1865"
   ]
  },
  {
   "cell_type": "code",
   "execution_count": 1653,
   "metadata": {},
   "outputs": [
    {
     "name": "stdout",
     "output_type": "stream",
     "text": [
      "Bound of LDA model:  -1192312.6972382665\n",
      "1210\n"
     ]
    },
    {
     "data": {
      "image/png": "[encoded data removed]",
      "text/plain": [
       "<Figure size 432x288 with 1 Axes>"
      ]
     },
     "metadata": {},
     "output_type": "display_data"
    },
    {
     "data": {
      "image/png": "[encoded data removed]",
      "text/plain": [
       "<Figure size 1080x720 with 4 Axes>"
      ]
     },
     "metadata": {},
     "output_type": "display_data"
    }
   ],
   "source": [
    "# Transforming Primary doc's into correct vectorized matrix\n",
    "\n",
    "sec_pri_countvec = vectorizer.transform(df_b_1865['chapter_lemma'])\n",
    "\n",
    "pri_corpus_vect_gensim = gensim.matutils.Sparse2Corpus(sec_pri_countvec, documents_columns=False)\n",
    "\n",
    "document_breakdown(pri_corpus_vect_gensim)"
   ]
  },
  {
   "cell_type": "markdown",
   "metadata": {},
   "source": [
    "# 1865-1913"
   ]
  },
  {
   "cell_type": "code",
   "execution_count": 1654,
   "metadata": {},
   "outputs": [
    {
     "name": "stdout",
     "output_type": "stream",
     "text": [
      "Bound of LDA model:  -1192317.7573064566\n",
      "122\n"
     ]
    },
    {
     "data": {
      "image/png": "[encoded data removed]",
      "text/plain": [
       "<Figure size 432x288 with 1 Axes>"
      ]
     },
     "metadata": {},
     "output_type": "display_data"
    },
    {
     "data": {
      "image/png": "[encoded data removed]",
      "text/plain": [
       "<Figure size 1080x720 with 4 Axes>"
      ]
     },
     "metadata": {},
     "output_type": "display_data"
    }
   ],
   "source": [
    "# Transforming Primary doc's into correct vectorized matrix\n",
    "\n",
    "sec_pri_countvec = vectorizer.transform(df_1865_1913['chapter_lemma'])\n",
    "\n",
    "pri_corpus_vect_gensim = gensim.matutils.Sparse2Corpus(sec_pri_countvec, documents_columns=False)\n",
    "\n",
    "document_breakdown(pri_corpus_vect_gensim)"
   ]
  },
  {
   "cell_type": "markdown",
   "metadata": {},
   "source": [
    "# 1913 - 1945"
   ]
  },
  {
   "cell_type": "code",
   "execution_count": 1655,
   "metadata": {},
   "outputs": [
    {
     "name": "stdout",
     "output_type": "stream",
     "text": [
      "Bound of LDA model:  -1192309.605424583\n",
      "163\n"
     ]
    },
    {
     "data": {
      "image/png": "[encoded data removed]",
      "text/plain": [
       "<Figure size 432x288 with 1 Axes>"
      ]
     },
     "metadata": {},
     "output_type": "display_data"
    },
    {
     "data": {
      "image/png": "[encoded data removed]",
      "text/plain": [
       "<Figure size 1080x720 with 4 Axes>"
      ]
     },
     "metadata": {},
     "output_type": "display_data"
    }
   ],
   "source": [
    "# Transforming Primary doc's into correct vectorized matrix\n",
    "\n",
    "sec_pri_countvec = vectorizer.transform(df_1913_1945['doc'])\n",
    "\n",
    "pri_corpus_vect_gensim = gensim.matutils.Sparse2Corpus(sec_pri_countvec, documents_columns=False)\n",
    "\n",
    "document_breakdown(pri_corpus_vect_gensim)"
   ]
  },
  {
   "cell_type": "markdown",
   "metadata": {},
   "source": [
    "# After 1945\n",
    "\n"
   ]
  },
  {
   "cell_type": "code",
   "execution_count": 1638,
   "metadata": {},
   "outputs": [
    {
     "data": {
      "text/plain": [
       "(163, 4793)"
      ]
     },
     "execution_count": 1638,
     "metadata": {},
     "output_type": "execute_result"
    }
   ],
   "source": [
    "sec_pri_countvec.shape"
   ]
  },
  {
   "cell_type": "code",
   "execution_count": null,
   "metadata": {},
   "outputs": [],
   "source": []
  },
  {
   "cell_type": "code",
   "execution_count": 1640,
   "metadata": {},
   "outputs": [
    {
     "name": "stdout",
     "output_type": "stream",
     "text": [
      "Bound of LDA model:  -933325.7623248696\n",
      "166\n"
     ]
    },
    {
     "data": {
      "image/png": "[encoded data removed]",
      "text/plain": [
       "<Figure size 432x288 with 1 Axes>"
      ]
     },
     "metadata": {},
     "output_type": "display_data"
    },
    {
     "data": {
      "image/png": "[encoded data removed]",
      "text/plain": [
       "<Figure size 1080x720 with 4 Axes>"
      ]
     },
     "metadata": {},
     "output_type": "display_data"
    }
   ],
   "source": [
    "# Transforming Primary doc's into correct vectorized matrix\n",
    "\n",
    "sec_pri_countvec = vectorizer.transform(df_a_1945['chapter_lemma'])\n",
    "\n",
    "pri_corpus_vect_gensim = gensim.matutils.Sparse2Corpus(sec_pri_countvec, documents_columns=False)\n",
    "\n",
    "document_breakdown(pri_corpus_vect_gensim)"
   ]
  },
  {
   "cell_type": "code",
   "execution_count": 1706,
   "metadata": {},
   "outputs": [
    {
     "ename": "IndexError",
     "evalue": "index 2106 is out of bounds for axis 1 with size 1498",
     "output_type": "error",
     "traceback": [
      "\u001b[0;31m---------------------------------------------------------------------------\u001b[0m",
      "\u001b[0;31mIndexError\u001b[0m                                Traceback (most recent call last)",
      "\u001b[0;32m<ipython-input-1706-af148b078f2a>\u001b[0m in \u001b[0;36m<module>\u001b[0;34m\u001b[0m\n\u001b[1;32m      8\u001b[0m \u001b[0mfour_more_topic\u001b[0m \u001b[0;34m=\u001b[0m \u001b[0;36m0\u001b[0m\u001b[0;34m\u001b[0m\u001b[0m\n\u001b[1;32m      9\u001b[0m \u001b[0;32mfor\u001b[0m \u001b[0mnum\u001b[0m\u001b[0;34m,\u001b[0m \u001b[0mdoc\u001b[0m \u001b[0;32min\u001b[0m \u001b[0menumerate\u001b[0m\u001b[0;34m(\u001b[0m\u001b[0mrange\u001b[0m\u001b[0;34m(\u001b[0m\u001b[0mlen\u001b[0m\u001b[0;34m(\u001b[0m\u001b[0mpri_corpus_vect_gensim\u001b[0m\u001b[0;34m)\u001b[0m\u001b[0;34m)\u001b[0m\u001b[0;34m)\u001b[0m\u001b[0;34m:\u001b[0m\u001b[0;34m\u001b[0m\u001b[0m\n\u001b[0;32m---> 10\u001b[0;31m         \u001b[0mitem\u001b[0m \u001b[0;34m=\u001b[0m \u001b[0mlda_model\u001b[0m\u001b[0;34m.\u001b[0m\u001b[0mget_document_topics\u001b[0m\u001b[0;34m(\u001b[0m\u001b[0mpri_corpus_vect_gensim\u001b[0m\u001b[0;34m[\u001b[0m\u001b[0mnum\u001b[0m\u001b[0;34m]\u001b[0m\u001b[0;34m)\u001b[0m\u001b[0;34m\u001b[0m\u001b[0m\n\u001b[0m\u001b[1;32m     11\u001b[0m         \u001b[0;32mif\u001b[0m \u001b[0mlen\u001b[0m\u001b[0;34m(\u001b[0m\u001b[0mitem\u001b[0m\u001b[0;34m)\u001b[0m \u001b[0;34m==\u001b[0m \u001b[0;36m1\u001b[0m\u001b[0;34m:\u001b[0m\u001b[0;34m\u001b[0m\u001b[0m\n\u001b[1;32m     12\u001b[0m             \u001b[0mtopic_count\u001b[0m\u001b[0;34m.\u001b[0m\u001b[0mappend\u001b[0m\u001b[0;34m(\u001b[0m\u001b[0mitem\u001b[0m\u001b[0;34m[\u001b[0m\u001b[0;36m0\u001b[0m\u001b[0;34m]\u001b[0m\u001b[0;34m[\u001b[0m\u001b[0;36m0\u001b[0m\u001b[0;34m]\u001b[0m\u001b[0;34m)\u001b[0m\u001b[0;34m\u001b[0m\u001b[0m\n",
      "\u001b[0;32m~/anaconda3/lib/python3.6/site-packages/gensim/models/ldamodel.py\u001b[0m in \u001b[0;36mget_document_topics\u001b[0;34m(self, bow, minimum_probability, minimum_phi_value, per_word_topics)\u001b[0m\n\u001b[1;32m   1308\u001b[0m             \u001b[0;32mreturn\u001b[0m \u001b[0mself\u001b[0m\u001b[0;34m.\u001b[0m\u001b[0m_apply\u001b[0m\u001b[0;34m(\u001b[0m\u001b[0mcorpus\u001b[0m\u001b[0;34m,\u001b[0m \u001b[0;34m**\u001b[0m\u001b[0mkwargs\u001b[0m\u001b[0;34m)\u001b[0m\u001b[0;34m\u001b[0m\u001b[0m\n\u001b[1;32m   1309\u001b[0m \u001b[0;34m\u001b[0m\u001b[0m\n\u001b[0;32m-> 1310\u001b[0;31m         \u001b[0mgamma\u001b[0m\u001b[0;34m,\u001b[0m \u001b[0mphis\u001b[0m \u001b[0;34m=\u001b[0m \u001b[0mself\u001b[0m\u001b[0;34m.\u001b[0m\u001b[0minference\u001b[0m\u001b[0;34m(\u001b[0m\u001b[0;34m[\u001b[0m\u001b[0mbow\u001b[0m\u001b[0;34m]\u001b[0m\u001b[0;34m,\u001b[0m \u001b[0mcollect_sstats\u001b[0m\u001b[0;34m=\u001b[0m\u001b[0mper_word_topics\u001b[0m\u001b[0;34m)\u001b[0m\u001b[0;34m\u001b[0m\u001b[0m\n\u001b[0m\u001b[1;32m   1311\u001b[0m         \u001b[0mtopic_dist\u001b[0m \u001b[0;34m=\u001b[0m \u001b[0mgamma\u001b[0m\u001b[0;34m[\u001b[0m\u001b[0;36m0\u001b[0m\u001b[0;34m]\u001b[0m \u001b[0;34m/\u001b[0m \u001b[0msum\u001b[0m\u001b[0;34m(\u001b[0m\u001b[0mgamma\u001b[0m\u001b[0;34m[\u001b[0m\u001b[0;36m0\u001b[0m\u001b[0;34m]\u001b[0m\u001b[0;34m)\u001b[0m  \u001b[0;31m# normalize distribution\u001b[0m\u001b[0;34m\u001b[0m\u001b[0m\n\u001b[1;32m   1312\u001b[0m \u001b[0;34m\u001b[0m\u001b[0m\n",
      "\u001b[0;32m~/anaconda3/lib/python3.6/site-packages/gensim/models/ldamodel.py\u001b[0m in \u001b[0;36minference\u001b[0;34m(self, chunk, collect_sstats)\u001b[0m\n\u001b[1;32m    660\u001b[0m             \u001b[0mElogthetad\u001b[0m \u001b[0;34m=\u001b[0m \u001b[0mElogtheta\u001b[0m\u001b[0;34m[\u001b[0m\u001b[0md\u001b[0m\u001b[0;34m,\u001b[0m \u001b[0;34m:\u001b[0m\u001b[0;34m]\u001b[0m\u001b[0;34m\u001b[0m\u001b[0m\n\u001b[1;32m    661\u001b[0m             \u001b[0mexpElogthetad\u001b[0m \u001b[0;34m=\u001b[0m \u001b[0mexpElogtheta\u001b[0m\u001b[0;34m[\u001b[0m\u001b[0md\u001b[0m\u001b[0;34m,\u001b[0m \u001b[0;34m:\u001b[0m\u001b[0;34m]\u001b[0m\u001b[0;34m\u001b[0m\u001b[0m\n\u001b[0;32m--> 662\u001b[0;31m             \u001b[0mexpElogbetad\u001b[0m \u001b[0;34m=\u001b[0m \u001b[0mself\u001b[0m\u001b[0;34m.\u001b[0m\u001b[0mexpElogbeta\u001b[0m\u001b[0;34m[\u001b[0m\u001b[0;34m:\u001b[0m\u001b[0;34m,\u001b[0m \u001b[0mids\u001b[0m\u001b[0;34m]\u001b[0m\u001b[0;34m\u001b[0m\u001b[0m\n\u001b[0m\u001b[1;32m    663\u001b[0m \u001b[0;34m\u001b[0m\u001b[0m\n\u001b[1;32m    664\u001b[0m             \u001b[0;31m# The optimal phi_{dwk} is proportional to expElogthetad_k * expElogbetad_w.\u001b[0m\u001b[0;34m\u001b[0m\u001b[0;34m\u001b[0m\u001b[0m\n",
      "\u001b[0;31mIndexError\u001b[0m: index 2106 is out of bounds for axis 1 with size 1498"
     ]
    }
   ],
   "source": [
    "# Estimate for the corpus\n",
    "topic_count = []\n",
    "confidence = []\n",
    "both = []\n",
    "one_topic = 0\n",
    "two_topic = 0\n",
    "three_topic = 0\n",
    "four_more_topic = 0\n",
    "for num, doc in enumerate(range(len(pri_corpus_vect_gensim))):\n",
    "        item = lda_model.get_document_topics(pri_corpus_vect_gensim[num])\n",
    "        if len(item) == 1:\n",
    "            topic_count.append(item[0][0])\n",
    "            confidence.append(item[0][1])\n",
    "            one_topic += 1\n",
    "        else:\n",
    "            pickin_best = []\n",
    "            for it in item:\n",
    "                pickin_best.append(it[1])\n",
    "            for it in item:\n",
    "                for i in it:\n",
    "                    topic_count.append(it[0])\n",
    "                    confidence.append(it[1])\n",
    "            if len(item) == 2:\n",
    "                two_topic += 1\n",
    "            if len(item) == 3:\n",
    "                three_topic += 1\n",
    "            if len(item) >= 4:\n",
    "                four_more_topic += 1\n",
    "    # Topic winners over time\n",
    "enumed = list(range(len(topic_count)))\n",
    "topic_winners_time = pd.DataFrame(data = [enumed, topic_count]).T\n",
    "topic_winners_time.columns = ['chap_num', 'topic_winner']"
   ]
  },
  {
   "cell_type": "code",
   "execution_count": 1594,
   "metadata": {},
   "outputs": [
    {
     "data": {
      "text/plain": [
       "(array([0., 0., 0., 0., 0., 1., 0., 0., 0., 0.]),\n",
       " array([-0.5, -0.4, -0.3, -0.2, -0.1,  0. ,  0.1,  0.2,  0.3,  0.4,  0.5]),\n",
       " <a list of 10 Patch objects>)"
      ]
     },
     "execution_count": 1594,
     "metadata": {},
     "output_type": "execute_result"
    },
    {
     "data": {
      "image/png": "[encoded data removed]",
      "text/plain": [
       "<Figure size 432x288 with 1 Axes>"
      ]
     },
     "metadata": {},
     "output_type": "display_data"
    }
   ],
   "source": [
    "plt.hist('confidence')"
   ]
  },
  {
   "cell_type": "code",
   "execution_count": 1561,
   "metadata": {},
   "outputs": [
    {
     "data": {
      "image/png": "[encoded data removed]",
      "text/plain": [
       "<Figure size 1080x720 with 1 Axes>"
      ]
     },
     "metadata": {},
     "output_type": "display_data"
    }
   ],
   "source": [
    "topic_agg = topic_winners_time.groupby(by = 'topic_winner').count()\n",
    "\n",
    "topic_agg.reset_index(inplace = True)\n",
    "\n",
    "topic_map_names = {0 : 'Progressive', 1 : 'World Order', 2 : 'Colonial', 3 : 'Establishing Empire', 5 : '1930s',\n",
    "                   6 : 'Civil War', 7 : 'America at War', 8 : 'Cold War', 9 : 'World War II' }\n",
    "\n",
    "# replacement = \n",
    "\n",
    "topic_agg['topic_winner_names'] = topic_agg['topic_winner'].map(topic_map_names)\n",
    "\n",
    "\n",
    "\n",
    "\n",
    "    \n",
    "fig, ax = plt.subplots(figsize=(15,10))\n",
    "\n",
    "sns.barplot(x = 'topic_winner_names', y = 'chap_num', data = topic_agg, color =\"deepskyblue\")\n",
    "\n",
    "def change_width(ax, new_value) :\n",
    "        for patch in ax.patches :\n",
    "            current_width = patch.get_width()\n",
    "            diff = current_width - new_value\n",
    "\n",
    "            # we change the bar width\n",
    "            patch.set_width(new_value)\n",
    "\n",
    "            # we recenter the bar\n",
    "            patch.set_x(patch.get_x() + diff * .5)\n",
    "sns.set(font_scale=1)\n",
    "plt.title('Secondary Topics to Primary Documents \\n Before 1865', fontsize = 35)\n",
    "plt.xlabel('Topic', fontsize = 20)\n",
    "plt.ylabel('# of Documents per Topic', fontsize = 20)\n",
    "#plt.legend(loc = 'upper left')\n",
    "change_width(ax, .5)\n",
    "\n",
    "plt.show()"
   ]
  },
  {
   "cell_type": "markdown",
   "metadata": {},
   "source": [
    "### Presidential Primary Sources"
   ]
  },
  {
   "cell_type": "code",
   "execution_count": null,
   "metadata": {},
   "outputs": [],
   "source": [
    "# Transforming Primary doc's into correct vectorized matrix\n",
    "\n",
    "sec_pres_countvec = vectorizer.transform(df_pres['doc'])\n",
    "\n",
    "pres_corpus_vect_gensim = gensim.matutils.Sparse2Corpus(sec_pres_countvec, documents_columns=False)\n"
   ]
  },
  {
   "cell_type": "code",
   "execution_count": null,
   "metadata": {},
   "outputs": [],
   "source": [
    "document_breakdown(pres_corpus_vect_gensim)"
   ]
  },
  {
   "cell_type": "markdown",
   "metadata": {},
   "source": [
    "### Progressive Era - title from document"
   ]
  },
  {
   "cell_type": "code",
   "execution_count": null,
   "metadata": {},
   "outputs": [],
   "source": [
    "# Transforming Primary doc's into correct vectorized matrix\n",
    "\n",
    "sec_pri_countvec = vectorizer.transform(df_prog['doc'])\n",
    "\n",
    "pri_corpus_vect_gensim = gensim.matutils.Sparse2Corpus(sec_pri_countvec, documents_columns=False)\n",
    "\n",
    "document_breakdown(pri_corpus_vect_gensim)"
   ]
  },
  {
   "cell_type": "markdown",
   "metadata": {},
   "source": [
    "### DTM Modeling"
   ]
  },
  {
   "cell_type": "code",
   "execution_count": 1681,
   "metadata": {},
   "outputs": [],
   "source": [
    "# Setting up the DTM corpus and for the pyLDA viz\n",
    "\n",
    "id2word = corpora.Dictionary(corpus_all_list)\n",
    "\n",
    "class DTMcorpus(corpora.textcorpus.TextCorpus):\n",
    "\n",
    "    def get_texts(self):\n",
    "        return self.input\n",
    "\n",
    "    def __len__(self):\n",
    "        return len(self.input)\n",
    "\n",
    "corpus = DTMcorpus(corpus_all_list)"
   ]
  },
  {
   "cell_type": "code",
   "execution_count": 1665,
   "metadata": {},
   "outputs": [
    {
     "data": {
      "text/html": [
       "<div>\n",
       "<style scoped>\n",
       "    .dataframe tbody tr th:only-of-type {\n",
       "        vertical-align: middle;\n",
       "    }\n",
       "\n",
       "    .dataframe tbody tr th {\n",
       "        vertical-align: top;\n",
       "    }\n",
       "\n",
       "    .dataframe thead th {\n",
       "        text-align: right;\n",
       "    }\n",
       "</style>\n",
       "<table border=\"1\" class=\"dataframe\">\n",
       "  <thead>\n",
       "    <tr style=\"text-align: right;\">\n",
       "      <th></th>\n",
       "      <th>Unnamed: 0</th>\n",
       "      <th>para</th>\n",
       "      <th>dates</th>\n",
       "      <th>para_lemma</th>\n",
       "      <th>len</th>\n",
       "      <th>year</th>\n",
       "      <th>avg_year</th>\n",
       "      <th>num_years</th>\n",
       "      <th>year_25group</th>\n",
       "      <th>year_50group</th>\n",
       "    </tr>\n",
       "  </thead>\n",
       "  <tbody>\n",
       "    <tr>\n",
       "      <th>0</th>\n",
       "      <td>0</td>\n",
       "      <td>Bearing witness to this shocking act of brutal...</td>\n",
       "      <td>['twenty-two-year-old', 'early May 1754', 'the...</td>\n",
       "      <td>bear witness shocking act brutality year old c...</td>\n",
       "      <td>118</td>\n",
       "      <td>[1754]</td>\n",
       "      <td>1754</td>\n",
       "      <td>1</td>\n",
       "      <td>1775</td>\n",
       "      <td>1800</td>\n",
       "    </tr>\n",
       "    <tr>\n",
       "      <th>1</th>\n",
       "      <td>1</td>\n",
       "      <td>Washington had a personal as well as patriotic...</td>\n",
       "      <td>['1752', 'age sixteen']</td>\n",
       "      <td>washington personal patriotic interest wrest o...</td>\n",
       "      <td>117</td>\n",
       "      <td>[1752]</td>\n",
       "      <td>1752</td>\n",
       "      <td>1</td>\n",
       "      <td>1775</td>\n",
       "      <td>1800</td>\n",
       "    </tr>\n",
       "    <tr>\n",
       "      <th>2</th>\n",
       "      <td>2</td>\n",
       "      <td>Although Washington eagerly sought new wealth ...</td>\n",
       "      <td>['1743', 'a century']</td>\n",
       "      <td>washington eagerly seek new wealth western lan...</td>\n",
       "      <td>70</td>\n",
       "      <td>[1743]</td>\n",
       "      <td>1743</td>\n",
       "      <td>1</td>\n",
       "      <td>1750</td>\n",
       "      <td>1750</td>\n",
       "    </tr>\n",
       "    <tr>\n",
       "      <th>3</th>\n",
       "      <td>3</td>\n",
       "      <td>Knowing that the attack on Lieutenant Jumonvil...</td>\n",
       "      <td>['July 3', 'torrential summer', 'July 3, 1754']</td>\n",
       "      <td>know attack lieutenant jumonville ’s force gen...</td>\n",
       "      <td>124</td>\n",
       "      <td>[1754]</td>\n",
       "      <td>1754</td>\n",
       "      <td>1</td>\n",
       "      <td>1775</td>\n",
       "      <td>1800</td>\n",
       "    </tr>\n",
       "    <tr>\n",
       "      <th>4</th>\n",
       "      <td>4</td>\n",
       "      <td>George Washington’s botched mission to wester...</td>\n",
       "      <td>['1756', 'June 1754', 'the previous winter']</td>\n",
       "      <td>george washington ’s botched mission western p...</td>\n",
       "      <td>95</td>\n",
       "      <td>[1756, 1754]</td>\n",
       "      <td>1755</td>\n",
       "      <td>2</td>\n",
       "      <td>1775</td>\n",
       "      <td>1800</td>\n",
       "    </tr>\n",
       "  </tbody>\n",
       "</table>\n",
       "</div>"
      ],
      "text/plain": [
       "   Unnamed: 0                                               para  \\\n",
       "0           0  Bearing witness to this shocking act of brutal...   \n",
       "1           1  Washington had a personal as well as patriotic...   \n",
       "2           2  Although Washington eagerly sought new wealth ...   \n",
       "3           3  Knowing that the attack on Lieutenant Jumonvil...   \n",
       "4           4   George Washington’s botched mission to wester...   \n",
       "\n",
       "                                               dates  \\\n",
       "0  ['twenty-two-year-old', 'early May 1754', 'the...   \n",
       "1                            ['1752', 'age sixteen']   \n",
       "2                              ['1743', 'a century']   \n",
       "3    ['July 3', 'torrential summer', 'July 3, 1754']   \n",
       "4       ['1756', 'June 1754', 'the previous winter']   \n",
       "\n",
       "                                          para_lemma  len          year  \\\n",
       "0  bear witness shocking act brutality year old c...  118        [1754]   \n",
       "1  washington personal patriotic interest wrest o...  117        [1752]   \n",
       "2  washington eagerly seek new wealth western lan...   70        [1743]   \n",
       "3  know attack lieutenant jumonville ’s force gen...  124        [1754]   \n",
       "4  george washington ’s botched mission western p...   95  [1756, 1754]   \n",
       "\n",
       "   avg_year  num_years  year_25group  year_50group  \n",
       "0      1754          1          1775          1800  \n",
       "1      1752          1          1775          1800  \n",
       "2      1743          1          1750          1750  \n",
       "3      1754          1          1775          1800  \n",
       "4      1755          2          1775          1800  "
      ]
     },
     "execution_count": 1665,
     "metadata": {},
     "output_type": "execute_result"
    }
   ],
   "source": [
    "year_all.head()"
   ]
  },
  {
   "cell_type": "code",
   "execution_count": 1670,
   "metadata": {},
   "outputs": [
    {
     "data": {
      "text/html": [
       "<div>\n",
       "<style scoped>\n",
       "    .dataframe tbody tr th:only-of-type {\n",
       "        vertical-align: middle;\n",
       "    }\n",
       "\n",
       "    .dataframe tbody tr th {\n",
       "        vertical-align: top;\n",
       "    }\n",
       "\n",
       "    .dataframe thead th {\n",
       "        text-align: right;\n",
       "    }\n",
       "</style>\n",
       "<table border=\"1\" class=\"dataframe\">\n",
       "  <thead>\n",
       "    <tr style=\"text-align: right;\">\n",
       "      <th></th>\n",
       "      <th>Unnamed: 0</th>\n",
       "      <th>para</th>\n",
       "      <th>dates</th>\n",
       "      <th>para_lemma</th>\n",
       "      <th>len</th>\n",
       "      <th>year</th>\n",
       "      <th>avg_year</th>\n",
       "      <th>num_years</th>\n",
       "      <th>year_50group</th>\n",
       "    </tr>\n",
       "    <tr>\n",
       "      <th>year_25group</th>\n",
       "      <th></th>\n",
       "      <th></th>\n",
       "      <th></th>\n",
       "      <th></th>\n",
       "      <th></th>\n",
       "      <th></th>\n",
       "      <th></th>\n",
       "      <th></th>\n",
       "      <th></th>\n",
       "    </tr>\n",
       "  </thead>\n",
       "  <tbody>\n",
       "    <tr>\n",
       "      <th>1750</th>\n",
       "      <td>6</td>\n",
       "      <td>6</td>\n",
       "      <td>6</td>\n",
       "      <td>6</td>\n",
       "      <td>6</td>\n",
       "      <td>6</td>\n",
       "      <td>6</td>\n",
       "      <td>6</td>\n",
       "      <td>6</td>\n",
       "    </tr>\n",
       "    <tr>\n",
       "      <th>1775</th>\n",
       "      <td>29</td>\n",
       "      <td>29</td>\n",
       "      <td>29</td>\n",
       "      <td>29</td>\n",
       "      <td>29</td>\n",
       "      <td>29</td>\n",
       "      <td>29</td>\n",
       "      <td>29</td>\n",
       "      <td>29</td>\n",
       "    </tr>\n",
       "    <tr>\n",
       "      <th>1800</th>\n",
       "      <td>56</td>\n",
       "      <td>56</td>\n",
       "      <td>56</td>\n",
       "      <td>56</td>\n",
       "      <td>56</td>\n",
       "      <td>56</td>\n",
       "      <td>56</td>\n",
       "      <td>56</td>\n",
       "      <td>56</td>\n",
       "    </tr>\n",
       "    <tr>\n",
       "      <th>1825</th>\n",
       "      <td>93</td>\n",
       "      <td>93</td>\n",
       "      <td>93</td>\n",
       "      <td>93</td>\n",
       "      <td>93</td>\n",
       "      <td>93</td>\n",
       "      <td>93</td>\n",
       "      <td>93</td>\n",
       "      <td>93</td>\n",
       "    </tr>\n",
       "    <tr>\n",
       "      <th>1850</th>\n",
       "      <td>102</td>\n",
       "      <td>102</td>\n",
       "      <td>102</td>\n",
       "      <td>102</td>\n",
       "      <td>102</td>\n",
       "      <td>102</td>\n",
       "      <td>102</td>\n",
       "      <td>102</td>\n",
       "      <td>102</td>\n",
       "    </tr>\n",
       "    <tr>\n",
       "      <th>1875</th>\n",
       "      <td>126</td>\n",
       "      <td>126</td>\n",
       "      <td>126</td>\n",
       "      <td>126</td>\n",
       "      <td>126</td>\n",
       "      <td>126</td>\n",
       "      <td>126</td>\n",
       "      <td>126</td>\n",
       "      <td>126</td>\n",
       "    </tr>\n",
       "    <tr>\n",
       "      <th>1900</th>\n",
       "      <td>230</td>\n",
       "      <td>230</td>\n",
       "      <td>230</td>\n",
       "      <td>230</td>\n",
       "      <td>230</td>\n",
       "      <td>230</td>\n",
       "      <td>230</td>\n",
       "      <td>230</td>\n",
       "      <td>230</td>\n",
       "    </tr>\n",
       "    <tr>\n",
       "      <th>1925</th>\n",
       "      <td>194</td>\n",
       "      <td>194</td>\n",
       "      <td>194</td>\n",
       "      <td>194</td>\n",
       "      <td>194</td>\n",
       "      <td>194</td>\n",
       "      <td>194</td>\n",
       "      <td>194</td>\n",
       "      <td>194</td>\n",
       "    </tr>\n",
       "    <tr>\n",
       "      <th>1950</th>\n",
       "      <td>233</td>\n",
       "      <td>233</td>\n",
       "      <td>233</td>\n",
       "      <td>233</td>\n",
       "      <td>233</td>\n",
       "      <td>233</td>\n",
       "      <td>233</td>\n",
       "      <td>233</td>\n",
       "      <td>233</td>\n",
       "    </tr>\n",
       "    <tr>\n",
       "      <th>1975</th>\n",
       "      <td>193</td>\n",
       "      <td>193</td>\n",
       "      <td>193</td>\n",
       "      <td>193</td>\n",
       "      <td>193</td>\n",
       "      <td>193</td>\n",
       "      <td>193</td>\n",
       "      <td>193</td>\n",
       "      <td>193</td>\n",
       "    </tr>\n",
       "    <tr>\n",
       "      <th>2000</th>\n",
       "      <td>132</td>\n",
       "      <td>132</td>\n",
       "      <td>132</td>\n",
       "      <td>132</td>\n",
       "      <td>132</td>\n",
       "      <td>132</td>\n",
       "      <td>132</td>\n",
       "      <td>132</td>\n",
       "      <td>132</td>\n",
       "    </tr>\n",
       "    <tr>\n",
       "      <th>2025</th>\n",
       "      <td>71</td>\n",
       "      <td>71</td>\n",
       "      <td>71</td>\n",
       "      <td>71</td>\n",
       "      <td>71</td>\n",
       "      <td>71</td>\n",
       "      <td>71</td>\n",
       "      <td>71</td>\n",
       "      <td>71</td>\n",
       "    </tr>\n",
       "  </tbody>\n",
       "</table>\n",
       "</div>"
      ],
      "text/plain": [
       "              Unnamed: 0  para  dates  para_lemma  len  year  avg_year  \\\n",
       "year_25group                                                             \n",
       "1750                   6     6      6           6    6     6         6   \n",
       "1775                  29    29     29          29   29    29        29   \n",
       "1800                  56    56     56          56   56    56        56   \n",
       "1825                  93    93     93          93   93    93        93   \n",
       "1850                 102   102    102         102  102   102       102   \n",
       "1875                 126   126    126         126  126   126       126   \n",
       "1900                 230   230    230         230  230   230       230   \n",
       "1925                 194   194    194         194  194   194       194   \n",
       "1950                 233   233    233         233  233   233       233   \n",
       "1975                 193   193    193         193  193   193       193   \n",
       "2000                 132   132    132         132  132   132       132   \n",
       "2025                  71    71     71          71   71    71        71   \n",
       "\n",
       "              num_years  year_50group  \n",
       "year_25group                           \n",
       "1750                  6             6  \n",
       "1775                 29            29  \n",
       "1800                 56            56  \n",
       "1825                 93            93  \n",
       "1850                102           102  \n",
       "1875                126           126  \n",
       "1900                230           230  \n",
       "1925                194           194  \n",
       "1950                233           233  \n",
       "1975                193           193  \n",
       "2000                132           132  \n",
       "2025                 71            71  "
      ]
     },
     "execution_count": 1670,
     "metadata": {},
     "output_type": "execute_result"
    }
   ],
   "source": [
    "year_all.groupby(by = 'year_25group').count()"
   ]
  },
  {
   "cell_type": "code",
   "execution_count": 1675,
   "metadata": {},
   "outputs": [
    {
     "data": {
      "text/plain": [
       "1465"
      ]
     },
     "execution_count": 1675,
     "metadata": {},
     "output_type": "execute_result"
    }
   ],
   "source": [
    "sum([6, 29, 56, 93, 102, 126, 230, 194, 233, 193, 132, 71])"
   ]
  },
  {
   "cell_type": "code",
   "execution_count": 1702,
   "metadata": {},
   "outputs": [],
   "source": [
    "# Save model to disk.\n",
    "temp_file = datapath(\"mode\")\n",
    "lda_model.save(temp_file)\n",
    "\n",
    "# loading it for good measure but the LDA model just needs to be saved in the same area to be initialized by dtm model\n",
    "lda = LdaModel.load(temp_file)\n",
    "\n",
    "# Setting up the other parameters to go in\n",
    "dtm_path = '/Users/bengreer/Documents/github/DSI-US-5/Capstone/dtm/bin/dtm-darwin64'\n",
    "time_seq = [6, 29, 56, 93, 102, 126, 230, 194, 233, 193, 132, 71] # the # of chapters which are included in each book, the largest timeframe I can have\n",
    "\n",
    "model = DtmModel(dtm_path, corpus, time_seq, num_topics=10,\n",
    "                 id2word=id2word, initialize_lda= True)"
   ]
  },
  {
   "cell_type": "code",
   "execution_count": 1696,
   "metadata": {
    "scrolled": true
   },
   "outputs": [
    {
     "name": "stderr",
     "output_type": "stream",
     "text": [
      "/Users/bengreer/anaconda3/lib/python3.6/site-packages/gensim/models/wrappers/dtmmodel.py:494: UserWarning: The parameter `num_words` is deprecated, will be removed in 4.0.0, use `topn` instead.\n",
      "  warnings.warn(\"The parameter `num_words` is deprecated, will be removed in 4.0.0, use `topn` instead.\")\n",
      "/Users/bengreer/anaconda3/lib/python3.6/site-packages/gensim/models/wrappers/dtmmodel.py:494: UserWarning: The parameter `num_words` is deprecated, will be removed in 4.0.0, use `topn` instead.\n",
      "  warnings.warn(\"The parameter `num_words` is deprecated, will be removed in 4.0.0, use `topn` instead.\")\n",
      "/Users/bengreer/anaconda3/lib/python3.6/site-packages/gensim/models/wrappers/dtmmodel.py:494: UserWarning: The parameter `num_words` is deprecated, will be removed in 4.0.0, use `topn` instead.\n",
      "  warnings.warn(\"The parameter `num_words` is deprecated, will be removed in 4.0.0, use `topn` instead.\")\n",
      "/Users/bengreer/anaconda3/lib/python3.6/site-packages/gensim/models/wrappers/dtmmodel.py:494: UserWarning: The parameter `num_words` is deprecated, will be removed in 4.0.0, use `topn` instead.\n",
      "  warnings.warn(\"The parameter `num_words` is deprecated, will be removed in 4.0.0, use `topn` instead.\")\n",
      "/Users/bengreer/anaconda3/lib/python3.6/site-packages/gensim/models/wrappers/dtmmodel.py:494: UserWarning: The parameter `num_words` is deprecated, will be removed in 4.0.0, use `topn` instead.\n",
      "  warnings.warn(\"The parameter `num_words` is deprecated, will be removed in 4.0.0, use `topn` instead.\")\n"
     ]
    },
    {
     "ename": "ValueError",
     "evalue": "Length mismatch: Expected axis has 6 elements, new values have 11 elements",
     "output_type": "error",
     "traceback": [
      "\u001b[0;31m---------------------------------------------------------------------------\u001b[0m",
      "\u001b[0;31mValueError\u001b[0m                                Traceback (most recent call last)",
      "\u001b[0;32m<ipython-input-1696-e692bd259c80>\u001b[0m in \u001b[0;36m<module>\u001b[0;34m\u001b[0m\n\u001b[1;32m     23\u001b[0m \u001b[0mhistorical_dtm\u001b[0m \u001b[0;34m=\u001b[0m \u001b[0mhistorical_dtm\u001b[0m\u001b[0;34m.\u001b[0m\u001b[0mmerge\u001b[0m\u001b[0;34m(\u001b[0m\u001b[0mhistorical_dtm_draft4\u001b[0m\u001b[0;34m,\u001b[0m \u001b[0mon\u001b[0m \u001b[0;34m=\u001b[0m \u001b[0;36m0\u001b[0m\u001b[0;34m,\u001b[0m \u001b[0mhow\u001b[0m \u001b[0;34m=\u001b[0m \u001b[0;34m'outer'\u001b[0m\u001b[0;34m)\u001b[0m\u001b[0;34m\u001b[0m\u001b[0m\n\u001b[1;32m     24\u001b[0m \u001b[0mhistorical_dtm\u001b[0m \u001b[0;34m=\u001b[0m \u001b[0mhistorical_dtm\u001b[0m\u001b[0;34m.\u001b[0m\u001b[0mfillna\u001b[0m\u001b[0;34m(\u001b[0m\u001b[0;36m0\u001b[0m\u001b[0;34m)\u001b[0m\u001b[0;34m\u001b[0m\u001b[0m\n\u001b[0;32m---> 25\u001b[0;31m \u001b[0mhistorical_dtm\u001b[0m\u001b[0;34m.\u001b[0m\u001b[0mcolumns\u001b[0m \u001b[0;34m=\u001b[0m \u001b[0;34m[\u001b[0m\u001b[0;34m'word'\u001b[0m\u001b[0;34m,\u001b[0m \u001b[0;34m'Vanilla'\u001b[0m\u001b[0;34m,\u001b[0m \u001b[0;34m'South'\u001b[0m\u001b[0;34m,\u001b[0m \u001b[0;34m'Non Russia Communist'\u001b[0m\u001b[0;34m,\u001b[0m \u001b[0;34m'League of Nations'\u001b[0m\u001b[0;34m,\u001b[0m \u001b[0;34m'Communist'\u001b[0m\u001b[0;34m,\u001b[0m\u001b[0;34m'Progressive Era'\u001b[0m\u001b[0;34m,\u001b[0m \u001b[0;34m'World Order'\u001b[0m\u001b[0;34m,\u001b[0m \u001b[0;34m'Rober Baron'\u001b[0m\u001b[0;34m,\u001b[0m \u001b[0;34m'World War II'\u001b[0m\u001b[0;34m,\u001b[0m \u001b[0;34m'Asian Foreign Policy'\u001b[0m\u001b[0;34m]\u001b[0m\u001b[0;34m\u001b[0m\u001b[0m\n\u001b[0m\u001b[1;32m     26\u001b[0m \u001b[0mhistorical_dtm\u001b[0m\u001b[0;34m.\u001b[0m\u001b[0mset_index\u001b[0m\u001b[0;34m(\u001b[0m\u001b[0;34m'word'\u001b[0m\u001b[0;34m,\u001b[0m \u001b[0minplace\u001b[0m \u001b[0;34m=\u001b[0m \u001b[0;32mTrue\u001b[0m\u001b[0;34m)\u001b[0m\u001b[0;34m\u001b[0m\u001b[0m\n\u001b[1;32m     27\u001b[0m \u001b[0mhistorical_dtm\u001b[0m \u001b[0;34m=\u001b[0m \u001b[0mhistorical_dtm\u001b[0m\u001b[0;34m.\u001b[0m\u001b[0mT\u001b[0m\u001b[0;34m\u001b[0m\u001b[0m\n",
      "\u001b[0;32m~/anaconda3/lib/python3.6/site-packages/pandas/core/generic.py\u001b[0m in \u001b[0;36m__setattr__\u001b[0;34m(self, name, value)\u001b[0m\n\u001b[1;32m   4387\u001b[0m         \u001b[0;32mtry\u001b[0m\u001b[0;34m:\u001b[0m\u001b[0;34m\u001b[0m\u001b[0m\n\u001b[1;32m   4388\u001b[0m             \u001b[0mobject\u001b[0m\u001b[0;34m.\u001b[0m\u001b[0m__getattribute__\u001b[0m\u001b[0;34m(\u001b[0m\u001b[0mself\u001b[0m\u001b[0;34m,\u001b[0m \u001b[0mname\u001b[0m\u001b[0;34m)\u001b[0m\u001b[0;34m\u001b[0m\u001b[0m\n\u001b[0;32m-> 4389\u001b[0;31m             \u001b[0;32mreturn\u001b[0m \u001b[0mobject\u001b[0m\u001b[0;34m.\u001b[0m\u001b[0m__setattr__\u001b[0m\u001b[0;34m(\u001b[0m\u001b[0mself\u001b[0m\u001b[0;34m,\u001b[0m \u001b[0mname\u001b[0m\u001b[0;34m,\u001b[0m \u001b[0mvalue\u001b[0m\u001b[0;34m)\u001b[0m\u001b[0;34m\u001b[0m\u001b[0m\n\u001b[0m\u001b[1;32m   4390\u001b[0m         \u001b[0;32mexcept\u001b[0m \u001b[0mAttributeError\u001b[0m\u001b[0;34m:\u001b[0m\u001b[0;34m\u001b[0m\u001b[0m\n\u001b[1;32m   4391\u001b[0m             \u001b[0;32mpass\u001b[0m\u001b[0;34m\u001b[0m\u001b[0m\n",
      "\u001b[0;32mpandas/_libs/properties.pyx\u001b[0m in \u001b[0;36mpandas._libs.properties.AxisProperty.__set__\u001b[0;34m()\u001b[0m\n",
      "\u001b[0;32m~/anaconda3/lib/python3.6/site-packages/pandas/core/generic.py\u001b[0m in \u001b[0;36m_set_axis\u001b[0;34m(self, axis, labels)\u001b[0m\n\u001b[1;32m    644\u001b[0m \u001b[0;34m\u001b[0m\u001b[0m\n\u001b[1;32m    645\u001b[0m     \u001b[0;32mdef\u001b[0m \u001b[0m_set_axis\u001b[0m\u001b[0;34m(\u001b[0m\u001b[0mself\u001b[0m\u001b[0;34m,\u001b[0m \u001b[0maxis\u001b[0m\u001b[0;34m,\u001b[0m \u001b[0mlabels\u001b[0m\u001b[0;34m)\u001b[0m\u001b[0;34m:\u001b[0m\u001b[0;34m\u001b[0m\u001b[0m\n\u001b[0;32m--> 646\u001b[0;31m         \u001b[0mself\u001b[0m\u001b[0;34m.\u001b[0m\u001b[0m_data\u001b[0m\u001b[0;34m.\u001b[0m\u001b[0mset_axis\u001b[0m\u001b[0;34m(\u001b[0m\u001b[0maxis\u001b[0m\u001b[0;34m,\u001b[0m \u001b[0mlabels\u001b[0m\u001b[0;34m)\u001b[0m\u001b[0;34m\u001b[0m\u001b[0m\n\u001b[0m\u001b[1;32m    647\u001b[0m         \u001b[0mself\u001b[0m\u001b[0;34m.\u001b[0m\u001b[0m_clear_item_cache\u001b[0m\u001b[0;34m(\u001b[0m\u001b[0;34m)\u001b[0m\u001b[0;34m\u001b[0m\u001b[0m\n\u001b[1;32m    648\u001b[0m \u001b[0;34m\u001b[0m\u001b[0m\n",
      "\u001b[0;32m~/anaconda3/lib/python3.6/site-packages/pandas/core/internals.py\u001b[0m in \u001b[0;36mset_axis\u001b[0;34m(self, axis, new_labels)\u001b[0m\n\u001b[1;32m   3321\u001b[0m             raise ValueError(\n\u001b[1;32m   3322\u001b[0m                 \u001b[0;34m'Length mismatch: Expected axis has {old} elements, new '\u001b[0m\u001b[0;34m\u001b[0m\u001b[0m\n\u001b[0;32m-> 3323\u001b[0;31m                 'values have {new} elements'.format(old=old_len, new=new_len))\n\u001b[0m\u001b[1;32m   3324\u001b[0m \u001b[0;34m\u001b[0m\u001b[0m\n\u001b[1;32m   3325\u001b[0m         \u001b[0mself\u001b[0m\u001b[0;34m.\u001b[0m\u001b[0maxes\u001b[0m\u001b[0;34m[\u001b[0m\u001b[0maxis\u001b[0m\u001b[0;34m]\u001b[0m \u001b[0;34m=\u001b[0m \u001b[0mnew_labels\u001b[0m\u001b[0;34m\u001b[0m\u001b[0m\n",
      "\u001b[0;31mValueError\u001b[0m: Length mismatch: Expected axis has 6 elements, new values have 11 elements"
     ]
    }
   ],
   "source": [
    "# exploring the outcome of the DTM model\n",
    "topics = model.show_topics(num_topics=1, formatted = False)\n",
    "fig_size = (10,10)\n",
    "word_impact = []\n",
    "hist_word_double = []\n",
    "for item in topics:\n",
    "    word_impact = []\n",
    "    hist_word = []\n",
    "    for it in item:\n",
    "        number, topic_word = it\n",
    "        word_impact.append(number)\n",
    "        hist_word.append(topic_word)\n",
    "    hist_word_double.append(hist_word)\n",
    "    hist_word_double.append(word_impact)\n",
    "historical_dtm = pd.DataFrame(hist_word_double[:2]).T\n",
    "historical_dtm_draft = pd.DataFrame(hist_word_double[2:4]).T\n",
    "historical_dtm_draft2 = pd.DataFrame(hist_word_double[4:6]).T\n",
    "historical_dtm_draft3 = pd.DataFrame(hist_word_double[6:8]).T\n",
    "historical_dtm_draft4 = pd.DataFrame(hist_word_double[8:10]).T\n",
    "historical_dtm = historical_dtm.merge(historical_dtm_draft, on = 0, how = 'outer')\n",
    "historical_dtm = historical_dtm.merge(historical_dtm_draft2, on = 0, how = 'outer')\n",
    "historical_dtm = historical_dtm.merge(historical_dtm_draft3, on = 0, how = 'outer')\n",
    "historical_dtm = historical_dtm.merge(historical_dtm_draft4, on = 0, how = 'outer')\n",
    "historical_dtm = historical_dtm.fillna(0)\n",
    "historical_dtm.columns = ['word', 'Vanilla', 'South', 'Non Russia Communist', 'League of Nations', 'Communist','Progressive Era', 'World Order', 'Rober Baron', 'World War II', 'Asian Foreign Policy']\n",
    "historical_dtm.set_index('word', inplace = True)\n",
    "historical_dtm = historical_dtm.T\n",
    "plt.plot(historical_dtm);\n"
   ]
  },
  {
   "cell_type": "code",
   "execution_count": null,
   "metadata": {},
   "outputs": [],
   "source": [
    "# exploring the outcome of the DTM model\n",
    "topics = model.show_topics(num_topics=1, times=4, formatted = False, num_words = 10)\n",
    "word_impact = []\n",
    "hist_word_double = []\n",
    "for item in topics:\n",
    "    word_impact = []\n",
    "    hist_word = []\n",
    "    for it in item:\n",
    "        number, topic_word = it\n",
    "        word_impact.append(number)\n",
    "        hist_word.append(topic_word)\n",
    "    hist_word_double.append(hist_word)\n",
    "    hist_word_double.append(word_impact)\n",
    "historical_dtm = pd.DataFrame(hist_word_double[:2]).T\n",
    "historical_dtm_draft = pd.DataFrame(hist_word_double[2:4]).T\n",
    "historical_dtm_draft2 = pd.DataFrame(hist_word_double[4:6]).T\n",
    "historical_dtm_draft3 = pd.DataFrame(hist_word_double[6:8]).T\n",
    "historical_dtm = historical_dtm.merge(historical_dtm_draft, on = 0, how = 'outer')\n",
    "historical_dtm = historical_dtm.merge(historical_dtm_draft2, on = 0, how = 'outer')\n",
    "historical_dtm = historical_dtm.merge(historical_dtm_draft3, on = 0, how = 'outer')\n",
    "historical_dtm = historical_dtm.fillna(0)\n",
    "#historical_dtm.columns = ['word', 'Before_1865', '1865-1913', '1913-1945', '1945-Present']\n",
    "historical_dtm.set_index('word', inplace = True)\n",
    "historical_dtm = historical_dtm.T\n",
    "plt.plot(historical_dtm);"
   ]
  },
  {
   "cell_type": "code",
   "execution_count": 143,
   "metadata": {},
   "outputs": [],
   "source": [
    "def logdot(a, b):\n",
    "    max_a, max_b = np.max(a), np.max(b)\n",
    "    exp_a, exp_b = a - max_a, b - max_b\n",
    "    np.exp(exp_a, out=exp_a)\n",
    "    np.exp(exp_b, out=exp_b)\n",
    "    c = np.dot(exp_a, exp_b)\n",
    "    np.log(c, out=c)\n",
    "    c += max_a + max_b\n",
    "    return c"
   ]
  },
  {
   "cell_type": "code",
   "execution_count": 146,
   "metadata": {},
   "outputs": [],
   "source": [
    "historical_dtm = historical_dtm.T"
   ]
  },
  {
   "cell_type": "code",
   "execution_count": 148,
   "metadata": {},
   "outputs": [
    {
     "data": {
      "text/plain": [
       "0.0015824243803986419"
      ]
     },
     "execution_count": 148,
     "metadata": {},
     "output_type": "execute_result"
    }
   ],
   "source": [
    "historical_dtm['1865-1913'][1]"
   ]
  },
  {
   "cell_type": "code",
   "execution_count": 152,
   "metadata": {},
   "outputs": [
    {
     "ename": "NameError",
     "evalue": "name 'scan' is not defined",
     "output_type": "error",
     "traceback": [
      "\u001b[0;31m---------------------------------------------------------------------------\u001b[0m",
      "\u001b[0;31mNameError\u001b[0m                                 Traceback (most recent call last)",
      "\u001b[0;32m<ipython-input-152-64b8be645b3e>\u001b[0m in \u001b[0;36m<module>\u001b[0;34m\u001b[0m\n\u001b[0;32m----> 1\u001b[0;31m \u001b[0ma\u001b[0m \u001b[0;34m=\u001b[0m \u001b[0mscan\u001b[0m\u001b[0;34m(\u001b[0m\u001b[0;34m\"topic-002-var-e-log-prob.dat\"\u001b[0m\u001b[0;34m)\u001b[0m\u001b[0;34m\u001b[0m\u001b[0m\n\u001b[0m",
      "\u001b[0;31mNameError\u001b[0m: name 'scan' is not defined"
     ]
    }
   ],
   "source": [
    "a = scan(\"topic-002-var-e-log-prob.dat\")"
   ]
  },
  {
   "cell_type": "code",
   "execution_count": 151,
   "metadata": {
    "scrolled": true
   },
   "outputs": [
    {
     "ename": "TypeError",
     "evalue": "return arrays must be of ArrayType",
     "output_type": "error",
     "traceback": [
      "\u001b[0;31m---------------------------------------------------------------------------\u001b[0m",
      "\u001b[0;31mTypeError\u001b[0m                                 Traceback (most recent call last)",
      "\u001b[0;32m<ipython-input-151-31ef7b99aa67>\u001b[0m in \u001b[0;36m<module>\u001b[0;34m\u001b[0m\n\u001b[1;32m      1\u001b[0m \u001b[0;32mfor\u001b[0m \u001b[0mx\u001b[0m \u001b[0;32min\u001b[0m \u001b[0mrange\u001b[0m\u001b[0;34m(\u001b[0m\u001b[0mlen\u001b[0m\u001b[0;34m(\u001b[0m\u001b[0mhistorical_dtm\u001b[0m\u001b[0;34m[\u001b[0m\u001b[0;34m'1865-1913'\u001b[0m\u001b[0;34m]\u001b[0m\u001b[0;34m)\u001b[0m\u001b[0;34m)\u001b[0m\u001b[0;34m:\u001b[0m\u001b[0;34m\u001b[0m\u001b[0m\n\u001b[0;32m----> 2\u001b[0;31m     \u001b[0mprint\u001b[0m\u001b[0;34m(\u001b[0m\u001b[0mlogdot\u001b[0m\u001b[0;34m(\u001b[0m\u001b[0mhistorical_dtm\u001b[0m\u001b[0;34m[\u001b[0m\u001b[0;34m'Before_1865'\u001b[0m\u001b[0;34m]\u001b[0m\u001b[0;34m,\u001b[0m \u001b[0mhistorical_dtm\u001b[0m\u001b[0;34m[\u001b[0m\u001b[0;34m'1865-1913'\u001b[0m\u001b[0;34m]\u001b[0m\u001b[0;34m[\u001b[0m\u001b[0mx\u001b[0m\u001b[0;34m]\u001b[0m\u001b[0;34m)\u001b[0m\u001b[0;34m)\u001b[0m\u001b[0;34m\u001b[0m\u001b[0m\n\u001b[0m",
      "\u001b[0;32m<ipython-input-143-eaafa1e7a130>\u001b[0m in \u001b[0;36mlogdot\u001b[0;34m(a, b)\u001b[0m\n\u001b[1;32m      2\u001b[0m     \u001b[0mmax_a\u001b[0m\u001b[0;34m,\u001b[0m \u001b[0mmax_b\u001b[0m \u001b[0;34m=\u001b[0m \u001b[0mnp\u001b[0m\u001b[0;34m.\u001b[0m\u001b[0mmax\u001b[0m\u001b[0;34m(\u001b[0m\u001b[0ma\u001b[0m\u001b[0;34m)\u001b[0m\u001b[0;34m,\u001b[0m \u001b[0mnp\u001b[0m\u001b[0;34m.\u001b[0m\u001b[0mmax\u001b[0m\u001b[0;34m(\u001b[0m\u001b[0mb\u001b[0m\u001b[0;34m)\u001b[0m\u001b[0;34m\u001b[0m\u001b[0m\n\u001b[1;32m      3\u001b[0m     \u001b[0mexp_a\u001b[0m\u001b[0;34m,\u001b[0m \u001b[0mexp_b\u001b[0m \u001b[0;34m=\u001b[0m \u001b[0ma\u001b[0m \u001b[0;34m-\u001b[0m \u001b[0mmax_a\u001b[0m\u001b[0;34m,\u001b[0m \u001b[0mb\u001b[0m \u001b[0;34m-\u001b[0m \u001b[0mmax_b\u001b[0m\u001b[0;34m\u001b[0m\u001b[0m\n\u001b[0;32m----> 4\u001b[0;31m     \u001b[0mnp\u001b[0m\u001b[0;34m.\u001b[0m\u001b[0mexp\u001b[0m\u001b[0;34m(\u001b[0m\u001b[0mexp_a\u001b[0m\u001b[0;34m,\u001b[0m \u001b[0mout\u001b[0m\u001b[0;34m=\u001b[0m\u001b[0mexp_a\u001b[0m\u001b[0;34m)\u001b[0m\u001b[0;34m\u001b[0m\u001b[0m\n\u001b[0m\u001b[1;32m      5\u001b[0m     \u001b[0mnp\u001b[0m\u001b[0;34m.\u001b[0m\u001b[0mexp\u001b[0m\u001b[0;34m(\u001b[0m\u001b[0mexp_b\u001b[0m\u001b[0;34m,\u001b[0m \u001b[0mout\u001b[0m\u001b[0;34m=\u001b[0m\u001b[0mexp_b\u001b[0m\u001b[0;34m)\u001b[0m\u001b[0;34m\u001b[0m\u001b[0m\n\u001b[1;32m      6\u001b[0m     \u001b[0mc\u001b[0m \u001b[0;34m=\u001b[0m \u001b[0mnp\u001b[0m\u001b[0;34m.\u001b[0m\u001b[0mdot\u001b[0m\u001b[0;34m(\u001b[0m\u001b[0mexp_a\u001b[0m\u001b[0;34m,\u001b[0m \u001b[0mexp_b\u001b[0m\u001b[0;34m)\u001b[0m\u001b[0;34m\u001b[0m\u001b[0m\n",
      "\u001b[0;31mTypeError\u001b[0m: return arrays must be of ArrayType"
     ]
    }
   ],
   "source": [
    "for x in range(len(historical_dtm['1865-1913'])):\n",
    "    print(logdot(historical_dtm['Before_1865'], historical_dtm['1865-1913'][x]))"
   ]
  },
  {
   "cell_type": "code",
   "execution_count": 133,
   "metadata": {},
   "outputs": [
    {
     "ename": "KeyError",
     "evalue": "'Before_1865'",
     "output_type": "error",
     "traceback": [
      "\u001b[0;31m---------------------------------------------------------------------------\u001b[0m",
      "\u001b[0;31mKeyError\u001b[0m                                  Traceback (most recent call last)",
      "\u001b[0;32m~/anaconda3/lib/python3.6/site-packages/pandas/core/indexes/base.py\u001b[0m in \u001b[0;36mget_loc\u001b[0;34m(self, key, method, tolerance)\u001b[0m\n\u001b[1;32m   3077\u001b[0m             \u001b[0;32mtry\u001b[0m\u001b[0;34m:\u001b[0m\u001b[0;34m\u001b[0m\u001b[0m\n\u001b[0;32m-> 3078\u001b[0;31m                 \u001b[0;32mreturn\u001b[0m \u001b[0mself\u001b[0m\u001b[0;34m.\u001b[0m\u001b[0m_engine\u001b[0m\u001b[0;34m.\u001b[0m\u001b[0mget_loc\u001b[0m\u001b[0;34m(\u001b[0m\u001b[0mkey\u001b[0m\u001b[0;34m)\u001b[0m\u001b[0;34m\u001b[0m\u001b[0m\n\u001b[0m\u001b[1;32m   3079\u001b[0m             \u001b[0;32mexcept\u001b[0m \u001b[0mKeyError\u001b[0m\u001b[0;34m:\u001b[0m\u001b[0;34m\u001b[0m\u001b[0m\n",
      "\u001b[0;32mpandas/_libs/index.pyx\u001b[0m in \u001b[0;36mpandas._libs.index.IndexEngine.get_loc\u001b[0;34m()\u001b[0m\n",
      "\u001b[0;32mpandas/_libs/index.pyx\u001b[0m in \u001b[0;36mpandas._libs.index.IndexEngine.get_loc\u001b[0;34m()\u001b[0m\n",
      "\u001b[0;32mpandas/_libs/hashtable_class_helper.pxi\u001b[0m in \u001b[0;36mpandas._libs.hashtable.PyObjectHashTable.get_item\u001b[0;34m()\u001b[0m\n",
      "\u001b[0;32mpandas/_libs/hashtable_class_helper.pxi\u001b[0m in \u001b[0;36mpandas._libs.hashtable.PyObjectHashTable.get_item\u001b[0;34m()\u001b[0m\n",
      "\u001b[0;31mKeyError\u001b[0m: 'Before_1865'",
      "\nDuring handling of the above exception, another exception occurred:\n",
      "\u001b[0;31mKeyError\u001b[0m                                  Traceback (most recent call last)",
      "\u001b[0;32m<ipython-input-133-051634769dfc>\u001b[0m in \u001b[0;36m<module>\u001b[0;34m\u001b[0m\n\u001b[1;32m      1\u001b[0m \u001b[0mhistorical_dtm\u001b[0m \u001b[0;34m=\u001b[0m \u001b[0mhistorical_dtm\u001b[0m\u001b[0;34m.\u001b[0m\u001b[0mT\u001b[0m\u001b[0;34m\u001b[0m\u001b[0m\n\u001b[0;32m----> 2\u001b[0;31m \u001b[0mhistorical_dtm\u001b[0m\u001b[0;34m[\u001b[0m\u001b[0;34m'log_prob_1'\u001b[0m\u001b[0;34m]\u001b[0m \u001b[0;34m=\u001b[0m \u001b[0mnp\u001b[0m\u001b[0;34m.\u001b[0m\u001b[0mlog\u001b[0m\u001b[0;34m(\u001b[0m\u001b[0mhistorical_dtm\u001b[0m\u001b[0;34m[\u001b[0m\u001b[0;34m'Before_1865'\u001b[0m\u001b[0;34m]\u001b[0m \u001b[0;34m+\u001b[0m \u001b[0mhistorical_dtm\u001b[0m\u001b[0;34m[\u001b[0m\u001b[0;34m'1865-1913'\u001b[0m\u001b[0;34m]\u001b[0m\u001b[0;34m)\u001b[0m\u001b[0;34m\u001b[0m\u001b[0m\n\u001b[0m",
      "\u001b[0;32m~/anaconda3/lib/python3.6/site-packages/pandas/core/frame.py\u001b[0m in \u001b[0;36m__getitem__\u001b[0;34m(self, key)\u001b[0m\n\u001b[1;32m   2686\u001b[0m             \u001b[0;32mreturn\u001b[0m \u001b[0mself\u001b[0m\u001b[0;34m.\u001b[0m\u001b[0m_getitem_multilevel\u001b[0m\u001b[0;34m(\u001b[0m\u001b[0mkey\u001b[0m\u001b[0;34m)\u001b[0m\u001b[0;34m\u001b[0m\u001b[0m\n\u001b[1;32m   2687\u001b[0m         \u001b[0;32melse\u001b[0m\u001b[0;34m:\u001b[0m\u001b[0;34m\u001b[0m\u001b[0m\n\u001b[0;32m-> 2688\u001b[0;31m             \u001b[0;32mreturn\u001b[0m \u001b[0mself\u001b[0m\u001b[0;34m.\u001b[0m\u001b[0m_getitem_column\u001b[0m\u001b[0;34m(\u001b[0m\u001b[0mkey\u001b[0m\u001b[0;34m)\u001b[0m\u001b[0;34m\u001b[0m\u001b[0m\n\u001b[0m\u001b[1;32m   2689\u001b[0m \u001b[0;34m\u001b[0m\u001b[0m\n\u001b[1;32m   2690\u001b[0m     \u001b[0;32mdef\u001b[0m \u001b[0m_getitem_column\u001b[0m\u001b[0;34m(\u001b[0m\u001b[0mself\u001b[0m\u001b[0;34m,\u001b[0m \u001b[0mkey\u001b[0m\u001b[0;34m)\u001b[0m\u001b[0;34m:\u001b[0m\u001b[0;34m\u001b[0m\u001b[0m\n",
      "\u001b[0;32m~/anaconda3/lib/python3.6/site-packages/pandas/core/frame.py\u001b[0m in \u001b[0;36m_getitem_column\u001b[0;34m(self, key)\u001b[0m\n\u001b[1;32m   2693\u001b[0m         \u001b[0;31m# get column\u001b[0m\u001b[0;34m\u001b[0m\u001b[0;34m\u001b[0m\u001b[0m\n\u001b[1;32m   2694\u001b[0m         \u001b[0;32mif\u001b[0m \u001b[0mself\u001b[0m\u001b[0;34m.\u001b[0m\u001b[0mcolumns\u001b[0m\u001b[0;34m.\u001b[0m\u001b[0mis_unique\u001b[0m\u001b[0;34m:\u001b[0m\u001b[0;34m\u001b[0m\u001b[0m\n\u001b[0;32m-> 2695\u001b[0;31m             \u001b[0;32mreturn\u001b[0m \u001b[0mself\u001b[0m\u001b[0;34m.\u001b[0m\u001b[0m_get_item_cache\u001b[0m\u001b[0;34m(\u001b[0m\u001b[0mkey\u001b[0m\u001b[0;34m)\u001b[0m\u001b[0;34m\u001b[0m\u001b[0m\n\u001b[0m\u001b[1;32m   2696\u001b[0m \u001b[0;34m\u001b[0m\u001b[0m\n\u001b[1;32m   2697\u001b[0m         \u001b[0;31m# duplicate columns & possible reduce dimensionality\u001b[0m\u001b[0;34m\u001b[0m\u001b[0;34m\u001b[0m\u001b[0m\n",
      "\u001b[0;32m~/anaconda3/lib/python3.6/site-packages/pandas/core/generic.py\u001b[0m in \u001b[0;36m_get_item_cache\u001b[0;34m(self, item)\u001b[0m\n\u001b[1;32m   2487\u001b[0m         \u001b[0mres\u001b[0m \u001b[0;34m=\u001b[0m \u001b[0mcache\u001b[0m\u001b[0;34m.\u001b[0m\u001b[0mget\u001b[0m\u001b[0;34m(\u001b[0m\u001b[0mitem\u001b[0m\u001b[0;34m)\u001b[0m\u001b[0;34m\u001b[0m\u001b[0m\n\u001b[1;32m   2488\u001b[0m         \u001b[0;32mif\u001b[0m \u001b[0mres\u001b[0m \u001b[0;32mis\u001b[0m \u001b[0;32mNone\u001b[0m\u001b[0;34m:\u001b[0m\u001b[0;34m\u001b[0m\u001b[0m\n\u001b[0;32m-> 2489\u001b[0;31m             \u001b[0mvalues\u001b[0m \u001b[0;34m=\u001b[0m \u001b[0mself\u001b[0m\u001b[0;34m.\u001b[0m\u001b[0m_data\u001b[0m\u001b[0;34m.\u001b[0m\u001b[0mget\u001b[0m\u001b[0;34m(\u001b[0m\u001b[0mitem\u001b[0m\u001b[0;34m)\u001b[0m\u001b[0;34m\u001b[0m\u001b[0m\n\u001b[0m\u001b[1;32m   2490\u001b[0m             \u001b[0mres\u001b[0m \u001b[0;34m=\u001b[0m \u001b[0mself\u001b[0m\u001b[0;34m.\u001b[0m\u001b[0m_box_item_values\u001b[0m\u001b[0;34m(\u001b[0m\u001b[0mitem\u001b[0m\u001b[0;34m,\u001b[0m \u001b[0mvalues\u001b[0m\u001b[0;34m)\u001b[0m\u001b[0;34m\u001b[0m\u001b[0m\n\u001b[1;32m   2491\u001b[0m             \u001b[0mcache\u001b[0m\u001b[0;34m[\u001b[0m\u001b[0mitem\u001b[0m\u001b[0;34m]\u001b[0m \u001b[0;34m=\u001b[0m \u001b[0mres\u001b[0m\u001b[0;34m\u001b[0m\u001b[0m\n",
      "\u001b[0;32m~/anaconda3/lib/python3.6/site-packages/pandas/core/internals.py\u001b[0m in \u001b[0;36mget\u001b[0;34m(self, item, fastpath)\u001b[0m\n\u001b[1;32m   4113\u001b[0m \u001b[0;34m\u001b[0m\u001b[0m\n\u001b[1;32m   4114\u001b[0m             \u001b[0;32mif\u001b[0m \u001b[0;32mnot\u001b[0m \u001b[0misna\u001b[0m\u001b[0;34m(\u001b[0m\u001b[0mitem\u001b[0m\u001b[0;34m)\u001b[0m\u001b[0;34m:\u001b[0m\u001b[0;34m\u001b[0m\u001b[0m\n\u001b[0;32m-> 4115\u001b[0;31m                 \u001b[0mloc\u001b[0m \u001b[0;34m=\u001b[0m \u001b[0mself\u001b[0m\u001b[0;34m.\u001b[0m\u001b[0mitems\u001b[0m\u001b[0;34m.\u001b[0m\u001b[0mget_loc\u001b[0m\u001b[0;34m(\u001b[0m\u001b[0mitem\u001b[0m\u001b[0;34m)\u001b[0m\u001b[0;34m\u001b[0m\u001b[0m\n\u001b[0m\u001b[1;32m   4116\u001b[0m             \u001b[0;32melse\u001b[0m\u001b[0;34m:\u001b[0m\u001b[0;34m\u001b[0m\u001b[0m\n\u001b[1;32m   4117\u001b[0m                 \u001b[0mindexer\u001b[0m \u001b[0;34m=\u001b[0m \u001b[0mnp\u001b[0m\u001b[0;34m.\u001b[0m\u001b[0marange\u001b[0m\u001b[0;34m(\u001b[0m\u001b[0mlen\u001b[0m\u001b[0;34m(\u001b[0m\u001b[0mself\u001b[0m\u001b[0;34m.\u001b[0m\u001b[0mitems\u001b[0m\u001b[0;34m)\u001b[0m\u001b[0;34m)\u001b[0m\u001b[0;34m[\u001b[0m\u001b[0misna\u001b[0m\u001b[0;34m(\u001b[0m\u001b[0mself\u001b[0m\u001b[0;34m.\u001b[0m\u001b[0mitems\u001b[0m\u001b[0;34m)\u001b[0m\u001b[0;34m]\u001b[0m\u001b[0;34m\u001b[0m\u001b[0m\n",
      "\u001b[0;32m~/anaconda3/lib/python3.6/site-packages/pandas/core/indexes/base.py\u001b[0m in \u001b[0;36mget_loc\u001b[0;34m(self, key, method, tolerance)\u001b[0m\n\u001b[1;32m   3078\u001b[0m                 \u001b[0;32mreturn\u001b[0m \u001b[0mself\u001b[0m\u001b[0;34m.\u001b[0m\u001b[0m_engine\u001b[0m\u001b[0;34m.\u001b[0m\u001b[0mget_loc\u001b[0m\u001b[0;34m(\u001b[0m\u001b[0mkey\u001b[0m\u001b[0;34m)\u001b[0m\u001b[0;34m\u001b[0m\u001b[0m\n\u001b[1;32m   3079\u001b[0m             \u001b[0;32mexcept\u001b[0m \u001b[0mKeyError\u001b[0m\u001b[0;34m:\u001b[0m\u001b[0;34m\u001b[0m\u001b[0m\n\u001b[0;32m-> 3080\u001b[0;31m                 \u001b[0;32mreturn\u001b[0m \u001b[0mself\u001b[0m\u001b[0;34m.\u001b[0m\u001b[0m_engine\u001b[0m\u001b[0;34m.\u001b[0m\u001b[0mget_loc\u001b[0m\u001b[0;34m(\u001b[0m\u001b[0mself\u001b[0m\u001b[0;34m.\u001b[0m\u001b[0m_maybe_cast_indexer\u001b[0m\u001b[0;34m(\u001b[0m\u001b[0mkey\u001b[0m\u001b[0;34m)\u001b[0m\u001b[0;34m)\u001b[0m\u001b[0;34m\u001b[0m\u001b[0m\n\u001b[0m\u001b[1;32m   3081\u001b[0m \u001b[0;34m\u001b[0m\u001b[0m\n\u001b[1;32m   3082\u001b[0m         \u001b[0mindexer\u001b[0m \u001b[0;34m=\u001b[0m \u001b[0mself\u001b[0m\u001b[0;34m.\u001b[0m\u001b[0mget_indexer\u001b[0m\u001b[0;34m(\u001b[0m\u001b[0;34m[\u001b[0m\u001b[0mkey\u001b[0m\u001b[0;34m]\u001b[0m\u001b[0;34m,\u001b[0m \u001b[0mmethod\u001b[0m\u001b[0;34m=\u001b[0m\u001b[0mmethod\u001b[0m\u001b[0;34m,\u001b[0m \u001b[0mtolerance\u001b[0m\u001b[0;34m=\u001b[0m\u001b[0mtolerance\u001b[0m\u001b[0;34m)\u001b[0m\u001b[0;34m\u001b[0m\u001b[0m\n",
      "\u001b[0;32mpandas/_libs/index.pyx\u001b[0m in \u001b[0;36mpandas._libs.index.IndexEngine.get_loc\u001b[0;34m()\u001b[0m\n",
      "\u001b[0;32mpandas/_libs/index.pyx\u001b[0m in \u001b[0;36mpandas._libs.index.IndexEngine.get_loc\u001b[0;34m()\u001b[0m\n",
      "\u001b[0;32mpandas/_libs/hashtable_class_helper.pxi\u001b[0m in \u001b[0;36mpandas._libs.hashtable.PyObjectHashTable.get_item\u001b[0;34m()\u001b[0m\n",
      "\u001b[0;32mpandas/_libs/hashtable_class_helper.pxi\u001b[0m in \u001b[0;36mpandas._libs.hashtable.PyObjectHashTable.get_item\u001b[0;34m()\u001b[0m\n",
      "\u001b[0;31mKeyError\u001b[0m: 'Before_1865'"
     ]
    }
   ],
   "source": [
    "historical_dtm = historical_dtm.T\n",
    "for row in historical_dtm\n",
    "historical_dtm['log_prob_1'] = np.log(historical_dtm['Before_1865'] + historical_dtm['1865-1913'])"
   ]
  },
  {
   "cell_type": "code",
   "execution_count": null,
   "metadata": {},
   "outputs": [],
   "source": [
    "def read_topic_word_dist(topic, journal_df, output_prefix):\n",
    "    word_dist_file = output_prefix + str(topic) + '-var-e-log-prob.dat'\n",
    "    word_dist = np.fromfile(word_dist_file, sep='\\n')\n",
    "    \n",
    "    # reshape the numpy array\n",
    "    ncols = journal_df.pub_year.nunique()\n",
    "    nrows = len(vocab)\n",
    "    word_dist = np.reshape(word_dist, (nrows, ncols))\n",
    "    \n",
    "    # convert the numpy ndarray to pandas dataframe\n",
    "    return pd.DataFrame(word_dist, \n",
    "                        columns=np.sort(journal_df.pub_year.unique()).tolist())\n",
    "\n",
    "def top_words(topic_word_dist, vocab, year, num_words=10):\n",
    "    indices = topic_word_dist.loc[:,year].sort_values(ascending=False).head(num_words).index\n",
    "    return vocab.loc[indices, :]\n",
    "\n",
    "def all_top_words(topics, journal_df, vocab, ouput_prefix):\n",
    "    for topic in topics:\n",
    "        word_dist = read_topic_word_dist(topic, journal_df, output_prefix)\n",
    "        print('Topic {}'.format(topic))\n",
    "        for year in np.sort(journal_df.pub_year.unique()):\n",
    "            print(\"{}:\\n{}\\n\".format(year, top_words(word_dist, vocab, year, 20).word.tolist()))\n",
    "        print('-'*25)\n",
    "\n",
    "output_prefix = '/media/fay/38E0D529E0D4EE5E/Users/Fay/Documents/GA/GA_capstone/data/jcb_10topics/model_run/lda-seq/topic-0'\n",
    "n_topics = 10\n",
    "topics = [str(i) if i > 9 else '0' + str(i) for i in range(n_topics)]\n",
    "\n",
    "all_top_words(topics, , vocab, output_prefix)"
   ]
  }
 ],
 "metadata": {
  "kernelspec": {
   "display_name": "Python 3",
   "language": "python",
   "name": "python3"
  },
  "language_info": {
   "codemirror_mode": {
    "name": "ipython",
    "version": 3
   },
   "file_extension": ".py",
   "mimetype": "text/x-python",
   "name": "python",
   "nbconvert_exporter": "python",
   "pygments_lexer": "ipython3",
   "version": "3.6.5"
  }
 },
 "nbformat": 4,
 "nbformat_minor": 2
}
