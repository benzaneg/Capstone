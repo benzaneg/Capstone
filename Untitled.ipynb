{
 "cells": [
  {
   "cell_type": "code",
   "execution_count": 2,
   "metadata": {},
   "outputs": [
    {
     "name": "stdout",
     "output_type": "stream",
     "text": [
      "Collecting numpy\n",
      "\u001b[?25l  Downloading https://files.pythonhosted.org/packages/0a/2b/726b7d4e4ba844d4805c52b8e05299a5f49bc16c69ca0fa8e1964c0871fe/numpy-1.15.2-cp36-cp36m-macosx_10_6_intel.macosx_10_9_intel.macosx_10_9_x86_64.macosx_10_10_intel.macosx_10_10_x86_64.whl (24.5MB)\n",
      "\u001b[K    100% |████████████████████████████████| 24.5MB 1.3MB/s ta 0:00:01\n",
      "\u001b[?25hCollecting pandas\n",
      "\u001b[?25l  Downloading https://files.pythonhosted.org/packages/78/78/50ef81a903eccc4e90e278a143c9a0530f05199f6221d2e1b21025852982/pandas-0.23.4-cp36-cp36m-macosx_10_6_intel.macosx_10_9_intel.macosx_10_9_x86_64.macosx_10_10_intel.macosx_10_10_x86_64.whl (14.6MB)\n",
      "\u001b[K    100% |████████████████████████████████| 14.7MB 3.1MB/s ta 0:00:01   37% |████████████                    | 5.5MB 1.3MB/s eta 0:00:08\n",
      "\u001b[?25hCollecting matplotlib\n",
      "\u001b[?25l  Downloading https://files.pythonhosted.org/packages/f0/de/49aea99b9d088ce4457b5b171c016173347eba7b79753cdacbbd7da89dee/matplotlib-3.0.0-cp36-cp36m-macosx_10_6_intel.macosx_10_9_intel.macosx_10_9_x86_64.macosx_10_10_intel.macosx_10_10_x86_64.whl (14.1MB)\n",
      "\u001b[K    100% |████████████████████████████████| 14.1MB 2.1MB/s ta 0:00:011\n",
      "\u001b[?25hCollecting sklearn\n",
      "  Downloading https://files.pythonhosted.org/packages/1e/7a/dbb3be0ce9bd5c8b7e3d87328e79063f8b263b2b1bfa4774cb1147bfcd3f/sklearn-0.0.tar.gz\n",
      "Collecting ipywidgets\n",
      "\u001b[?25l  Downloading https://files.pythonhosted.org/packages/30/9a/a008c7b1183fac9e52066d80a379b3c64eab535bd9d86cdc29a0b766fd82/ipywidgets-7.4.2-py2.py3-none-any.whl (111kB)\n",
      "\u001b[K    100% |████████████████████████████████| 112kB 5.6MB/s ta 0:00:01\n",
      "\u001b[?25hCollecting IPython\n",
      "\u001b[?25l  Downloading https://files.pythonhosted.org/packages/a0/27/29d66ed395a5c2c3a912332d446a54e2bc3277c36b0bbd22bc71623e0193/ipython-7.0.1-py3-none-any.whl (760kB)\n",
      "\u001b[K    100% |████████████████████████████████| 768kB 4.3MB/s ta 0:00:01\n",
      "\u001b[?25hCollecting missingno\n",
      "  Downloading https://files.pythonhosted.org/packages/57/eb/9d7d55ceec57e0e374e70e9ad8d16795ba91960a3c987f3b5ee71d3e8e4d/missingno-0.4.1-py3-none-any.whl\n",
      "Requirement already satisfied, skipping upgrade: python-dateutil>=2.5.0 in /Users/bengreer/anaconda3/lib/python3.6/site-packages (from pandas) (2.7.3)\n",
      "Requirement already satisfied, skipping upgrade: pytz>=2011k in /Users/bengreer/anaconda3/lib/python3.6/site-packages (from pandas) (2018.4)\n",
      "Requirement already satisfied, skipping upgrade: pyparsing!=2.0.4,!=2.1.2,!=2.1.6,>=2.0.1 in /Users/bengreer/anaconda3/lib/python3.6/site-packages (from matplotlib) (2.2.0)\n",
      "Requirement already satisfied, skipping upgrade: kiwisolver>=1.0.1 in /Users/bengreer/anaconda3/lib/python3.6/site-packages (from matplotlib) (1.0.1)\n",
      "Requirement already satisfied, skipping upgrade: cycler>=0.10 in /Users/bengreer/anaconda3/lib/python3.6/site-packages (from matplotlib) (0.10.0)\n",
      "Requirement already satisfied, skipping upgrade: scikit-learn in /Users/bengreer/anaconda3/lib/python3.6/site-packages (from sklearn) (0.19.1)\n",
      "Collecting widgetsnbextension~=3.4.0 (from ipywidgets)\n",
      "\u001b[?25l  Downloading https://files.pythonhosted.org/packages/8a/81/35789a3952afb48238289171728072d26d6e76649ddc8b3588657a2d78c1/widgetsnbextension-3.4.2-py2.py3-none-any.whl (2.2MB)\n",
      "\u001b[K    100% |████████████████████████████████| 2.2MB 7.5MB/s eta 0:00:01\n",
      "\u001b[?25hRequirement already satisfied, skipping upgrade: traitlets>=4.3.1 in /Users/bengreer/anaconda3/lib/python3.6/site-packages (from ipywidgets) (4.3.2)\n",
      "Requirement already satisfied, skipping upgrade: ipykernel>=4.5.1 in /Users/bengreer/anaconda3/lib/python3.6/site-packages (from ipywidgets) (4.8.2)\n",
      "Requirement already satisfied, skipping upgrade: nbformat>=4.2.0 in /Users/bengreer/anaconda3/lib/python3.6/site-packages (from ipywidgets) (4.4.0)\n",
      "Requirement already satisfied, skipping upgrade: simplegeneric>0.8 in /Users/bengreer/anaconda3/lib/python3.6/site-packages (from IPython) (0.8.1)\n",
      "Requirement already satisfied, skipping upgrade: appnope; sys_platform == \"darwin\" in /Users/bengreer/anaconda3/lib/python3.6/site-packages (from IPython) (0.1.0)\n",
      "Requirement already satisfied, skipping upgrade: setuptools>=18.5 in /Users/bengreer/anaconda3/lib/python3.6/site-packages (from IPython) (39.1.0)\n",
      "Requirement already satisfied, skipping upgrade: decorator in /Users/bengreer/anaconda3/lib/python3.6/site-packages (from IPython) (4.3.0)\n",
      "Requirement already satisfied, skipping upgrade: jedi>=0.10 in /Users/bengreer/anaconda3/lib/python3.6/site-packages (from IPython) (0.12.0)\n",
      "Requirement already satisfied, skipping upgrade: pygments in /Users/bengreer/anaconda3/lib/python3.6/site-packages (from IPython) (2.2.0)\n",
      "Requirement already satisfied, skipping upgrade: backcall in /Users/bengreer/anaconda3/lib/python3.6/site-packages (from IPython) (0.1.0)\n",
      "Collecting prompt-toolkit<2.1.0,>=2.0.0 (from IPython)\n",
      "\u001b[?25l  Downloading https://files.pythonhosted.org/packages/91/ef/f4010d53dbd736c47e78d2226b12ab446bbe0ce66616d0b92d51d8a15fe4/prompt_toolkit-2.0.4-py3-none-any.whl (328kB)\n",
      "\u001b[K    100% |████████████████████████████████| 337kB 9.6MB/s ta 0:00:01\n",
      "\u001b[?25hRequirement already satisfied, skipping upgrade: pickleshare in /Users/bengreer/anaconda3/lib/python3.6/site-packages (from IPython) (0.7.4)\n",
      "Requirement already satisfied, skipping upgrade: pexpect; sys_platform != \"win32\" in /Users/bengreer/anaconda3/lib/python3.6/site-packages (from IPython) (4.5.0)\n",
      "Requirement already satisfied, skipping upgrade: scipy in /Users/bengreer/anaconda3/lib/python3.6/site-packages (from missingno) (1.1.0)\n",
      "Requirement already satisfied, skipping upgrade: seaborn in /Users/bengreer/anaconda3/lib/python3.6/site-packages (from missingno) (0.8.1)\n",
      "Requirement already satisfied, skipping upgrade: six>=1.5 in /Users/bengreer/anaconda3/lib/python3.6/site-packages (from python-dateutil>=2.5.0->pandas) (1.11.0)\n",
      "Requirement already satisfied, skipping upgrade: notebook>=4.4.1 in /Users/bengreer/anaconda3/lib/python3.6/site-packages (from widgetsnbextension~=3.4.0->ipywidgets) (5.5.0)\n",
      "Requirement already satisfied, skipping upgrade: ipython_genutils in /Users/bengreer/anaconda3/lib/python3.6/site-packages (from traitlets>=4.3.1->ipywidgets) (0.2.0)\n",
      "Requirement already satisfied, skipping upgrade: jupyter_client in /Users/bengreer/anaconda3/lib/python3.6/site-packages (from ipykernel>=4.5.1->ipywidgets) (5.2.3)\n",
      "Requirement already satisfied, skipping upgrade: tornado>=4.0 in /Users/bengreer/anaconda3/lib/python3.6/site-packages (from ipykernel>=4.5.1->ipywidgets) (5.0.2)\n",
      "Requirement already satisfied, skipping upgrade: jsonschema!=2.5.0,>=2.4 in /Users/bengreer/anaconda3/lib/python3.6/site-packages (from nbformat>=4.2.0->ipywidgets) (2.6.0)\n",
      "Requirement already satisfied, skipping upgrade: jupyter_core in /Users/bengreer/anaconda3/lib/python3.6/site-packages (from nbformat>=4.2.0->ipywidgets) (4.4.0)\n",
      "Requirement already satisfied, skipping upgrade: parso>=0.2.0 in /Users/bengreer/anaconda3/lib/python3.6/site-packages (from jedi>=0.10->IPython) (0.2.0)\n",
      "Requirement already satisfied, skipping upgrade: wcwidth in /Users/bengreer/anaconda3/lib/python3.6/site-packages (from prompt-toolkit<2.1.0,>=2.0.0->IPython) (0.1.7)\n",
      "Requirement already satisfied, skipping upgrade: ptyprocess>=0.5 in /Users/bengreer/anaconda3/lib/python3.6/site-packages (from pexpect; sys_platform != \"win32\"->IPython) (0.5.2)\n",
      "Requirement already satisfied, skipping upgrade: jinja2 in /Users/bengreer/anaconda3/lib/python3.6/site-packages (from notebook>=4.4.1->widgetsnbextension~=3.4.0->ipywidgets) (2.10)\n",
      "Requirement already satisfied, skipping upgrade: nbconvert in /Users/bengreer/anaconda3/lib/python3.6/site-packages (from notebook>=4.4.1->widgetsnbextension~=3.4.0->ipywidgets) (5.3.1)\n",
      "Requirement already satisfied, skipping upgrade: terminado>=0.8.1 in /Users/bengreer/anaconda3/lib/python3.6/site-packages (from notebook>=4.4.1->widgetsnbextension~=3.4.0->ipywidgets) (0.8.1)\n",
      "Requirement already satisfied, skipping upgrade: pyzmq>=17 in /Users/bengreer/anaconda3/lib/python3.6/site-packages (from notebook>=4.4.1->widgetsnbextension~=3.4.0->ipywidgets) (17.0.0)\n",
      "Requirement already satisfied, skipping upgrade: Send2Trash in /Users/bengreer/anaconda3/lib/python3.6/site-packages (from notebook>=4.4.1->widgetsnbextension~=3.4.0->ipywidgets) (1.5.0)\n",
      "Requirement already satisfied, skipping upgrade: MarkupSafe>=0.23 in /Users/bengreer/anaconda3/lib/python3.6/site-packages (from jinja2->notebook>=4.4.1->widgetsnbextension~=3.4.0->ipywidgets) (1.0)\n",
      "Requirement already satisfied, skipping upgrade: mistune>=0.7.4 in /Users/bengreer/anaconda3/lib/python3.6/site-packages (from nbconvert->notebook>=4.4.1->widgetsnbextension~=3.4.0->ipywidgets) (0.8.3)\n",
      "Requirement already satisfied, skipping upgrade: entrypoints>=0.2.2 in /Users/bengreer/anaconda3/lib/python3.6/site-packages (from nbconvert->notebook>=4.4.1->widgetsnbextension~=3.4.0->ipywidgets) (0.2.3)\n",
      "Requirement already satisfied, skipping upgrade: bleach in /Users/bengreer/anaconda3/lib/python3.6/site-packages (from nbconvert->notebook>=4.4.1->widgetsnbextension~=3.4.0->ipywidgets) (2.1.3)\n"
     ]
    },
    {
     "name": "stdout",
     "output_type": "stream",
     "text": [
      "Requirement already satisfied, skipping upgrade: pandocfilters>=1.4.1 in /Users/bengreer/anaconda3/lib/python3.6/site-packages (from nbconvert->notebook>=4.4.1->widgetsnbextension~=3.4.0->ipywidgets) (1.4.2)\n",
      "Requirement already satisfied, skipping upgrade: testpath in /Users/bengreer/anaconda3/lib/python3.6/site-packages (from nbconvert->notebook>=4.4.1->widgetsnbextension~=3.4.0->ipywidgets) (0.3.1)\n",
      "Requirement already satisfied, skipping upgrade: html5lib!=1.0b1,!=1.0b2,!=1.0b3,!=1.0b4,!=1.0b5,!=1.0b6,!=1.0b7,!=1.0b8,>=0.99999999pre in /Users/bengreer/anaconda3/lib/python3.6/site-packages (from bleach->nbconvert->notebook>=4.4.1->widgetsnbextension~=3.4.0->ipywidgets) (1.0.1)\n",
      "Requirement already satisfied, skipping upgrade: webencodings in /Users/bengreer/anaconda3/lib/python3.6/site-packages (from html5lib!=1.0b1,!=1.0b2,!=1.0b3,!=1.0b4,!=1.0b5,!=1.0b6,!=1.0b7,!=1.0b8,>=0.99999999pre->bleach->nbconvert->notebook>=4.4.1->widgetsnbextension~=3.4.0->ipywidgets) (0.5.1)\n",
      "Building wheels for collected packages: sklearn\n",
      "  Running setup.py bdist_wheel for sklearn ... \u001b[?25ldone\n",
      "\u001b[?25h  Stored in directory: /Users/bengreer/Library/Caches/pip/wheels/76/03/bb/589d421d27431bcd2c6da284d5f2286c8e3b2ea3cf1594c074\n",
      "Successfully built sklearn\n",
      "\u001b[31mjupyter-console 5.2.0 has requirement prompt_toolkit<2.0.0,>=1.0.0, but you'll have prompt-toolkit 2.0.4 which is incompatible.\u001b[0m\n",
      "Installing collected packages: numpy, pandas, matplotlib, sklearn, widgetsnbextension, prompt-toolkit, IPython, ipywidgets, missingno\n",
      "  Found existing installation: numpy 1.14.3\n",
      "    Uninstalling numpy-1.14.3:\n",
      "      Successfully uninstalled numpy-1.14.3\n",
      "  Found existing installation: pandas 0.23.0\n",
      "    Uninstalling pandas-0.23.0:\n",
      "      Successfully uninstalled pandas-0.23.0\n",
      "  Found existing installation: matplotlib 2.2.2\n",
      "    Uninstalling matplotlib-2.2.2:\n",
      "      Successfully uninstalled matplotlib-2.2.2\n",
      "  Found existing installation: widgetsnbextension 3.2.1\n",
      "    Uninstalling widgetsnbextension-3.2.1:\n",
      "      Successfully uninstalled widgetsnbextension-3.2.1\n",
      "  Found existing installation: prompt-toolkit 1.0.15\n",
      "    Uninstalling prompt-toolkit-1.0.15:\n",
      "      Successfully uninstalled prompt-toolkit-1.0.15\n",
      "  Found existing installation: ipython 6.4.0\n",
      "    Uninstalling ipython-6.4.0:\n",
      "      Successfully uninstalled ipython-6.4.0\n",
      "  Found existing installation: ipywidgets 7.2.1\n",
      "    Uninstalling ipywidgets-7.2.1:\n",
      "      Successfully uninstalled ipywidgets-7.2.1\n",
      "Successfully installed IPython-7.0.1 ipywidgets-7.4.2 matplotlib-3.0.0 missingno-0.4.1 numpy-1.15.2 pandas-0.23.4 prompt-toolkit-2.0.4 sklearn-0.0 widgetsnbextension-3.4.2\n"
     ]
    }
   ],
   "source": [
    "!pip install numpy pandas matplotlib sklearn ipywidgets IPython missingno --upgrade"
   ]
  },
  {
   "cell_type": "code",
   "execution_count": 7,
   "metadata": {},
   "outputs": [
    {
     "name": "stderr",
     "output_type": "stream",
     "text": [
      "Using TensorFlow backend.\n"
     ]
    },
    {
     "name": "stdout",
     "output_type": "stream",
     "text": [
      "Epoch 1/10\n",
      "10000/10000 [==============================] - 0s 46us/step - loss: 39420.1594\n",
      "Epoch 2/10\n",
      "10000/10000 [==============================] - 0s 24us/step - loss: 29656.1723\n",
      "Epoch 3/10\n",
      "10000/10000 [==============================] - 0s 24us/step - loss: 12871.6199\n",
      "Epoch 4/10\n",
      "10000/10000 [==============================] - 0s 24us/step - loss: 3812.4477\n",
      "Epoch 5/10\n",
      "10000/10000 [==============================] - 0s 23us/step - loss: 1296.2328\n",
      "Epoch 6/10\n",
      "10000/10000 [==============================] - 0s 23us/step - loss: 759.8773\n",
      "Epoch 7/10\n",
      "10000/10000 [==============================] - 0s 24us/step - loss: 574.0368\n",
      "Epoch 8/10\n",
      "10000/10000 [==============================] - 0s 25us/step - loss: 480.8696\n",
      "Epoch 9/10\n",
      "10000/10000 [==============================] - 0s 25us/step - loss: 423.7685\n",
      "Epoch 10/10\n",
      "10000/10000 [==============================] - 0s 23us/step - loss: 378.5773\n"
     ]
    },
    {
     "data": {
      "text/plain": [
       "<keras.callbacks.History at 0x1a2db34e48>"
      ]
     },
     "execution_count": 7,
     "metadata": {},
     "output_type": "execute_result"
    }
   ],
   "source": [
    "from sklearn.datasets import make_regression\n",
    "\n",
    "from keras.models import Sequential\n",
    "from keras.layers import Dense\n",
    "\n",
    "X, y = make_regression(n_samples=10000, n_features=20, random_state=42)\n",
    "\n",
    "model = Sequential()\n",
    "model.add(Dense(10, activation='relu', input_dim=X.shape[1]))\n",
    "model.add(Dense(10, activation='relu'))\n",
    "model.add(Dense(1)) # always have 1 neuron, with no activation function\n",
    "\n",
    "model.compile(loss='mean_squared_error', optimizer='adam')\n",
    "model.fit(X, y, epochs=10, batch_size=32)"
   ]
  },
  {
   "cell_type": "code",
   "execution_count": 4,
   "metadata": {},
   "outputs": [
    {
     "name": "stdout",
     "output_type": "stream",
     "text": [
      "Collecting keras\n",
      "\u001b[?25l  Downloading https://files.pythonhosted.org/packages/34/7d/b1dedde8af99bd82f20ed7e9697aac0597de3049b1f786aa2aac3b9bd4da/Keras-2.2.2-py2.py3-none-any.whl (299kB)\n",
      "\u001b[K    100% |████████████████████████████████| 307kB 5.1MB/s ta 0:00:01\n",
      "\u001b[?25hRequirement already satisfied: scipy>=0.14 in /Users/bengreer/anaconda3/lib/python3.6/site-packages (from keras) (1.1.0)\n",
      "Requirement already satisfied: pyyaml in /Users/bengreer/anaconda3/lib/python3.6/site-packages (from keras) (3.12)\n",
      "Requirement already satisfied: h5py in /Users/bengreer/anaconda3/lib/python3.6/site-packages (from keras) (2.7.1)\n",
      "Collecting keras-applications==1.0.4 (from keras)\n",
      "\u001b[?25l  Downloading https://files.pythonhosted.org/packages/54/90/8f327deaa37a71caddb59b7b4aaa9d4b3e90c0e76f8c2d1572005278ddc5/Keras_Applications-1.0.4-py2.py3-none-any.whl (43kB)\n",
      "\u001b[K    100% |████████████████████████████████| 51kB 6.7MB/s ta 0:00:011\n",
      "\u001b[?25hCollecting keras-preprocessing==1.0.2 (from keras)\n",
      "  Downloading https://files.pythonhosted.org/packages/71/26/1e778ebd737032749824d5cba7dbd3b0cf9234b87ab5ec79f5f0403ca7e9/Keras_Preprocessing-1.0.2-py2.py3-none-any.whl\n",
      "Requirement already satisfied: numpy>=1.9.1 in /Users/bengreer/anaconda3/lib/python3.6/site-packages (from keras) (1.15.2)\n",
      "Requirement already satisfied: six>=1.9.0 in /Users/bengreer/anaconda3/lib/python3.6/site-packages (from keras) (1.11.0)\n",
      "Installing collected packages: keras-applications, keras-preprocessing, keras\n",
      "Successfully installed keras-2.2.2 keras-applications-1.0.4 keras-preprocessing-1.0.2\n"
     ]
    }
   ],
   "source": [
    "!pip install keras"
   ]
  },
  {
   "cell_type": "code",
   "execution_count": 6,
   "metadata": {},
   "outputs": [
    {
     "name": "stdout",
     "output_type": "stream",
     "text": [
      "Collecting tensorflow\n",
      "\u001b[?25l  Downloading https://files.pythonhosted.org/packages/70/78/cd74769027b6249e45807637c1aa3ef212b9492349cca4b87e5de1a10548/tensorflow-1.11.0-cp36-cp36m-macosx_10_11_x86_64.whl (59.3MB)\n",
      "\u001b[K    100% |████████████████████████████████| 59.4MB 695kB/s ta 0:00:011\n",
      "\u001b[?25hCollecting protobuf>=3.6.0 (from tensorflow)\n",
      "\u001b[?25l  Downloading https://files.pythonhosted.org/packages/c7/27/133f225035b9539f2dcfebcdf9a69ff0152f56e0120160ec5c972ea7deb9/protobuf-3.6.1-cp36-cp36m-macosx_10_6_intel.macosx_10_9_intel.macosx_10_9_x86_64.macosx_10_10_intel.macosx_10_10_x86_64.whl (1.2MB)\n",
      "\u001b[K    100% |████████████████████████████████| 1.2MB 6.9MB/s eta 0:00:01\n",
      "\u001b[?25hCollecting tensorboard<1.12.0,>=1.11.0 (from tensorflow)\n",
      "\u001b[?25l  Downloading https://files.pythonhosted.org/packages/9b/2f/4d788919b1feef04624d63ed6ea45a49d1d1c834199ec50716edb5d310f4/tensorboard-1.11.0-py3-none-any.whl (3.0MB)\n",
      "\u001b[K    100% |████████████████████████████████| 3.0MB 3.4MB/s ta 0:00:011\n",
      "\u001b[?25hCollecting gast>=0.2.0 (from tensorflow)\n",
      "  Downloading https://files.pythonhosted.org/packages/5c/78/ff794fcae2ce8aa6323e789d1f8b3b7765f601e7702726f430e814822b96/gast-0.2.0.tar.gz\n",
      "Collecting absl-py>=0.1.6 (from tensorflow)\n",
      "\u001b[?25l  Downloading https://files.pythonhosted.org/packages/16/db/cce5331638138c178dd1d5fb69f3f55eb3787a12efd9177177ae203e847f/absl-py-0.5.0.tar.gz (90kB)\n",
      "\u001b[K    100% |████████████████████████████████| 92kB 6.3MB/s ta 0:00:011\n",
      "\u001b[?25hCollecting termcolor>=1.1.0 (from tensorflow)\n",
      "  Downloading https://files.pythonhosted.org/packages/8a/48/a76be51647d0eb9f10e2a4511bf3ffb8cc1e6b14e9e4fab46173aa79f981/termcolor-1.1.0.tar.gz\n",
      "Collecting grpcio>=1.8.6 (from tensorflow)\n",
      "\u001b[?25l  Downloading https://files.pythonhosted.org/packages/24/1a/84396834b04cd43be3c10f5faeadf62d01689b704b3c99d09e1e08a41d9b/grpcio-1.15.0-cp36-cp36m-macosx_10_7_intel.whl (2.0MB)\n",
      "\u001b[K    100% |████████████████████████████████| 2.0MB 2.2MB/s ta 0:00:01\n",
      "\u001b[?25hRequirement already satisfied: wheel>=0.26 in /Users/bengreer/anaconda3/lib/python3.6/site-packages (from tensorflow) (0.31.1)\n",
      "Collecting astor>=0.6.0 (from tensorflow)\n",
      "  Downloading https://files.pythonhosted.org/packages/35/6b/11530768cac581a12952a2aad00e1526b89d242d0b9f59534ef6e6a1752f/astor-0.7.1-py2.py3-none-any.whl\n",
      "Collecting keras-applications>=1.0.5 (from tensorflow)\n",
      "\u001b[?25l  Downloading https://files.pythonhosted.org/packages/3f/9c/6e9393ead970fd97be0cfde912697dafec5800d9191f5ba25352fa537d72/Keras_Applications-1.0.5-py2.py3-none-any.whl (44kB)\n",
      "\u001b[K    100% |████████████████████████████████| 51kB 2.2MB/s ta 0:00:01\n",
      "\u001b[?25hCollecting keras-preprocessing>=1.0.3 (from tensorflow)\n",
      "  Downloading https://files.pythonhosted.org/packages/b3/bd/796f986980da4d6adc77ffd8b2b11074e7b17a7b74b03789aefac5709c4b/Keras_Preprocessing-1.0.3-py2.py3-none-any.whl\n",
      "Requirement already satisfied: setuptools<=39.1.0 in /Users/bengreer/anaconda3/lib/python3.6/site-packages (from tensorflow) (39.1.0)\n",
      "Requirement already satisfied: numpy>=1.13.3 in /Users/bengreer/anaconda3/lib/python3.6/site-packages (from tensorflow) (1.15.2)\n",
      "Requirement already satisfied: six>=1.10.0 in /Users/bengreer/anaconda3/lib/python3.6/site-packages (from tensorflow) (1.11.0)\n",
      "Collecting markdown>=2.6.8 (from tensorboard<1.12.0,>=1.11.0->tensorflow)\n",
      "\u001b[?25l  Downloading https://files.pythonhosted.org/packages/7a/6b/5600647404ba15545ec37d2f7f58844d690baf2f81f3a60b862e48f29287/Markdown-3.0.1-py2.py3-none-any.whl (89kB)\n",
      "\u001b[K    100% |████████████████████████████████| 92kB 3.4MB/s ta 0:00:011\n",
      "\u001b[?25hRequirement already satisfied: werkzeug>=0.11.10 in /Users/bengreer/anaconda3/lib/python3.6/site-packages (from tensorboard<1.12.0,>=1.11.0->tensorflow) (0.14.1)\n",
      "Requirement already satisfied: h5py in /Users/bengreer/anaconda3/lib/python3.6/site-packages (from keras-applications>=1.0.5->tensorflow) (2.7.1)\n",
      "Requirement already satisfied: keras>=2.1.6 in /Users/bengreer/anaconda3/lib/python3.6/site-packages (from keras-applications>=1.0.5->tensorflow) (2.2.2)\n",
      "Requirement already satisfied: scipy>=0.14 in /Users/bengreer/anaconda3/lib/python3.6/site-packages (from keras-preprocessing>=1.0.3->tensorflow) (1.1.0)\n",
      "Requirement already satisfied: pyyaml in /Users/bengreer/anaconda3/lib/python3.6/site-packages (from keras>=2.1.6->keras-applications>=1.0.5->tensorflow) (3.12)\n",
      "Building wheels for collected packages: gast, absl-py, termcolor\n",
      "  Running setup.py bdist_wheel for gast ... \u001b[?25ldone\n",
      "\u001b[?25h  Stored in directory: /Users/bengreer/Library/Caches/pip/wheels/9a/1f/0e/3cde98113222b853e98fc0a8e9924480a3e25f1b4008cedb4f\n",
      "  Running setup.py bdist_wheel for absl-py ... \u001b[?25ldone\n",
      "\u001b[?25h  Stored in directory: /Users/bengreer/Library/Caches/pip/wheels/3c/33/ae/db8cd618e62f87594c13a5483f96e618044f9b01596efd013f\n",
      "  Running setup.py bdist_wheel for termcolor ... \u001b[?25ldone\n",
      "\u001b[?25h  Stored in directory: /Users/bengreer/Library/Caches/pip/wheels/7c/06/54/bc84598ba1daf8f970247f550b175aaaee85f68b4b0c5ab2c6\n",
      "Successfully built gast absl-py termcolor\n",
      "\u001b[31mkeras 2.2.2 has requirement keras-applications==1.0.4, but you'll have keras-applications 1.0.5 which is incompatible.\u001b[0m\n",
      "\u001b[31mkeras 2.2.2 has requirement keras-preprocessing==1.0.2, but you'll have keras-preprocessing 1.0.3 which is incompatible.\u001b[0m\n",
      "Installing collected packages: protobuf, markdown, grpcio, tensorboard, gast, absl-py, termcolor, astor, keras-applications, keras-preprocessing, tensorflow\n",
      "  Found existing installation: Keras-Applications 1.0.4\n",
      "    Uninstalling Keras-Applications-1.0.4:\n",
      "      Successfully uninstalled Keras-Applications-1.0.4\n",
      "  Found existing installation: Keras-Preprocessing 1.0.2\n",
      "    Uninstalling Keras-Preprocessing-1.0.2:\n",
      "      Successfully uninstalled Keras-Preprocessing-1.0.2\n",
      "Successfully installed absl-py-0.5.0 astor-0.7.1 gast-0.2.0 grpcio-1.15.0 keras-applications-1.0.5 keras-preprocessing-1.0.3 markdown-3.0.1 protobuf-3.6.1 tensorboard-1.11.0 tensorflow-1.11.0 termcolor-1.1.0\n"
     ]
    }
   ],
   "source": [
    "!pip install tensorflow"
   ]
  },
  {
   "cell_type": "code",
   "execution_count": null,
   "metadata": {},
   "outputs": [],
   "source": []
  }
 ],
 "metadata": {
  "kernelspec": {
   "display_name": "Python 3",
   "language": "python",
   "name": "python3"
  },
  "language_info": {
   "codemirror_mode": {
    "name": "ipython",
    "version": 3
   },
   "file_extension": ".py",
   "mimetype": "text/x-python",
   "name": "python",
   "nbconvert_exporter": "python",
   "pygments_lexer": "ipython3",
   "version": "3.6.5"
  }
 },
 "nbformat": 4,
 "nbformat_minor": 2
}
