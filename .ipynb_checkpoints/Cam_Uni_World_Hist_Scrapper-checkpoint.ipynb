{
 "cells": [
  {
   "cell_type": "code",
   "execution_count": 1,
   "metadata": {},
   "outputs": [],
   "source": [
    "import pandas as pd\n",
    "import requests \n",
    "from bs4 import BeautifulSoup\n",
    "from time import sleep as go_night_night\n",
    "from selenium import webdriver\n",
    "import time\n",
    "import re\n"
   ]
  },
  {
   "cell_type": "code",
   "execution_count": 2,
   "metadata": {},
   "outputs": [],
   "source": [
    "def cambridge_histories_scraper(url_link, list_of_chapters):\n",
    "    # Open up the Selenium Chrome Webdriver\n",
    "    browser = webdriver.Chrome(executable_path = \"./chromedriver/macos/chromedriver\")\n",
    "    path=\"./chromedriver/macos/chromedriver\"\n",
    "    # Navigate through the log in process\n",
    "    browser.get(url)\n",
    "    time.sleep(1)\n",
    "    browser.find_element_by_id(\"weblogin_netid\").send_keys('idssam') # need to remove password\n",
    "    time.sleep(1)\n",
    "    browser.find_element_by_id(\"weblogin_password\").send_keys('Ret@2017') # need to remove password\n",
    "    time.sleep(1)\n",
    "    browser.find_element_by_id(\"submit_button\").click()\n",
    "    \n",
    "    # Grabbing an HTML version of the current page\n",
    "    html_doc = browser.page_source\n",
    "    time.sleep(1)\n",
    "    soup = BeautifulSoup(html_doc, 'html.parser')\n",
    "    # Define the Corpora\n",
    "    corpora = []\n",
    "    \n",
    "    # Creating a list of all of the URL \n",
    "    for tag in soup.find_all(class_ = 'category'):\n",
    "        links = []\n",
    "        for piece in tag.find_all('a'):\n",
    "            if 'HTML' in piece.text:\n",
    "                links.append(piece['href'])#['data-cup-event-payloads']) #['eventContext'])\n",
    "        new_links = []\n",
    "        for link in links:\n",
    "            new_links.append(re.findall('product\\/([A-Z0-9]+\\/core-reader)',link))\n",
    "        new_links = [str(item) for item in new_links if isinstance(item,list)]\n",
    "        cleaned = []\n",
    "        for dirty in new_links:\n",
    "            dirty = re.sub(\"\\['\", '', dirty)\n",
    "            dirty = re.sub(\"'\\]\", '', dirty)\n",
    "            cleaned.append(dirty)\n",
    "        cleaned_topics = list_of_chapters\n",
    "        print(cleaned)\n",
    "        for clean in cleaned_topics:\n",
    "            browser = webdriver.Chrome(executable_path = \"./chromedriver/macos/chromedriver\")\n",
    "            path=\"./chromedriver/macos/chromedriver\"\n",
    "            url = 'https://www-cambridge-org.offcampus.lib.washington.edu/core/books/cambridge-world-history/cambridge-world-historyvolume-vii/{}'.format(cleaned[clean])\n",
    "            browser.get(url)\n",
    "            time.sleep(1)\n",
    "            browser.find_element_by_id(\"weblogin_netid\").send_keys('idssam') # need to remove password\n",
    "            time.sleep(1)\n",
    "            browser.find_element_by_id(\"weblogin_password\").send_keys('Ret@2017') # need to remove password\n",
    "            time.sleep(1)\n",
    "            browser.find_element_by_id(\"submit_button\").click()\n",
    "            html_doc = browser.page_source\n",
    "            time.sleep(1)\n",
    "            soup = BeautifulSoup(html_doc, 'html.parser')\n",
    "            corpus = [tag.text for tag in soup.find_all(class_ = 'p')]\n",
    "            time.sleep(2)\n",
    "            browser.close()\n",
    "            corpora.append(corpus)\n",
    "    return corpora\n",
    "        \n",
    "    "
   ]
  },
  {
   "cell_type": "code",
   "execution_count": 351,
   "metadata": {},
   "outputs": [],
   "source": [
    "import pickle"
   ]
  },
  {
   "cell_type": "code",
   "execution_count": null,
   "metadata": {},
   "outputs": [],
   "source": [
    "url = 'https://www-cambridge-org.offcampus.lib.washington.edu/core/books/new-cambridge-history-of-american-foreign-relations/7466B542D521DE46B57814660EB910F2'\n",
    "cambridge_histories_scraper(url)"
   ]
  },
  {
   "cell_type": "code",
   "execution_count": 353,
   "metadata": {},
   "outputs": [],
   "source": [
    "# Creating the file I will be saving the Corpora in\n",
    "filename = 'world_7'\n",
    "outfile = open(filename,'wb')"
   ]
  }
 ],
 "metadata": {
  "kernelspec": {
   "display_name": "Python 3",
   "language": "python",
   "name": "python3"
  },
  "language_info": {
   "codemirror_mode": {
    "name": "ipython",
    "version": 3
   },
   "file_extension": ".py",
   "mimetype": "text/x-python",
   "name": "python",
   "nbconvert_exporter": "python",
   "pygments_lexer": "ipython3",
   "version": "3.6.5"
  }
 },
 "nbformat": 4,
 "nbformat_minor": 2
}
