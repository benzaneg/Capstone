{
 "cells": [
  {
   "cell_type": "code",
   "execution_count": 129,
   "metadata": {},
   "outputs": [],
   "source": [
    "# Normal imports\n",
    "import pandas as pd\n",
    "import time\n",
    "import re\n",
    "import matplotlib.pyplot as plt\n",
    "import seaborn as sns\n",
    "import matplotlib.pyplot as plt\n",
    "import numpy as np\n",
    "%matplotlib inline\n",
    "\n",
    "## General GenSim packages to import\n",
    "\n",
    "import gensim\n",
    "import gensim.corpora as corpora\n",
    "from gensim.utils import simple_preprocess\n",
    "from gensim.models import CoherenceModel\n",
    "from gensim.test.utils import datapath\n",
    "from gensim.corpora.dictionary import Dictionary\n",
    "from gensim.models.ldamodel import LdaModel\n",
    "\n",
    "# pyLDAvis for gensim\n",
    "\n",
    "import pyLDAvis\n",
    "pyLDAvis.enable_notebook()\n",
    "import pyLDAvis.gensim  # don't skip this\n",
    "\n",
    "# Temporal models\n",
    "from gensim.models import LdaSeqModel\n",
    "from gensim.models.wrappers.dtmmodel import DtmModel\n",
    "\n",
    "# Enable logging for gensim - to get pink boxes\n",
    "import logging\n",
    "logging.basicConfig(format='%(asctime)s : %(levelname)s : %(message)s', level=logging.ERROR)\n",
    "\n",
    "# Sklearn CountVectorizer\n",
    "from sklearn.feature_extraction.text import TfidfVectorizer, CountVectorizer\n",
    "\n",
    "# A lot of warnings\n",
    "import warnings\n",
    "warnings.filterwarnings(\"ignore\",category=DeprecationWarning)\n",
    "\n",
    "# The all important, Pickle\n",
    "import pickle"
   ]
  },
  {
   "cell_type": "code",
   "execution_count": 5,
   "metadata": {},
   "outputs": [],
   "source": [
    "chapters_all = pd.read_csv('./text/sec_chapters_all.csv')"
   ]
  },
  {
   "cell_type": "code",
   "execution_count": 7,
   "metadata": {},
   "outputs": [],
   "source": [
    "chapters_all = chapters_all.set_index('Unnamed: 0')"
   ]
  },
  {
   "cell_type": "code",
   "execution_count": 175,
   "metadata": {},
   "outputs": [],
   "source": [
    "\n",
    "num_of_topics = 4\n",
    "\n",
    "vectorizer = CountVectorizer(stop_words='english', max_df = .7, min_df = 5, ngram_range = (1, 3))\n",
    "\n",
    "\n",
    "corpus_count = vectorizer.fit_transform(chapters_all['chapter_lemma'])\n",
    "\n",
    "\n",
    "#transform to gensim acceptable objects\n",
    "vocab = vectorizer.get_feature_names()\n",
    "\n",
    "id2word = dict([(i, s) for i, s in enumerate(vocab)])\n",
    "\n",
    "corpus_vect_gensim = gensim.matutils.Sparse2Corpus(corpus_count, documents_columns=False)"
   ]
  },
  {
   "cell_type": "code",
   "execution_count": 176,
   "metadata": {},
   "outputs": [
    {
     "data": {
      "text/plain": [
       "<42x4856 sparse matrix of type '<class 'numpy.int64'>'\n",
       "\twith 50589 stored elements in Compressed Sparse Row format>"
      ]
     },
     "execution_count": 176,
     "metadata": {},
     "output_type": "execute_result"
    }
   ],
   "source": [
    "corpus_count"
   ]
  },
  {
   "cell_type": "code",
   "execution_count": 177,
   "metadata": {},
   "outputs": [],
   "source": [
    "# Creating a readable dictionary file for pyLDA and DTM\n",
    "\n",
    "corpus_df = pd.DataFrame(corpus_count.A, columns=vectorizer.get_feature_names())\n",
    "corpus_all_list = []\n",
    "for corpus in corpus_count.toarray():\n",
    "    coprus_words = []\n",
    "    for idd, y in enumerate(corpus):\n",
    "        if y == 0:\n",
    "            pass\n",
    "        else:\n",
    "            coprus_words.append(corpus_df.columns[idd])\n",
    "    corpus_all_list.append(coprus_words)"
   ]
  },
  {
   "cell_type": "code",
   "execution_count": 178,
   "metadata": {},
   "outputs": [],
   "source": [
    "# Build LDA model\n",
    "lda_model = gensim.models.ldamodel.LdaModel(corpus=corpus_vect_gensim,\n",
    "                                           id2word=id2word,\n",
    "                                           num_topics=num_of_topics, \n",
    "                                           update_every=1,\n",
    "                                           passes=10,\n",
    "                                           alpha='auto',\n",
    "                                           per_word_topics=True)"
   ]
  },
  {
   "cell_type": "code",
   "execution_count": 193,
   "metadata": {},
   "outputs": [],
   "source": [
    "fname = datapath(\"/Users/bengreer/Documents/github/DSI-US-5/Capstone/gensim_lda_model/sec_chap_equal\")\n",
    "fname_id = datapath(\"/Users/bengreer/Documents/github/DSI-US-5/Capstone/gensim_lda_model/sec_chap_equal.id2word\")\n",
    "lda_model = LdaModel.load(fname, mmap='r')"
   ]
  },
  {
   "cell_type": "code",
   "execution_count": 188,
   "metadata": {},
   "outputs": [
    {
     "name": "stdout",
     "output_type": "stream",
     "text": [
      "Topic 0: (0, '0.013*\"mckinley\" + 0.008*\"seward\" + 0.007*\"1898\" + 0.006*\"tariff\" + 0.006*\"cuba\" + 0.006*\"industrial\" + 0.006*\"mexico\" + 0.005*\"1890\" + 0.005*\"spain\" + 0.005*\"post\"')\n",
      "Topic 1: (1, '0.071*\"soviet\" + 0.016*\"soviet union\" + 0.014*\"communist\" + 0.010*\"stalin\" + 0.008*\"vietnam\" + 0.008*\"nuclear\" + 0.007*\"adviser\" + 0.005*\"korea\" + 0.005*\"perceive\" + 0.005*\"weapon\"')\n",
      "Topic 2: (2, '0.012*\"postwar\" + 0.011*\"wilson\" + 0.008*\"league\" + 0.008*\"cooperation\" + 0.007*\"soviet\" + 0.007*\"soviet union\" + 0.007*\"conference\" + 0.006*\"cultural\" + 0.005*\"organization\" + 0.005*\"internationalism\"')\n",
      "Topic 3: (3, '0.014*\"lincoln\" + 0.013*\"slavery\" + 0.010*\"slave\" + 0.009*\"mexico\" + 0.008*\"texas\" + 0.007*\"monroe\" + 0.006*\"jefferson\" + 0.006*\"indian\" + 0.005*\"expansionist\" + 0.005*\"franklin\"')\n"
     ]
    }
   ],
   "source": [
    "for idx, x in enumerate(lda_model.print_topics()):\n",
    "    print(\"Topic {}:\".format(idx), x)\n",
    "doc_lda = lda_model[corpus_vect_gensim]"
   ]
  },
  {
   "cell_type": "code",
   "execution_count": 189,
   "metadata": {},
   "outputs": [
    {
     "data": {
      "text/html": [
       "<div>\n",
       "<style scoped>\n",
       "    .dataframe tbody tr th:only-of-type {\n",
       "        vertical-align: middle;\n",
       "    }\n",
       "\n",
       "    .dataframe tbody tr th {\n",
       "        vertical-align: top;\n",
       "    }\n",
       "\n",
       "    .dataframe thead th {\n",
       "        text-align: right;\n",
       "    }\n",
       "</style>\n",
       "<table border=\"1\" class=\"dataframe\">\n",
       "  <thead>\n",
       "    <tr style=\"text-align: right;\">\n",
       "      <th></th>\n",
       "      <th>word</th>\n",
       "      <th>words_id</th>\n",
       "      <th>impact</th>\n",
       "      <th>topic_num</th>\n",
       "      <th>count_topic_rank</th>\n",
       "      <th>count</th>\n",
       "      <th>impact_avg</th>\n",
       "    </tr>\n",
       "  </thead>\n",
       "  <tbody>\n",
       "    <tr>\n",
       "      <th>30</th>\n",
       "      <td>soviet</td>\n",
       "      <td>1464</td>\n",
       "      <td>0.071319</td>\n",
       "      <td>1</td>\n",
       "      <td>7</td>\n",
       "      <td>2</td>\n",
       "      <td>0.039373</td>\n",
       "    </tr>\n",
       "    <tr>\n",
       "      <th>64</th>\n",
       "      <td>soviet</td>\n",
       "      <td>1464</td>\n",
       "      <td>0.007428</td>\n",
       "      <td>2</td>\n",
       "      <td>7</td>\n",
       "      <td>2</td>\n",
       "      <td>0.039373</td>\n",
       "    </tr>\n",
       "    <tr>\n",
       "      <th>90</th>\n",
       "      <td>lincoln</td>\n",
       "      <td>930</td>\n",
       "      <td>0.013585</td>\n",
       "      <td>3</td>\n",
       "      <td>94</td>\n",
       "      <td>1</td>\n",
       "      <td>0.013585</td>\n",
       "    </tr>\n",
       "    <tr>\n",
       "      <th>32</th>\n",
       "      <td>communist</td>\n",
       "      <td>316</td>\n",
       "      <td>0.013516</td>\n",
       "      <td>1</td>\n",
       "      <td>33</td>\n",
       "      <td>1</td>\n",
       "      <td>0.013516</td>\n",
       "    </tr>\n",
       "    <tr>\n",
       "      <th>0</th>\n",
       "      <td>mckinley</td>\n",
       "      <td>967</td>\n",
       "      <td>0.013096</td>\n",
       "      <td>0</td>\n",
       "      <td>96</td>\n",
       "      <td>1</td>\n",
       "      <td>0.013096</td>\n",
       "    </tr>\n",
       "    <tr>\n",
       "      <th>91</th>\n",
       "      <td>slavery</td>\n",
       "      <td>1441</td>\n",
       "      <td>0.012519</td>\n",
       "      <td>3</td>\n",
       "      <td>70</td>\n",
       "      <td>1</td>\n",
       "      <td>0.012519</td>\n",
       "    </tr>\n",
       "    <tr>\n",
       "      <th>65</th>\n",
       "      <td>soviet union</td>\n",
       "      <td>1465</td>\n",
       "      <td>0.007108</td>\n",
       "      <td>2</td>\n",
       "      <td>0</td>\n",
       "      <td>2</td>\n",
       "      <td>0.011682</td>\n",
       "    </tr>\n",
       "    <tr>\n",
       "      <th>31</th>\n",
       "      <td>soviet union</td>\n",
       "      <td>1465</td>\n",
       "      <td>0.016256</td>\n",
       "      <td>1</td>\n",
       "      <td>0</td>\n",
       "      <td>2</td>\n",
       "      <td>0.011682</td>\n",
       "    </tr>\n",
       "    <tr>\n",
       "      <th>60</th>\n",
       "      <td>postwar</td>\n",
       "      <td>1162</td>\n",
       "      <td>0.011669</td>\n",
       "      <td>2</td>\n",
       "      <td>84</td>\n",
       "      <td>1</td>\n",
       "      <td>0.011669</td>\n",
       "    </tr>\n",
       "    <tr>\n",
       "      <th>92</th>\n",
       "      <td>slave</td>\n",
       "      <td>1440</td>\n",
       "      <td>0.009904</td>\n",
       "      <td>3</td>\n",
       "      <td>69</td>\n",
       "      <td>1</td>\n",
       "      <td>0.009904</td>\n",
       "    </tr>\n",
       "    <tr>\n",
       "      <th>33</th>\n",
       "      <td>stalin</td>\n",
       "      <td>1493</td>\n",
       "      <td>0.009686</td>\n",
       "      <td>1</td>\n",
       "      <td>72</td>\n",
       "      <td>1</td>\n",
       "      <td>0.009686</td>\n",
       "    </tr>\n",
       "    <tr>\n",
       "      <th>94</th>\n",
       "      <td>texas</td>\n",
       "      <td>1592</td>\n",
       "      <td>0.008244</td>\n",
       "      <td>3</td>\n",
       "      <td>78</td>\n",
       "      <td>1</td>\n",
       "      <td>0.008244</td>\n",
       "    </tr>\n",
       "    <tr>\n",
       "      <th>62</th>\n",
       "      <td>league</td>\n",
       "      <td>904</td>\n",
       "      <td>0.008106</td>\n",
       "      <td>2</td>\n",
       "      <td>91</td>\n",
       "      <td>1</td>\n",
       "      <td>0.008106</td>\n",
       "    </tr>\n",
       "    <tr>\n",
       "      <th>34</th>\n",
       "      <td>vietnam</td>\n",
       "      <td>1690</td>\n",
       "      <td>0.007631</td>\n",
       "      <td>1</td>\n",
       "      <td>81</td>\n",
       "      <td>1</td>\n",
       "      <td>0.007631</td>\n",
       "    </tr>\n",
       "    <tr>\n",
       "      <th>63</th>\n",
       "      <td>cooperation</td>\n",
       "      <td>388</td>\n",
       "      <td>0.007620</td>\n",
       "      <td>2</td>\n",
       "      <td>30</td>\n",
       "      <td>1</td>\n",
       "      <td>0.007620</td>\n",
       "    </tr>\n",
       "  </tbody>\n",
       "</table>\n",
       "</div>"
      ],
      "text/plain": [
       "            word  words_id    impact  topic_num  count_topic_rank  count  \\\n",
       "30        soviet      1464  0.071319          1                 7      2   \n",
       "64        soviet      1464  0.007428          2                 7      2   \n",
       "90       lincoln       930  0.013585          3                94      1   \n",
       "32     communist       316  0.013516          1                33      1   \n",
       "0       mckinley       967  0.013096          0                96      1   \n",
       "91       slavery      1441  0.012519          3                70      1   \n",
       "65  soviet union      1465  0.007108          2                 0      2   \n",
       "31  soviet union      1465  0.016256          1                 0      2   \n",
       "60       postwar      1162  0.011669          2                84      1   \n",
       "92         slave      1440  0.009904          3                69      1   \n",
       "33        stalin      1493  0.009686          1                72      1   \n",
       "94         texas      1592  0.008244          3                78      1   \n",
       "62        league       904  0.008106          2                91      1   \n",
       "34       vietnam      1690  0.007631          1                81      1   \n",
       "63   cooperation       388  0.007620          2                30      1   \n",
       "\n",
       "    impact_avg  \n",
       "30    0.039373  \n",
       "64    0.039373  \n",
       "90    0.013585  \n",
       "32    0.013516  \n",
       "0     0.013096  \n",
       "91    0.012519  \n",
       "65    0.011682  \n",
       "31    0.011682  \n",
       "60    0.011669  \n",
       "92    0.009904  \n",
       "33    0.009686  \n",
       "94    0.008244  \n",
       "62    0.008106  \n",
       "34    0.007631  \n",
       "63    0.007620  "
      ]
     },
     "execution_count": 189,
     "metadata": {},
     "output_type": "execute_result"
    }
   ],
   "source": [
    "topic_words = []\n",
    "topic_words_id = []\n",
    "topic_impact = []\n",
    "topic_id = []\n",
    "for x in range(num_of_topics):\n",
    "    topic_terms = lda_model.show_topic(x, 30)\n",
    "    for y in topic_terms:\n",
    "        word, impact = y\n",
    "        topic_words.append(word)\n",
    "        topic_impact.append(impact)\n",
    "        topic_id.append(x)\n",
    "    topic_terms = lda_model.get_topic_terms(x, 30)\n",
    "    for z in topic_terms:\n",
    "        word_id, _ = z\n",
    "        topic_words_id.append(word_id)\n",
    "word_topic_impact = pd.DataFrame([topic_words, topic_words_id, topic_impact, topic_id]).T\n",
    "word_topic_impact.columns = ['word', 'words_id', 'impact', 'topic_num']\n",
    "rank_count = word_topic_impact.groupby(by = 'words_id').count().sort_values('words_id', ascending = False) #.reset_index().reset_index()\n",
    "rank_count = rank_count.sort_values('impact', ascending = False).reset_index().reset_index()\n",
    "rank_count\n",
    "rank_count.drop(labels = ['topic_num', 'word',], axis = 1, inplace = True)\n",
    "rank_count.columns = ['count_topic_rank', 'words_id', 'count']\n",
    "rank_count.head()\n",
    "word_topic_impact['words_id'] = word_topic_impact['words_id'].astype(int)\n",
    "word_topic_impact['topic_num'] = word_topic_impact['topic_num'].astype(int)\n",
    "word_topic_impact['impact'] = word_topic_impact['impact'].astype(float)\n",
    "word_topic_impact = word_topic_impact.merge(rank_count, how = 'left', on = 'words_id')\n",
    "impact_avg = word_topic_impact.groupby(by = 'word').mean().reset_index()\n",
    "impact_avg.drop(labels = ['words_id', 'topic_num', 'count_topic_rank', 'count'], axis = 1, inplace = True)\n",
    "impact_avg.columns = ['word', 'impact_avg']\n",
    "impact_avg.head()\n",
    "word_topic_impact = word_topic_impact.merge(impact_avg, how = 'left', on = 'word')\n",
    "word_topic_impact.sort_values(by = 'impact_avg', ascending = False).head(15)"
   ]
  },
  {
   "cell_type": "code",
   "execution_count": 190,
   "metadata": {},
   "outputs": [
    {
     "ename": "IndexError",
     "evalue": "index 4821 is out of bounds for axis 1 with size 1771",
     "output_type": "error",
     "traceback": [
      "\u001b[0;31m---------------------------------------------------------------------------\u001b[0m",
      "\u001b[0;31mIndexError\u001b[0m                                Traceback (most recent call last)",
      "\u001b[0;32m<ipython-input-190-420ec31d43b1>\u001b[0m in \u001b[0;36m<module>\u001b[0;34m\u001b[0m\n\u001b[1;32m      3\u001b[0m \u001b[0;34m\u001b[0m\u001b[0m\n\u001b[1;32m      4\u001b[0m \u001b[0;31m# Compute Perplexity\u001b[0m\u001b[0;34m\u001b[0m\u001b[0;34m\u001b[0m\u001b[0m\n\u001b[0;32m----> 5\u001b[0;31m \u001b[0mprint\u001b[0m\u001b[0;34m(\u001b[0m\u001b[0;34m'\\nPerplexity: '\u001b[0m\u001b[0;34m,\u001b[0m \u001b[0mlda_model\u001b[0m\u001b[0;34m.\u001b[0m\u001b[0mlog_perplexity\u001b[0m\u001b[0;34m(\u001b[0m\u001b[0mcorpus_vect_gensim\u001b[0m\u001b[0;34m)\u001b[0m\u001b[0;34m)\u001b[0m  \u001b[0;31m# a measure of how good the model is. lower the better.\u001b[0m\u001b[0;34m\u001b[0m\u001b[0m\n\u001b[0m\u001b[1;32m      6\u001b[0m \u001b[0;34m\u001b[0m\u001b[0m\n\u001b[1;32m      7\u001b[0m \u001b[0;31m# Compute Coherence Score\u001b[0m\u001b[0;34m\u001b[0m\u001b[0;34m\u001b[0m\u001b[0m\n",
      "\u001b[0;32m~/anaconda3/lib/python3.6/site-packages/gensim/models/ldamodel.py\u001b[0m in \u001b[0;36mlog_perplexity\u001b[0;34m(self, chunk, total_docs)\u001b[0m\n\u001b[1;32m    802\u001b[0m         \u001b[0mcorpus_words\u001b[0m \u001b[0;34m=\u001b[0m \u001b[0msum\u001b[0m\u001b[0;34m(\u001b[0m\u001b[0mcnt\u001b[0m \u001b[0;32mfor\u001b[0m \u001b[0mdocument\u001b[0m \u001b[0;32min\u001b[0m \u001b[0mchunk\u001b[0m \u001b[0;32mfor\u001b[0m \u001b[0m_\u001b[0m\u001b[0;34m,\u001b[0m \u001b[0mcnt\u001b[0m \u001b[0;32min\u001b[0m \u001b[0mdocument\u001b[0m\u001b[0;34m)\u001b[0m\u001b[0;34m\u001b[0m\u001b[0m\n\u001b[1;32m    803\u001b[0m         \u001b[0msubsample_ratio\u001b[0m \u001b[0;34m=\u001b[0m \u001b[0;36m1.0\u001b[0m \u001b[0;34m*\u001b[0m \u001b[0mtotal_docs\u001b[0m \u001b[0;34m/\u001b[0m \u001b[0mlen\u001b[0m\u001b[0;34m(\u001b[0m\u001b[0mchunk\u001b[0m\u001b[0;34m)\u001b[0m\u001b[0;34m\u001b[0m\u001b[0m\n\u001b[0;32m--> 804\u001b[0;31m         \u001b[0mperwordbound\u001b[0m \u001b[0;34m=\u001b[0m \u001b[0mself\u001b[0m\u001b[0;34m.\u001b[0m\u001b[0mbound\u001b[0m\u001b[0;34m(\u001b[0m\u001b[0mchunk\u001b[0m\u001b[0;34m,\u001b[0m \u001b[0msubsample_ratio\u001b[0m\u001b[0;34m=\u001b[0m\u001b[0msubsample_ratio\u001b[0m\u001b[0;34m)\u001b[0m \u001b[0;34m/\u001b[0m \u001b[0;34m(\u001b[0m\u001b[0msubsample_ratio\u001b[0m \u001b[0;34m*\u001b[0m \u001b[0mcorpus_words\u001b[0m\u001b[0;34m)\u001b[0m\u001b[0;34m\u001b[0m\u001b[0m\n\u001b[0m\u001b[1;32m    805\u001b[0m         logger.info(\n\u001b[1;32m    806\u001b[0m             \u001b[0;34m\"%.3f per-word bound, %.1f perplexity estimate based on a held-out corpus of %i documents with %i words\"\u001b[0m\u001b[0;34m,\u001b[0m\u001b[0;34m\u001b[0m\u001b[0m\n",
      "\u001b[0;32m~/anaconda3/lib/python3.6/site-packages/gensim/models/ldamodel.py\u001b[0m in \u001b[0;36mbound\u001b[0;34m(self, corpus, gamma, subsample_ratio)\u001b[0m\n\u001b[1;32m   1066\u001b[0m                 \u001b[0mlogger\u001b[0m\u001b[0;34m.\u001b[0m\u001b[0mdebug\u001b[0m\u001b[0;34m(\u001b[0m\u001b[0;34m\"bound: at document #%i\"\u001b[0m\u001b[0;34m,\u001b[0m \u001b[0md\u001b[0m\u001b[0;34m)\u001b[0m\u001b[0;34m\u001b[0m\u001b[0m\n\u001b[1;32m   1067\u001b[0m             \u001b[0;32mif\u001b[0m \u001b[0mgamma\u001b[0m \u001b[0;32mis\u001b[0m \u001b[0;32mNone\u001b[0m\u001b[0;34m:\u001b[0m\u001b[0;34m\u001b[0m\u001b[0m\n\u001b[0;32m-> 1068\u001b[0;31m                 \u001b[0mgammad\u001b[0m\u001b[0;34m,\u001b[0m \u001b[0m_\u001b[0m \u001b[0;34m=\u001b[0m \u001b[0mself\u001b[0m\u001b[0;34m.\u001b[0m\u001b[0minference\u001b[0m\u001b[0;34m(\u001b[0m\u001b[0;34m[\u001b[0m\u001b[0mdoc\u001b[0m\u001b[0;34m]\u001b[0m\u001b[0;34m)\u001b[0m\u001b[0;34m\u001b[0m\u001b[0m\n\u001b[0m\u001b[1;32m   1069\u001b[0m             \u001b[0;32melse\u001b[0m\u001b[0;34m:\u001b[0m\u001b[0;34m\u001b[0m\u001b[0m\n\u001b[1;32m   1070\u001b[0m                 \u001b[0mgammad\u001b[0m \u001b[0;34m=\u001b[0m \u001b[0mgamma\u001b[0m\u001b[0;34m[\u001b[0m\u001b[0md\u001b[0m\u001b[0;34m]\u001b[0m\u001b[0;34m\u001b[0m\u001b[0m\n",
      "\u001b[0;32m~/anaconda3/lib/python3.6/site-packages/gensim/models/ldamodel.py\u001b[0m in \u001b[0;36minference\u001b[0;34m(self, chunk, collect_sstats)\u001b[0m\n\u001b[1;32m    660\u001b[0m             \u001b[0mElogthetad\u001b[0m \u001b[0;34m=\u001b[0m \u001b[0mElogtheta\u001b[0m\u001b[0;34m[\u001b[0m\u001b[0md\u001b[0m\u001b[0;34m,\u001b[0m \u001b[0;34m:\u001b[0m\u001b[0;34m]\u001b[0m\u001b[0;34m\u001b[0m\u001b[0m\n\u001b[1;32m    661\u001b[0m             \u001b[0mexpElogthetad\u001b[0m \u001b[0;34m=\u001b[0m \u001b[0mexpElogtheta\u001b[0m\u001b[0;34m[\u001b[0m\u001b[0md\u001b[0m\u001b[0;34m,\u001b[0m \u001b[0;34m:\u001b[0m\u001b[0;34m]\u001b[0m\u001b[0;34m\u001b[0m\u001b[0m\n\u001b[0;32m--> 662\u001b[0;31m             \u001b[0mexpElogbetad\u001b[0m \u001b[0;34m=\u001b[0m \u001b[0mself\u001b[0m\u001b[0;34m.\u001b[0m\u001b[0mexpElogbeta\u001b[0m\u001b[0;34m[\u001b[0m\u001b[0;34m:\u001b[0m\u001b[0;34m,\u001b[0m \u001b[0mids\u001b[0m\u001b[0;34m]\u001b[0m\u001b[0;34m\u001b[0m\u001b[0m\n\u001b[0m\u001b[1;32m    663\u001b[0m \u001b[0;34m\u001b[0m\u001b[0m\n\u001b[1;32m    664\u001b[0m             \u001b[0;31m# The optimal phi_{dwk} is proportional to expElogthetad_k * expElogbetad_w.\u001b[0m\u001b[0;34m\u001b[0m\u001b[0;34m\u001b[0m\u001b[0m\n",
      "\u001b[0;32m~/anaconda3/lib/python3.6/site-packages/numpy/core/memmap.py\u001b[0m in \u001b[0;36m__getitem__\u001b[0;34m(self, index)\u001b[0m\n\u001b[1;32m    333\u001b[0m \u001b[0;34m\u001b[0m\u001b[0m\n\u001b[1;32m    334\u001b[0m     \u001b[0;32mdef\u001b[0m \u001b[0m__getitem__\u001b[0m\u001b[0;34m(\u001b[0m\u001b[0mself\u001b[0m\u001b[0;34m,\u001b[0m \u001b[0mindex\u001b[0m\u001b[0;34m)\u001b[0m\u001b[0;34m:\u001b[0m\u001b[0;34m\u001b[0m\u001b[0m\n\u001b[0;32m--> 335\u001b[0;31m         \u001b[0mres\u001b[0m \u001b[0;34m=\u001b[0m \u001b[0msuper\u001b[0m\u001b[0;34m(\u001b[0m\u001b[0mmemmap\u001b[0m\u001b[0;34m,\u001b[0m \u001b[0mself\u001b[0m\u001b[0;34m)\u001b[0m\u001b[0;34m.\u001b[0m\u001b[0m__getitem__\u001b[0m\u001b[0;34m(\u001b[0m\u001b[0mindex\u001b[0m\u001b[0;34m)\u001b[0m\u001b[0;34m\u001b[0m\u001b[0m\n\u001b[0m\u001b[1;32m    336\u001b[0m         \u001b[0;32mif\u001b[0m \u001b[0mtype\u001b[0m\u001b[0;34m(\u001b[0m\u001b[0mres\u001b[0m\u001b[0;34m)\u001b[0m \u001b[0;32mis\u001b[0m \u001b[0mmemmap\u001b[0m \u001b[0;32mand\u001b[0m \u001b[0mres\u001b[0m\u001b[0;34m.\u001b[0m\u001b[0m_mmap\u001b[0m \u001b[0;32mis\u001b[0m \u001b[0;32mNone\u001b[0m\u001b[0;34m:\u001b[0m\u001b[0;34m\u001b[0m\u001b[0m\n\u001b[1;32m    337\u001b[0m             \u001b[0;32mreturn\u001b[0m \u001b[0mres\u001b[0m\u001b[0;34m.\u001b[0m\u001b[0mview\u001b[0m\u001b[0;34m(\u001b[0m\u001b[0mtype\u001b[0m\u001b[0;34m=\u001b[0m\u001b[0mndarray\u001b[0m\u001b[0;34m)\u001b[0m\u001b[0;34m\u001b[0m\u001b[0m\n",
      "\u001b[0;31mIndexError\u001b[0m: index 4821 is out of bounds for axis 1 with size 1771"
     ]
    }
   ],
   "source": [
    "# Setting up a pyLDA readable dict\n",
    "id2word = corpora.Dictionary(corpus_all_list)\n",
    "\n",
    "# Compute Perplexity\n",
    "print('\\nPerplexity: ', lda_model.log_perplexity(corpus_vect_gensim))  # a measure of how good the model is. lower the better.\n",
    "\n",
    "# Compute Coherence Score\n",
    "coherence_model_lda = CoherenceModel(model=lda_model, texts=corpus_vect_gensim, dictionary=id2word, coherence='c_v')\n",
    "coherence_lda = coherence_model_lda.get_coherence()\n",
    "print('\\nCoherence Score: ', coherence_lda)\n",
    "\n",
    "pyLDAvis.enable_notebook()\n",
    "vis = pyLDAvis.gensim.prepare(lda_model, corpus_vect_gensim, id2word)\n",
    "vis"
   ]
  },
  {
   "cell_type": "code",
   "execution_count": 191,
   "metadata": {},
   "outputs": [
    {
     "ename": "IndexError",
     "evalue": "index 4821 is out of bounds for axis 1 with size 1771",
     "output_type": "error",
     "traceback": [
      "\u001b[0;31m---------------------------------------------------------------------------\u001b[0m",
      "\u001b[0;31mIndexError\u001b[0m                                Traceback (most recent call last)",
      "\u001b[0;32m<ipython-input-191-b4550ab89069>\u001b[0m in \u001b[0;36m<module>\u001b[0;34m\u001b[0m\n\u001b[1;32m      1\u001b[0m \u001b[0;31m# A number calculating\u001b[0m\u001b[0;34m\u001b[0m\u001b[0;34m\u001b[0m\u001b[0m\n\u001b[0;32m----> 2\u001b[0;31m \u001b[0mprint\u001b[0m\u001b[0;34m(\u001b[0m\u001b[0;34m\"Bound of LDA model: \"\u001b[0m\u001b[0;34m,\u001b[0m \u001b[0mlda_model\u001b[0m\u001b[0;34m.\u001b[0m\u001b[0mbound\u001b[0m\u001b[0;34m(\u001b[0m\u001b[0mcorpus_vect_gensim\u001b[0m\u001b[0;34m)\u001b[0m\u001b[0;34m)\u001b[0m\u001b[0;34m\u001b[0m\u001b[0m\n\u001b[0m\u001b[1;32m      3\u001b[0m \u001b[0;34m\u001b[0m\u001b[0m\n\u001b[1;32m      4\u001b[0m \u001b[0;31m# Can't this get this to work\u001b[0m\u001b[0;34m\u001b[0m\u001b[0;34m\u001b[0m\u001b[0m\n\u001b[1;32m      5\u001b[0m \u001b[0;31m#lda_model.get_term_topics(913, minimum_probability=True)\u001b[0m\u001b[0;34m\u001b[0m\u001b[0;34m\u001b[0m\u001b[0m\n",
      "\u001b[0;32m~/anaconda3/lib/python3.6/site-packages/gensim/models/ldamodel.py\u001b[0m in \u001b[0;36mbound\u001b[0;34m(self, corpus, gamma, subsample_ratio)\u001b[0m\n\u001b[1;32m   1066\u001b[0m                 \u001b[0mlogger\u001b[0m\u001b[0;34m.\u001b[0m\u001b[0mdebug\u001b[0m\u001b[0;34m(\u001b[0m\u001b[0;34m\"bound: at document #%i\"\u001b[0m\u001b[0;34m,\u001b[0m \u001b[0md\u001b[0m\u001b[0;34m)\u001b[0m\u001b[0;34m\u001b[0m\u001b[0m\n\u001b[1;32m   1067\u001b[0m             \u001b[0;32mif\u001b[0m \u001b[0mgamma\u001b[0m \u001b[0;32mis\u001b[0m \u001b[0;32mNone\u001b[0m\u001b[0;34m:\u001b[0m\u001b[0;34m\u001b[0m\u001b[0m\n\u001b[0;32m-> 1068\u001b[0;31m                 \u001b[0mgammad\u001b[0m\u001b[0;34m,\u001b[0m \u001b[0m_\u001b[0m \u001b[0;34m=\u001b[0m \u001b[0mself\u001b[0m\u001b[0;34m.\u001b[0m\u001b[0minference\u001b[0m\u001b[0;34m(\u001b[0m\u001b[0;34m[\u001b[0m\u001b[0mdoc\u001b[0m\u001b[0;34m]\u001b[0m\u001b[0;34m)\u001b[0m\u001b[0;34m\u001b[0m\u001b[0m\n\u001b[0m\u001b[1;32m   1069\u001b[0m             \u001b[0;32melse\u001b[0m\u001b[0;34m:\u001b[0m\u001b[0;34m\u001b[0m\u001b[0m\n\u001b[1;32m   1070\u001b[0m                 \u001b[0mgammad\u001b[0m \u001b[0;34m=\u001b[0m \u001b[0mgamma\u001b[0m\u001b[0;34m[\u001b[0m\u001b[0md\u001b[0m\u001b[0;34m]\u001b[0m\u001b[0;34m\u001b[0m\u001b[0m\n",
      "\u001b[0;32m~/anaconda3/lib/python3.6/site-packages/gensim/models/ldamodel.py\u001b[0m in \u001b[0;36minference\u001b[0;34m(self, chunk, collect_sstats)\u001b[0m\n\u001b[1;32m    660\u001b[0m             \u001b[0mElogthetad\u001b[0m \u001b[0;34m=\u001b[0m \u001b[0mElogtheta\u001b[0m\u001b[0;34m[\u001b[0m\u001b[0md\u001b[0m\u001b[0;34m,\u001b[0m \u001b[0;34m:\u001b[0m\u001b[0;34m]\u001b[0m\u001b[0;34m\u001b[0m\u001b[0m\n\u001b[1;32m    661\u001b[0m             \u001b[0mexpElogthetad\u001b[0m \u001b[0;34m=\u001b[0m \u001b[0mexpElogtheta\u001b[0m\u001b[0;34m[\u001b[0m\u001b[0md\u001b[0m\u001b[0;34m,\u001b[0m \u001b[0;34m:\u001b[0m\u001b[0;34m]\u001b[0m\u001b[0;34m\u001b[0m\u001b[0m\n\u001b[0;32m--> 662\u001b[0;31m             \u001b[0mexpElogbetad\u001b[0m \u001b[0;34m=\u001b[0m \u001b[0mself\u001b[0m\u001b[0;34m.\u001b[0m\u001b[0mexpElogbeta\u001b[0m\u001b[0;34m[\u001b[0m\u001b[0;34m:\u001b[0m\u001b[0;34m,\u001b[0m \u001b[0mids\u001b[0m\u001b[0;34m]\u001b[0m\u001b[0;34m\u001b[0m\u001b[0m\n\u001b[0m\u001b[1;32m    663\u001b[0m \u001b[0;34m\u001b[0m\u001b[0m\n\u001b[1;32m    664\u001b[0m             \u001b[0;31m# The optimal phi_{dwk} is proportional to expElogthetad_k * expElogbetad_w.\u001b[0m\u001b[0;34m\u001b[0m\u001b[0;34m\u001b[0m\u001b[0m\n",
      "\u001b[0;32m~/anaconda3/lib/python3.6/site-packages/numpy/core/memmap.py\u001b[0m in \u001b[0;36m__getitem__\u001b[0;34m(self, index)\u001b[0m\n\u001b[1;32m    333\u001b[0m \u001b[0;34m\u001b[0m\u001b[0m\n\u001b[1;32m    334\u001b[0m     \u001b[0;32mdef\u001b[0m \u001b[0m__getitem__\u001b[0m\u001b[0;34m(\u001b[0m\u001b[0mself\u001b[0m\u001b[0;34m,\u001b[0m \u001b[0mindex\u001b[0m\u001b[0;34m)\u001b[0m\u001b[0;34m:\u001b[0m\u001b[0;34m\u001b[0m\u001b[0m\n\u001b[0;32m--> 335\u001b[0;31m         \u001b[0mres\u001b[0m \u001b[0;34m=\u001b[0m \u001b[0msuper\u001b[0m\u001b[0;34m(\u001b[0m\u001b[0mmemmap\u001b[0m\u001b[0;34m,\u001b[0m \u001b[0mself\u001b[0m\u001b[0;34m)\u001b[0m\u001b[0;34m.\u001b[0m\u001b[0m__getitem__\u001b[0m\u001b[0;34m(\u001b[0m\u001b[0mindex\u001b[0m\u001b[0;34m)\u001b[0m\u001b[0;34m\u001b[0m\u001b[0m\n\u001b[0m\u001b[1;32m    336\u001b[0m         \u001b[0;32mif\u001b[0m \u001b[0mtype\u001b[0m\u001b[0;34m(\u001b[0m\u001b[0mres\u001b[0m\u001b[0;34m)\u001b[0m \u001b[0;32mis\u001b[0m \u001b[0mmemmap\u001b[0m \u001b[0;32mand\u001b[0m \u001b[0mres\u001b[0m\u001b[0;34m.\u001b[0m\u001b[0m_mmap\u001b[0m \u001b[0;32mis\u001b[0m \u001b[0;32mNone\u001b[0m\u001b[0;34m:\u001b[0m\u001b[0;34m\u001b[0m\u001b[0m\n\u001b[1;32m    337\u001b[0m             \u001b[0;32mreturn\u001b[0m \u001b[0mres\u001b[0m\u001b[0;34m.\u001b[0m\u001b[0mview\u001b[0m\u001b[0;34m(\u001b[0m\u001b[0mtype\u001b[0m\u001b[0;34m=\u001b[0m\u001b[0mndarray\u001b[0m\u001b[0;34m)\u001b[0m\u001b[0;34m\u001b[0m\u001b[0m\n",
      "\u001b[0;31mIndexError\u001b[0m: index 4821 is out of bounds for axis 1 with size 1771"
     ]
    }
   ],
   "source": [
    "# A number calculating \n",
    "print(\"Bound of LDA model: \", lda_model.bound(corpus_vect_gensim))\n",
    "\n",
    "# Can't this get this to work\n",
    "#lda_model.get_term_topics(913, minimum_probability=True)\n",
    "\n",
    "# Estimate for the corpus\n",
    "topic_count = []\n",
    "confidence = []\n",
    "both = []\n",
    "one_topic = 0\n",
    "two_topic = 0\n",
    "three_topic = 0\n",
    "four_more_topic = 0\n",
    "for num, doc in enumerate(range(len(corpus_vect_gensim))):\n",
    "    print(lda_model.get_document_topics(corpus_vect_gensim[num]))\n",
    "    item = lda_model.get_document_topics(corpus_vect_gensim[num])\n",
    "    if len(item) == 1:\n",
    "        topic_count.append(item[0][0])\n",
    "        confidence.append(item[0][1])\n",
    "        one_topic += 1\n",
    "    else:\n",
    "        pickin_best = []\n",
    "        for it in item:\n",
    "            pickin_best.append(it[1])\n",
    "        for it in item:\n",
    "            if it[1] == max(pickin_best):\n",
    "                topic_count.append(it[0])\n",
    "                confidence.append(it[1])\n",
    "        if len(item) == 2:\n",
    "            two_topic += 1\n",
    "        if len(item) == 3:\n",
    "            three_topic += 1\n",
    "        if len(item) >= 4:\n",
    "            four_more_topic += 1\n",
    "# Topic winners over time\n",
    "enumed = list(range(len(topic_count)))\n",
    "topic_winners_time = pd.DataFrame(data = [enumed, topic_count]).T\n",
    "topic_winners_time.columns = ['chap_num', 'topic_winner']                \n",
    "\n",
    "# Creating a scatter plot by topic, but first a dataframe\n",
    "topic_hue = pd.DataFrame([topic_count, confidence]).T\n",
    "topic_hue.columns = ['topic', 'confidence']\n",
    "sns.boxplot(x=\"topic\", y=\"confidence\", data=topic_hue)\n",
    "#sns.lmplot(x=0, y=1, data= topic_hue, fit_reg=False, hue='trunc_model', legend=False, size = 8)\n",
    "\n",
    "print(len(topic_count))\n",
    "# topic_count = []\n",
    "# # Count of different doc topics\n",
    "# for num, doc in enumerate(range(len(corpus_vect_gensim))):\n",
    "#     topic_count.append(lda_model.get_document_topics(corpus_vect_gensim[num][0][0]))\n",
    "fig, axes = plt.subplots(ncols = 2, nrows = 2, figsize=(15,10))\n",
    "axes[0,0].hist(topic_count, bins = num_of_topics)\n",
    "axes[0, 0].set_title('Winning Topic Count');\n",
    "axes[0,1].hist(confidence);\n",
    "axes[0,1].set_title('Confidence Histogram');\n",
    "axes[1,0].bar(x = 'chap_num', height = 'topic_winner', data = topic_winners_time);\n",
    "axes[1,0].set_title('Winner by Chapter');\n",
    "axes[1,1].bar(x = ['One Topic', 'Two Topic', 'Three Topic', 'Four or More Topic'], height = [one_topic, two_topic, three_topic, four_more_topic])\n",
    "axes[1,1].set_title('Topic Classification Split')\n"
   ]
  },
  {
   "cell_type": "markdown",
   "metadata": {},
   "source": [
    "#### Save the LDA Model"
   ]
  },
  {
   "cell_type": "code",
   "execution_count": 153,
   "metadata": {},
   "outputs": [],
   "source": [
    "lda_model.save(fname= './gensim_lda_model/sec_chap_equal2')"
   ]
  },
  {
   "cell_type": "markdown",
   "metadata": {},
   "source": [
    "### Load in Primary Source Documents"
   ]
  },
  {
   "cell_type": "code",
   "execution_count": 112,
   "metadata": {},
   "outputs": [
    {
     "name": "stdout",
     "output_type": "stream",
     "text": [
      "Before duplicate drop:  3240\n",
      "After duplicate drop:  1725\n"
     ]
    }
   ],
   "source": [
    "# Loading the pickled files\n",
    "\n",
    "pri_auth = corpus_year_pri = pickle.load(open('./text/corpus_auth_pri.txt', 'rb'))\n",
    "pri_date = corpus_year_pri = pickle.load(open('./text/corpus_date_pri.txt', 'rb'))\n",
    "pri_doc = corpus_year_pri = pickle.load(open('./text/corpus_para_pri.txt', 'rb'))\n",
    "pri_title = corpus_year_pri = pickle.load(open('./text/corpus_title_pri.txt', 'rb'))\n",
    "pri_year = corpus_year_pri = pickle.load(open('./text/corpus_year_pri.txt', 'rb'))\n",
    "\n",
    "# Creating a dataframe\n",
    "df_pri = pd.DataFrame(data = [pri_auth, pri_title, pri_date,pri_year, pri_doc]).T\n",
    "df_pri.columns = ['auth', 'title', 'date','year','doc']\n",
    "df_pri.size\n",
    "\n",
    "# Looking at the len dataframe\n",
    "print(\"Before duplicate drop: \", len(df_pri['date']))\n",
    "\n",
    "# Fixing some of the dataframe types as well as dropping duplicates\n",
    "new_auth = []\n",
    "for row in df_pri['auth']:\n",
    "    new_auth.append(''.join(row))\n",
    "new_title = []\n",
    "for row in df_pri['title']:\n",
    "    new_title.append(''.join(row))\n",
    "new_date = []\n",
    "for row in df_pri['date']:\n",
    "    new_date.append(''.join(row))\n",
    "df_pri['auth'] = new_auth\n",
    "df_pri['title'] = new_title\n",
    "df_pri['date'] = new_date\n",
    "df_pri.drop_duplicates(inplace = True)\n",
    "\n",
    "df_pri = df_pri.sort_values(by = 'year').reset_index(drop = True)\n",
    "      \n",
    "# Looking at the len dataframe\n",
    "print(\"After duplicate drop: \", len(df_pri['date']))"
   ]
  },
  {
   "cell_type": "code",
   "execution_count": 113,
   "metadata": {},
   "outputs": [],
   "source": [
    "# Creating a sparse matrix so that GenSim can read it\n",
    "#pri_doc = df_pri['doc']\n",
    "#pri_doc = list(map(lambda x: x.split(), pri_doc))\n",
    "sec_pri_countvec = vectorizer.transform(df_pri['doc'])\n",
    "#id3word = corpora.Dictionary(pri_doc)\n",
    "#pri_doc = gensim.matutils.Sparse2Corpus(pri_doc)\n",
    "# pri_doc_sparse = [id2word.doc2bow(text) for text in pri_doc]\n",
    "pri_corpus_vect_gensim = gensim.matutils.Sparse2Corpus(sec_pri_countvec, documents_columns=False)\n"
   ]
  },
  {
   "cell_type": "code",
   "execution_count": 156,
   "metadata": {},
   "outputs": [
    {
     "name": "stdout",
     "output_type": "stream",
     "text": [
      "1725\n"
     ]
    },
    {
     "data": {
      "text/plain": [
       "Text(0.5, 1.0, 'Topic Classification Split')"
      ]
     },
     "execution_count": 156,
     "metadata": {},
     "output_type": "execute_result"
    },
    {
     "data": {
      "image/png": "[encoded data removed]",
      "text/plain": [
       "<Figure size 432x288 with 1 Axes>"
      ]
     },
     "metadata": {},
     "output_type": "display_data"
    },
    {
     "data": {
      "image/png": "[encoded data removed]",
      "text/plain": [
       "<Figure size 1080x720 with 4 Axes>"
      ]
     },
     "metadata": {},
     "output_type": "display_data"
    }
   ],
   "source": [
    "# A number calculating \n",
    "#print(\"Bound of LDA model: \", lda_model.bound(pri_corpus_vect_gensim))\n",
    "\n",
    "# Can't this get this to work\n",
    "# lda_model.get_term_topics(913, minimum_probability=True)\n",
    "\n",
    "# Estimate for the corpus\n",
    "topic_count = []\n",
    "confidence = []\n",
    "both = []\n",
    "one_topic = 0\n",
    "two_topic = 0\n",
    "three_topic = 0\n",
    "four_more_topic = 0\n",
    "for num, doc in enumerate(range(len(pri_corpus_vect_gensim))):\n",
    "    #print(lda_model.get_document_topics(pri_doc[num]))\n",
    "    item = lda_model.get_document_topics(pri_corpus_vect_gensim[num])\n",
    "    if len(item) == 1:\n",
    "        topic_count.append(item[0][0])\n",
    "        confidence.append(item[0][1])\n",
    "        one_topic += 1\n",
    "    else:\n",
    "        pickin_best = []\n",
    "        for it in item:\n",
    "            pickin_best.append(it[1])\n",
    "        for it in item:\n",
    "            if it[1] == max(pickin_best):\n",
    "                topic_count.append(it[0])\n",
    "                confidence.append(it[1])\n",
    "        if len(item) == 2:\n",
    "            two_topic += 1\n",
    "        if len(item) == 3:\n",
    "            three_topic += 1\n",
    "        if len(item) >= 4:\n",
    "            four_more_topic += 1\n",
    "# Topic winners over time\n",
    "enumed = list(range(len(topic_count)))\n",
    "topic_winners_time = pd.DataFrame(data = [enumed, topic_count]).T\n",
    "topic_winners_time.columns = ['chap_num', 'topic_winner']                \n",
    "\n",
    "# Creating a scatter plot by topic, but first a dataframe\n",
    "topic_hue = pd.DataFrame([topic_count, confidence]).T\n",
    "topic_hue.columns = ['topic', 'confidence']\n",
    "sns.boxplot(x=\"topic\", y=\"confidence\", data=topic_hue)\n",
    "#sns.lmplot(x=0, y=1, data= topic_hue, fit_reg=False, hue='trunc_model', legend=False, size = 8)\n",
    "\n",
    "print(len(topic_count))\n",
    "# topic_count = []\n",
    "# # Count of different doc topics\n",
    "# for num, doc in enumerate(range(len(corpus_vect_gensim))):\n",
    "#     topic_count.append(lda_model.get_document_topics(corpus_vect_gensim[num][0][0]))\n",
    "fig, axes = plt.subplots(ncols = 2, nrows = 2, figsize=(15,10))\n",
    "axes[0,0].hist(topic_count, bins = num_of_topics)\n",
    "axes[0, 0].set_title('Winning Topic Count');\n",
    "axes[0,1].hist(confidence);\n",
    "axes[0,1].set_title('Confidence Histogram');\n",
    "axes[1,0].bar(x = 'chap_num', height = 'topic_winner', data = topic_winners_time);\n",
    "axes[1,0].set_title('Winner by Chapter');\n",
    "axes[1,1].bar(x = ['One Topic', 'Two Topic', 'Three Topic', 'Four or More Topic'], height = [one_topic, two_topic, three_topic, four_more_topic])\n",
    "axes[1,1].set_title('Topic Classification Split')"
   ]
  },
  {
   "cell_type": "markdown",
   "metadata": {},
   "source": [
    "### DTM Modeling"
   ]
  },
  {
   "cell_type": "code",
   "execution_count": 115,
   "metadata": {},
   "outputs": [],
   "source": [
    "# Setting up the DTM corpus and for the pyLDA viz\n",
    "\n",
    "id2word = corpora.Dictionary(corpus_all_list)\n",
    "\n",
    "class DTMcorpus(corpora.textcorpus.TextCorpus):\n",
    "\n",
    "    def get_texts(self):\n",
    "        return self.input\n",
    "\n",
    "    def __len__(self):\n",
    "        return len(self.input)\n",
    "\n",
    "corpus = DTMcorpus(corpus_all_list)"
   ]
  },
  {
   "cell_type": "code",
   "execution_count": 116,
   "metadata": {},
   "outputs": [],
   "source": [
    "# Save model to disk.\n",
    "temp_file = datapath(\"mode\")\n",
    "lda_model.save(temp_file)\n",
    "\n",
    "# loading it for good measure but the LDA model just needs to be saved in the same area to be initialized by dtm model\n",
    "lda = LdaModel.load(temp_file)\n",
    "\n",
    "# Setting up the other parameters to go in\n",
    "dtm_path = '/Users/bengreer/Documents/github/DSI-US-5/Capstone/dtm/bin/dtm-darwin64'\n",
    "time_seq = [9, 10, 12, 11] # the # of chapters which are included in each book, the largest timeframe I can have\n",
    "\n",
    "model = DtmModel(dtm_path, corpus, time_seq, num_topics=5,\n",
    "                 id2word=id2word, initialize_lda=True)"
   ]
  },
  {
   "cell_type": "code",
   "execution_count": 122,
   "metadata": {
    "scrolled": true
   },
   "outputs": [
    {
     "name": "stderr",
     "output_type": "stream",
     "text": [
      "/Users/bengreer/anaconda3/lib/python3.6/site-packages/gensim/models/wrappers/dtmmodel.py:494: UserWarning: The parameter `num_words` is deprecated, will be removed in 4.0.0, use `topn` instead.\n",
      "  warnings.warn(\"The parameter `num_words` is deprecated, will be removed in 4.0.0, use `topn` instead.\")\n",
      "/Users/bengreer/anaconda3/lib/python3.6/site-packages/gensim/models/wrappers/dtmmodel.py:494: UserWarning: The parameter `num_words` is deprecated, will be removed in 4.0.0, use `topn` instead.\n",
      "  warnings.warn(\"The parameter `num_words` is deprecated, will be removed in 4.0.0, use `topn` instead.\")\n",
      "/Users/bengreer/anaconda3/lib/python3.6/site-packages/gensim/models/wrappers/dtmmodel.py:494: UserWarning: The parameter `num_words` is deprecated, will be removed in 4.0.0, use `topn` instead.\n",
      "  warnings.warn(\"The parameter `num_words` is deprecated, will be removed in 4.0.0, use `topn` instead.\")\n",
      "/Users/bengreer/anaconda3/lib/python3.6/site-packages/gensim/models/wrappers/dtmmodel.py:494: UserWarning: The parameter `num_words` is deprecated, will be removed in 4.0.0, use `topn` instead.\n",
      "  warnings.warn(\"The parameter `num_words` is deprecated, will be removed in 4.0.0, use `topn` instead.\")\n"
     ]
    },
    {
     "data": {
      "image/png": "[encoded data removed]",
      "text/plain": [
       "<Figure size 432x288 with 1 Axes>"
      ]
     },
     "metadata": {},
     "output_type": "display_data"
    }
   ],
   "source": [
    "# exploring the outcome of the DTM model\n",
    "topics = model.show_topics(num_topics=1, times=4, formatted = False)\n",
    "fig_size = (10,10)\n",
    "word_impact = []\n",
    "hist_word_double = []\n",
    "for item in topics:\n",
    "    word_impact = []\n",
    "    hist_word = []\n",
    "    for it in item:\n",
    "        number, topic_word = it\n",
    "        word_impact.append(number)\n",
    "        hist_word.append(topic_word)\n",
    "    hist_word_double.append(hist_word)\n",
    "    hist_word_double.append(word_impact)\n",
    "historical_dtm = pd.DataFrame(hist_word_double[:2]).T\n",
    "historical_dtm_draft = pd.DataFrame(hist_word_double[2:4]).T\n",
    "historical_dtm_draft2 = pd.DataFrame(hist_word_double[4:6]).T\n",
    "historical_dtm_draft3 = pd.DataFrame(hist_word_double[6:8]).T\n",
    "historical_dtm = historical_dtm.merge(historical_dtm_draft, on = 0, how = 'outer')\n",
    "historical_dtm = historical_dtm.merge(historical_dtm_draft2, on = 0, how = 'outer')\n",
    "historical_dtm = historical_dtm.merge(historical_dtm_draft3, on = 0, how = 'outer')\n",
    "historical_dtm = historical_dtm.fillna(0)\n",
    "historical_dtm.columns = ['word', 'Before 1865', '1865-1913', '1913-1945', '1945-Present']\n",
    "historical_dtm.set_index('word', inplace = True)\n",
    "historical_dtm = historical_dtm.T\n",
    "plt.plot(historical_dtm);\n",
    "\n",
    "\n"
   ]
  },
  {
   "cell_type": "code",
   "execution_count": 142,
   "metadata": {},
   "outputs": [
    {
     "name": "stderr",
     "output_type": "stream",
     "text": [
      "/Users/bengreer/anaconda3/lib/python3.6/site-packages/gensim/models/wrappers/dtmmodel.py:494: UserWarning: The parameter `num_words` is deprecated, will be removed in 4.0.0, use `topn` instead.\n",
      "  warnings.warn(\"The parameter `num_words` is deprecated, will be removed in 4.0.0, use `topn` instead.\")\n",
      "/Users/bengreer/anaconda3/lib/python3.6/site-packages/gensim/models/wrappers/dtmmodel.py:494: UserWarning: The parameter `num_words` is deprecated, will be removed in 4.0.0, use `topn` instead.\n",
      "  warnings.warn(\"The parameter `num_words` is deprecated, will be removed in 4.0.0, use `topn` instead.\")\n",
      "/Users/bengreer/anaconda3/lib/python3.6/site-packages/gensim/models/wrappers/dtmmodel.py:494: UserWarning: The parameter `num_words` is deprecated, will be removed in 4.0.0, use `topn` instead.\n",
      "  warnings.warn(\"The parameter `num_words` is deprecated, will be removed in 4.0.0, use `topn` instead.\")\n",
      "/Users/bengreer/anaconda3/lib/python3.6/site-packages/gensim/models/wrappers/dtmmodel.py:494: UserWarning: The parameter `num_words` is deprecated, will be removed in 4.0.0, use `topn` instead.\n",
      "  warnings.warn(\"The parameter `num_words` is deprecated, will be removed in 4.0.0, use `topn` instead.\")\n"
     ]
    },
    {
     "data": {
      "image/png": "[encoded data removed]",
      "text/plain": [
       "<Figure size 432x288 with 1 Axes>"
      ]
     },
     "metadata": {},
     "output_type": "display_data"
    }
   ],
   "source": [
    "# exploring the outcome of the DTM model\n",
    "topics = model.show_topics(num_topics=1, times=4, formatted = False, num_words = 10)\n",
    "word_impact = []\n",
    "hist_word_double = []\n",
    "for item in topics:\n",
    "    word_impact = []\n",
    "    hist_word = []\n",
    "    for it in item:\n",
    "        number, topic_word = it\n",
    "        word_impact.append(number)\n",
    "        hist_word.append(topic_word)\n",
    "    hist_word_double.append(hist_word)\n",
    "    hist_word_double.append(word_impact)\n",
    "historical_dtm = pd.DataFrame(hist_word_double[:2]).T\n",
    "historical_dtm_draft = pd.DataFrame(hist_word_double[2:4]).T\n",
    "historical_dtm_draft2 = pd.DataFrame(hist_word_double[4:6]).T\n",
    "historical_dtm_draft3 = pd.DataFrame(hist_word_double[6:8]).T\n",
    "historical_dtm = historical_dtm.merge(historical_dtm_draft, on = 0, how = 'outer')\n",
    "historical_dtm = historical_dtm.merge(historical_dtm_draft2, on = 0, how = 'outer')\n",
    "historical_dtm = historical_dtm.merge(historical_dtm_draft3, on = 0, how = 'outer')\n",
    "historical_dtm = historical_dtm.fillna(0)\n",
    "historical_dtm.columns = ['word', 'Before_1865', '1865-1913', '1913-1945', '1945-Present']\n",
    "historical_dtm.set_index('word', inplace = True)\n",
    "historical_dtm = historical_dtm.T\n",
    "plt.plot(historical_dtm);"
   ]
  },
  {
   "cell_type": "code",
   "execution_count": 143,
   "metadata": {},
   "outputs": [],
   "source": [
    "def logdot(a, b):\n",
    "    max_a, max_b = np.max(a), np.max(b)\n",
    "    exp_a, exp_b = a - max_a, b - max_b\n",
    "    np.exp(exp_a, out=exp_a)\n",
    "    np.exp(exp_b, out=exp_b)\n",
    "    c = np.dot(exp_a, exp_b)\n",
    "    np.log(c, out=c)\n",
    "    c += max_a + max_b\n",
    "    return c"
   ]
  },
  {
   "cell_type": "code",
   "execution_count": 146,
   "metadata": {},
   "outputs": [],
   "source": [
    "historical_dtm = historical_dtm.T"
   ]
  },
  {
   "cell_type": "code",
   "execution_count": 148,
   "metadata": {},
   "outputs": [
    {
     "data": {
      "text/plain": [
       "0.0015824243803986419"
      ]
     },
     "execution_count": 148,
     "metadata": {},
     "output_type": "execute_result"
    }
   ],
   "source": [
    "historical_dtm['1865-1913'][1]"
   ]
  },
  {
   "cell_type": "code",
   "execution_count": 152,
   "metadata": {},
   "outputs": [
    {
     "ename": "NameError",
     "evalue": "name 'scan' is not defined",
     "output_type": "error",
     "traceback": [
      "\u001b[0;31m---------------------------------------------------------------------------\u001b[0m",
      "\u001b[0;31mNameError\u001b[0m                                 Traceback (most recent call last)",
      "\u001b[0;32m<ipython-input-152-64b8be645b3e>\u001b[0m in \u001b[0;36m<module>\u001b[0;34m\u001b[0m\n\u001b[0;32m----> 1\u001b[0;31m \u001b[0ma\u001b[0m \u001b[0;34m=\u001b[0m \u001b[0mscan\u001b[0m\u001b[0;34m(\u001b[0m\u001b[0;34m\"topic-002-var-e-log-prob.dat\"\u001b[0m\u001b[0;34m)\u001b[0m\u001b[0;34m\u001b[0m\u001b[0m\n\u001b[0m",
      "\u001b[0;31mNameError\u001b[0m: name 'scan' is not defined"
     ]
    }
   ],
   "source": [
    "a = scan(\"topic-002-var-e-log-prob.dat\")"
   ]
  },
  {
   "cell_type": "code",
   "execution_count": 151,
   "metadata": {
    "scrolled": true
   },
   "outputs": [
    {
     "ename": "TypeError",
     "evalue": "return arrays must be of ArrayType",
     "output_type": "error",
     "traceback": [
      "\u001b[0;31m---------------------------------------------------------------------------\u001b[0m",
      "\u001b[0;31mTypeError\u001b[0m                                 Traceback (most recent call last)",
      "\u001b[0;32m<ipython-input-151-31ef7b99aa67>\u001b[0m in \u001b[0;36m<module>\u001b[0;34m\u001b[0m\n\u001b[1;32m      1\u001b[0m \u001b[0;32mfor\u001b[0m \u001b[0mx\u001b[0m \u001b[0;32min\u001b[0m \u001b[0mrange\u001b[0m\u001b[0;34m(\u001b[0m\u001b[0mlen\u001b[0m\u001b[0;34m(\u001b[0m\u001b[0mhistorical_dtm\u001b[0m\u001b[0;34m[\u001b[0m\u001b[0;34m'1865-1913'\u001b[0m\u001b[0;34m]\u001b[0m\u001b[0;34m)\u001b[0m\u001b[0;34m)\u001b[0m\u001b[0;34m:\u001b[0m\u001b[0;34m\u001b[0m\u001b[0m\n\u001b[0;32m----> 2\u001b[0;31m     \u001b[0mprint\u001b[0m\u001b[0;34m(\u001b[0m\u001b[0mlogdot\u001b[0m\u001b[0;34m(\u001b[0m\u001b[0mhistorical_dtm\u001b[0m\u001b[0;34m[\u001b[0m\u001b[0;34m'Before_1865'\u001b[0m\u001b[0;34m]\u001b[0m\u001b[0;34m,\u001b[0m \u001b[0mhistorical_dtm\u001b[0m\u001b[0;34m[\u001b[0m\u001b[0;34m'1865-1913'\u001b[0m\u001b[0;34m]\u001b[0m\u001b[0;34m[\u001b[0m\u001b[0mx\u001b[0m\u001b[0;34m]\u001b[0m\u001b[0;34m)\u001b[0m\u001b[0;34m)\u001b[0m\u001b[0;34m\u001b[0m\u001b[0m\n\u001b[0m",
      "\u001b[0;32m<ipython-input-143-eaafa1e7a130>\u001b[0m in \u001b[0;36mlogdot\u001b[0;34m(a, b)\u001b[0m\n\u001b[1;32m      2\u001b[0m     \u001b[0mmax_a\u001b[0m\u001b[0;34m,\u001b[0m \u001b[0mmax_b\u001b[0m \u001b[0;34m=\u001b[0m \u001b[0mnp\u001b[0m\u001b[0;34m.\u001b[0m\u001b[0mmax\u001b[0m\u001b[0;34m(\u001b[0m\u001b[0ma\u001b[0m\u001b[0;34m)\u001b[0m\u001b[0;34m,\u001b[0m \u001b[0mnp\u001b[0m\u001b[0;34m.\u001b[0m\u001b[0mmax\u001b[0m\u001b[0;34m(\u001b[0m\u001b[0mb\u001b[0m\u001b[0;34m)\u001b[0m\u001b[0;34m\u001b[0m\u001b[0m\n\u001b[1;32m      3\u001b[0m     \u001b[0mexp_a\u001b[0m\u001b[0;34m,\u001b[0m \u001b[0mexp_b\u001b[0m \u001b[0;34m=\u001b[0m \u001b[0ma\u001b[0m \u001b[0;34m-\u001b[0m \u001b[0mmax_a\u001b[0m\u001b[0;34m,\u001b[0m \u001b[0mb\u001b[0m \u001b[0;34m-\u001b[0m \u001b[0mmax_b\u001b[0m\u001b[0;34m\u001b[0m\u001b[0m\n\u001b[0;32m----> 4\u001b[0;31m     \u001b[0mnp\u001b[0m\u001b[0;34m.\u001b[0m\u001b[0mexp\u001b[0m\u001b[0;34m(\u001b[0m\u001b[0mexp_a\u001b[0m\u001b[0;34m,\u001b[0m \u001b[0mout\u001b[0m\u001b[0;34m=\u001b[0m\u001b[0mexp_a\u001b[0m\u001b[0;34m)\u001b[0m\u001b[0;34m\u001b[0m\u001b[0m\n\u001b[0m\u001b[1;32m      5\u001b[0m     \u001b[0mnp\u001b[0m\u001b[0;34m.\u001b[0m\u001b[0mexp\u001b[0m\u001b[0;34m(\u001b[0m\u001b[0mexp_b\u001b[0m\u001b[0;34m,\u001b[0m \u001b[0mout\u001b[0m\u001b[0;34m=\u001b[0m\u001b[0mexp_b\u001b[0m\u001b[0;34m)\u001b[0m\u001b[0;34m\u001b[0m\u001b[0m\n\u001b[1;32m      6\u001b[0m     \u001b[0mc\u001b[0m \u001b[0;34m=\u001b[0m \u001b[0mnp\u001b[0m\u001b[0;34m.\u001b[0m\u001b[0mdot\u001b[0m\u001b[0;34m(\u001b[0m\u001b[0mexp_a\u001b[0m\u001b[0;34m,\u001b[0m \u001b[0mexp_b\u001b[0m\u001b[0;34m)\u001b[0m\u001b[0;34m\u001b[0m\u001b[0m\n",
      "\u001b[0;31mTypeError\u001b[0m: return arrays must be of ArrayType"
     ]
    }
   ],
   "source": [
    "for x in range(len(historical_dtm['1865-1913'])):\n",
    "    print(logdot(historical_dtm['Before_1865'], historical_dtm['1865-1913'][x]))"
   ]
  },
  {
   "cell_type": "code",
   "execution_count": 133,
   "metadata": {},
   "outputs": [
    {
     "ename": "KeyError",
     "evalue": "'Before_1865'",
     "output_type": "error",
     "traceback": [
      "\u001b[0;31m---------------------------------------------------------------------------\u001b[0m",
      "\u001b[0;31mKeyError\u001b[0m                                  Traceback (most recent call last)",
      "\u001b[0;32m~/anaconda3/lib/python3.6/site-packages/pandas/core/indexes/base.py\u001b[0m in \u001b[0;36mget_loc\u001b[0;34m(self, key, method, tolerance)\u001b[0m\n\u001b[1;32m   3077\u001b[0m             \u001b[0;32mtry\u001b[0m\u001b[0;34m:\u001b[0m\u001b[0;34m\u001b[0m\u001b[0m\n\u001b[0;32m-> 3078\u001b[0;31m                 \u001b[0;32mreturn\u001b[0m \u001b[0mself\u001b[0m\u001b[0;34m.\u001b[0m\u001b[0m_engine\u001b[0m\u001b[0;34m.\u001b[0m\u001b[0mget_loc\u001b[0m\u001b[0;34m(\u001b[0m\u001b[0mkey\u001b[0m\u001b[0;34m)\u001b[0m\u001b[0;34m\u001b[0m\u001b[0m\n\u001b[0m\u001b[1;32m   3079\u001b[0m             \u001b[0;32mexcept\u001b[0m \u001b[0mKeyError\u001b[0m\u001b[0;34m:\u001b[0m\u001b[0;34m\u001b[0m\u001b[0m\n",
      "\u001b[0;32mpandas/_libs/index.pyx\u001b[0m in \u001b[0;36mpandas._libs.index.IndexEngine.get_loc\u001b[0;34m()\u001b[0m\n",
      "\u001b[0;32mpandas/_libs/index.pyx\u001b[0m in \u001b[0;36mpandas._libs.index.IndexEngine.get_loc\u001b[0;34m()\u001b[0m\n",
      "\u001b[0;32mpandas/_libs/hashtable_class_helper.pxi\u001b[0m in \u001b[0;36mpandas._libs.hashtable.PyObjectHashTable.get_item\u001b[0;34m()\u001b[0m\n",
      "\u001b[0;32mpandas/_libs/hashtable_class_helper.pxi\u001b[0m in \u001b[0;36mpandas._libs.hashtable.PyObjectHashTable.get_item\u001b[0;34m()\u001b[0m\n",
      "\u001b[0;31mKeyError\u001b[0m: 'Before_1865'",
      "\nDuring handling of the above exception, another exception occurred:\n",
      "\u001b[0;31mKeyError\u001b[0m                                  Traceback (most recent call last)",
      "\u001b[0;32m<ipython-input-133-051634769dfc>\u001b[0m in \u001b[0;36m<module>\u001b[0;34m\u001b[0m\n\u001b[1;32m      1\u001b[0m \u001b[0mhistorical_dtm\u001b[0m \u001b[0;34m=\u001b[0m \u001b[0mhistorical_dtm\u001b[0m\u001b[0;34m.\u001b[0m\u001b[0mT\u001b[0m\u001b[0;34m\u001b[0m\u001b[0m\n\u001b[0;32m----> 2\u001b[0;31m \u001b[0mhistorical_dtm\u001b[0m\u001b[0;34m[\u001b[0m\u001b[0;34m'log_prob_1'\u001b[0m\u001b[0;34m]\u001b[0m \u001b[0;34m=\u001b[0m \u001b[0mnp\u001b[0m\u001b[0;34m.\u001b[0m\u001b[0mlog\u001b[0m\u001b[0;34m(\u001b[0m\u001b[0mhistorical_dtm\u001b[0m\u001b[0;34m[\u001b[0m\u001b[0;34m'Before_1865'\u001b[0m\u001b[0;34m]\u001b[0m \u001b[0;34m+\u001b[0m \u001b[0mhistorical_dtm\u001b[0m\u001b[0;34m[\u001b[0m\u001b[0;34m'1865-1913'\u001b[0m\u001b[0;34m]\u001b[0m\u001b[0;34m)\u001b[0m\u001b[0;34m\u001b[0m\u001b[0m\n\u001b[0m",
      "\u001b[0;32m~/anaconda3/lib/python3.6/site-packages/pandas/core/frame.py\u001b[0m in \u001b[0;36m__getitem__\u001b[0;34m(self, key)\u001b[0m\n\u001b[1;32m   2686\u001b[0m             \u001b[0;32mreturn\u001b[0m \u001b[0mself\u001b[0m\u001b[0;34m.\u001b[0m\u001b[0m_getitem_multilevel\u001b[0m\u001b[0;34m(\u001b[0m\u001b[0mkey\u001b[0m\u001b[0;34m)\u001b[0m\u001b[0;34m\u001b[0m\u001b[0m\n\u001b[1;32m   2687\u001b[0m         \u001b[0;32melse\u001b[0m\u001b[0;34m:\u001b[0m\u001b[0;34m\u001b[0m\u001b[0m\n\u001b[0;32m-> 2688\u001b[0;31m             \u001b[0;32mreturn\u001b[0m \u001b[0mself\u001b[0m\u001b[0;34m.\u001b[0m\u001b[0m_getitem_column\u001b[0m\u001b[0;34m(\u001b[0m\u001b[0mkey\u001b[0m\u001b[0;34m)\u001b[0m\u001b[0;34m\u001b[0m\u001b[0m\n\u001b[0m\u001b[1;32m   2689\u001b[0m \u001b[0;34m\u001b[0m\u001b[0m\n\u001b[1;32m   2690\u001b[0m     \u001b[0;32mdef\u001b[0m \u001b[0m_getitem_column\u001b[0m\u001b[0;34m(\u001b[0m\u001b[0mself\u001b[0m\u001b[0;34m,\u001b[0m \u001b[0mkey\u001b[0m\u001b[0;34m)\u001b[0m\u001b[0;34m:\u001b[0m\u001b[0;34m\u001b[0m\u001b[0m\n",
      "\u001b[0;32m~/anaconda3/lib/python3.6/site-packages/pandas/core/frame.py\u001b[0m in \u001b[0;36m_getitem_column\u001b[0;34m(self, key)\u001b[0m\n\u001b[1;32m   2693\u001b[0m         \u001b[0;31m# get column\u001b[0m\u001b[0;34m\u001b[0m\u001b[0;34m\u001b[0m\u001b[0m\n\u001b[1;32m   2694\u001b[0m         \u001b[0;32mif\u001b[0m \u001b[0mself\u001b[0m\u001b[0;34m.\u001b[0m\u001b[0mcolumns\u001b[0m\u001b[0;34m.\u001b[0m\u001b[0mis_unique\u001b[0m\u001b[0;34m:\u001b[0m\u001b[0;34m\u001b[0m\u001b[0m\n\u001b[0;32m-> 2695\u001b[0;31m             \u001b[0;32mreturn\u001b[0m \u001b[0mself\u001b[0m\u001b[0;34m.\u001b[0m\u001b[0m_get_item_cache\u001b[0m\u001b[0;34m(\u001b[0m\u001b[0mkey\u001b[0m\u001b[0;34m)\u001b[0m\u001b[0;34m\u001b[0m\u001b[0m\n\u001b[0m\u001b[1;32m   2696\u001b[0m \u001b[0;34m\u001b[0m\u001b[0m\n\u001b[1;32m   2697\u001b[0m         \u001b[0;31m# duplicate columns & possible reduce dimensionality\u001b[0m\u001b[0;34m\u001b[0m\u001b[0;34m\u001b[0m\u001b[0m\n",
      "\u001b[0;32m~/anaconda3/lib/python3.6/site-packages/pandas/core/generic.py\u001b[0m in \u001b[0;36m_get_item_cache\u001b[0;34m(self, item)\u001b[0m\n\u001b[1;32m   2487\u001b[0m         \u001b[0mres\u001b[0m \u001b[0;34m=\u001b[0m \u001b[0mcache\u001b[0m\u001b[0;34m.\u001b[0m\u001b[0mget\u001b[0m\u001b[0;34m(\u001b[0m\u001b[0mitem\u001b[0m\u001b[0;34m)\u001b[0m\u001b[0;34m\u001b[0m\u001b[0m\n\u001b[1;32m   2488\u001b[0m         \u001b[0;32mif\u001b[0m \u001b[0mres\u001b[0m \u001b[0;32mis\u001b[0m \u001b[0;32mNone\u001b[0m\u001b[0;34m:\u001b[0m\u001b[0;34m\u001b[0m\u001b[0m\n\u001b[0;32m-> 2489\u001b[0;31m             \u001b[0mvalues\u001b[0m \u001b[0;34m=\u001b[0m \u001b[0mself\u001b[0m\u001b[0;34m.\u001b[0m\u001b[0m_data\u001b[0m\u001b[0;34m.\u001b[0m\u001b[0mget\u001b[0m\u001b[0;34m(\u001b[0m\u001b[0mitem\u001b[0m\u001b[0;34m)\u001b[0m\u001b[0;34m\u001b[0m\u001b[0m\n\u001b[0m\u001b[1;32m   2490\u001b[0m             \u001b[0mres\u001b[0m \u001b[0;34m=\u001b[0m \u001b[0mself\u001b[0m\u001b[0;34m.\u001b[0m\u001b[0m_box_item_values\u001b[0m\u001b[0;34m(\u001b[0m\u001b[0mitem\u001b[0m\u001b[0;34m,\u001b[0m \u001b[0mvalues\u001b[0m\u001b[0;34m)\u001b[0m\u001b[0;34m\u001b[0m\u001b[0m\n\u001b[1;32m   2491\u001b[0m             \u001b[0mcache\u001b[0m\u001b[0;34m[\u001b[0m\u001b[0mitem\u001b[0m\u001b[0;34m]\u001b[0m \u001b[0;34m=\u001b[0m \u001b[0mres\u001b[0m\u001b[0;34m\u001b[0m\u001b[0m\n",
      "\u001b[0;32m~/anaconda3/lib/python3.6/site-packages/pandas/core/internals.py\u001b[0m in \u001b[0;36mget\u001b[0;34m(self, item, fastpath)\u001b[0m\n\u001b[1;32m   4113\u001b[0m \u001b[0;34m\u001b[0m\u001b[0m\n\u001b[1;32m   4114\u001b[0m             \u001b[0;32mif\u001b[0m \u001b[0;32mnot\u001b[0m \u001b[0misna\u001b[0m\u001b[0;34m(\u001b[0m\u001b[0mitem\u001b[0m\u001b[0;34m)\u001b[0m\u001b[0;34m:\u001b[0m\u001b[0;34m\u001b[0m\u001b[0m\n\u001b[0;32m-> 4115\u001b[0;31m                 \u001b[0mloc\u001b[0m \u001b[0;34m=\u001b[0m \u001b[0mself\u001b[0m\u001b[0;34m.\u001b[0m\u001b[0mitems\u001b[0m\u001b[0;34m.\u001b[0m\u001b[0mget_loc\u001b[0m\u001b[0;34m(\u001b[0m\u001b[0mitem\u001b[0m\u001b[0;34m)\u001b[0m\u001b[0;34m\u001b[0m\u001b[0m\n\u001b[0m\u001b[1;32m   4116\u001b[0m             \u001b[0;32melse\u001b[0m\u001b[0;34m:\u001b[0m\u001b[0;34m\u001b[0m\u001b[0m\n\u001b[1;32m   4117\u001b[0m                 \u001b[0mindexer\u001b[0m \u001b[0;34m=\u001b[0m \u001b[0mnp\u001b[0m\u001b[0;34m.\u001b[0m\u001b[0marange\u001b[0m\u001b[0;34m(\u001b[0m\u001b[0mlen\u001b[0m\u001b[0;34m(\u001b[0m\u001b[0mself\u001b[0m\u001b[0;34m.\u001b[0m\u001b[0mitems\u001b[0m\u001b[0;34m)\u001b[0m\u001b[0;34m)\u001b[0m\u001b[0;34m[\u001b[0m\u001b[0misna\u001b[0m\u001b[0;34m(\u001b[0m\u001b[0mself\u001b[0m\u001b[0;34m.\u001b[0m\u001b[0mitems\u001b[0m\u001b[0;34m)\u001b[0m\u001b[0;34m]\u001b[0m\u001b[0;34m\u001b[0m\u001b[0m\n",
      "\u001b[0;32m~/anaconda3/lib/python3.6/site-packages/pandas/core/indexes/base.py\u001b[0m in \u001b[0;36mget_loc\u001b[0;34m(self, key, method, tolerance)\u001b[0m\n\u001b[1;32m   3078\u001b[0m                 \u001b[0;32mreturn\u001b[0m \u001b[0mself\u001b[0m\u001b[0;34m.\u001b[0m\u001b[0m_engine\u001b[0m\u001b[0;34m.\u001b[0m\u001b[0mget_loc\u001b[0m\u001b[0;34m(\u001b[0m\u001b[0mkey\u001b[0m\u001b[0;34m)\u001b[0m\u001b[0;34m\u001b[0m\u001b[0m\n\u001b[1;32m   3079\u001b[0m             \u001b[0;32mexcept\u001b[0m \u001b[0mKeyError\u001b[0m\u001b[0;34m:\u001b[0m\u001b[0;34m\u001b[0m\u001b[0m\n\u001b[0;32m-> 3080\u001b[0;31m                 \u001b[0;32mreturn\u001b[0m \u001b[0mself\u001b[0m\u001b[0;34m.\u001b[0m\u001b[0m_engine\u001b[0m\u001b[0;34m.\u001b[0m\u001b[0mget_loc\u001b[0m\u001b[0;34m(\u001b[0m\u001b[0mself\u001b[0m\u001b[0;34m.\u001b[0m\u001b[0m_maybe_cast_indexer\u001b[0m\u001b[0;34m(\u001b[0m\u001b[0mkey\u001b[0m\u001b[0;34m)\u001b[0m\u001b[0;34m)\u001b[0m\u001b[0;34m\u001b[0m\u001b[0m\n\u001b[0m\u001b[1;32m   3081\u001b[0m \u001b[0;34m\u001b[0m\u001b[0m\n\u001b[1;32m   3082\u001b[0m         \u001b[0mindexer\u001b[0m \u001b[0;34m=\u001b[0m \u001b[0mself\u001b[0m\u001b[0;34m.\u001b[0m\u001b[0mget_indexer\u001b[0m\u001b[0;34m(\u001b[0m\u001b[0;34m[\u001b[0m\u001b[0mkey\u001b[0m\u001b[0;34m]\u001b[0m\u001b[0;34m,\u001b[0m \u001b[0mmethod\u001b[0m\u001b[0;34m=\u001b[0m\u001b[0mmethod\u001b[0m\u001b[0;34m,\u001b[0m \u001b[0mtolerance\u001b[0m\u001b[0;34m=\u001b[0m\u001b[0mtolerance\u001b[0m\u001b[0;34m)\u001b[0m\u001b[0;34m\u001b[0m\u001b[0m\n",
      "\u001b[0;32mpandas/_libs/index.pyx\u001b[0m in \u001b[0;36mpandas._libs.index.IndexEngine.get_loc\u001b[0;34m()\u001b[0m\n",
      "\u001b[0;32mpandas/_libs/index.pyx\u001b[0m in \u001b[0;36mpandas._libs.index.IndexEngine.get_loc\u001b[0;34m()\u001b[0m\n",
      "\u001b[0;32mpandas/_libs/hashtable_class_helper.pxi\u001b[0m in \u001b[0;36mpandas._libs.hashtable.PyObjectHashTable.get_item\u001b[0;34m()\u001b[0m\n",
      "\u001b[0;32mpandas/_libs/hashtable_class_helper.pxi\u001b[0m in \u001b[0;36mpandas._libs.hashtable.PyObjectHashTable.get_item\u001b[0;34m()\u001b[0m\n",
      "\u001b[0;31mKeyError\u001b[0m: 'Before_1865'"
     ]
    }
   ],
   "source": [
    "historical_dtm = historical_dtm.T\n",
    "for row in historical_dtm\n",
    "historical_dtm['log_prob_1'] = np.log(historical_dtm['Before_1865'] + historical_dtm['1865-1913'])"
   ]
  },
  {
   "cell_type": "code",
   "execution_count": null,
   "metadata": {},
   "outputs": [],
   "source": [
    "def read_topic_word_dist(topic, journal_df, output_prefix):\n",
    "    word_dist_file = output_prefix + str(topic) + '-var-e-log-prob.dat'\n",
    "    word_dist = np.fromfile(word_dist_file, sep='\\n')\n",
    "    \n",
    "    # reshape the numpy array\n",
    "    ncols = journal_df.pub_year.nunique()\n",
    "    nrows = len(vocab)\n",
    "    word_dist = np.reshape(word_dist, (nrows, ncols))\n",
    "    \n",
    "    # convert the numpy ndarray to pandas dataframe\n",
    "    return pd.DataFrame(word_dist, \n",
    "                        columns=np.sort(journal_df.pub_year.unique()).tolist())\n",
    "\n",
    "def top_words(topic_word_dist, vocab, year, num_words=10):\n",
    "    indices = topic_word_dist.loc[:,year].sort_values(ascending=False).head(num_words).index\n",
    "    return vocab.loc[indices, :]\n",
    "\n",
    "def all_top_words(topics, journal_df, vocab, ouput_prefix):\n",
    "    for topic in topics:\n",
    "        word_dist = read_topic_word_dist(topic, journal_df, output_prefix)\n",
    "        print('Topic {}'.format(topic))\n",
    "        for year in np.sort(journal_df.pub_year.unique()):\n",
    "            print(\"{}:\\n{}\\n\".format(year, top_words(word_dist, vocab, year, 20).word.tolist()))\n",
    "        print('-'*25)\n",
    "\n",
    "output_prefix = '/media/fay/38E0D529E0D4EE5E/Users/Fay/Documents/GA/GA_capstone/data/jcb_10topics/model_run/lda-seq/topic-0'\n",
    "n_topics = 10\n",
    "topics = [str(i) if i > 9 else '0' + str(i) for i in range(n_topics)]\n",
    "\n",
    "all_top_words(topics, , vocab, output_prefix)"
   ]
  }
 ],
 "metadata": {
  "kernelspec": {
   "display_name": "Python 3",
   "language": "python",
   "name": "python3"
  },
  "language_info": {
   "codemirror_mode": {
    "name": "ipython",
    "version": 3
   },
   "file_extension": ".py",
   "mimetype": "text/x-python",
   "name": "python",
   "nbconvert_exporter": "python",
   "pygments_lexer": "ipython3",
   "version": "3.6.5"
  }
 },
 "nbformat": 4,
 "nbformat_minor": 2
}
