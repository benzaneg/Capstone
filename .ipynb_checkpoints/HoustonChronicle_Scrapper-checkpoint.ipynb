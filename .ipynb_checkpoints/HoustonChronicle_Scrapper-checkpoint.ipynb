{
 "cells": [
  {
   "cell_type": "code",
   "execution_count": 156,
   "metadata": {},
   "outputs": [],
   "source": [
    "# Import libaries\n",
    "from bs4 import BeautifulSoup\n",
    "import pandas as pd\n",
    "import requests\n",
    "import re\n",
    "import numpy as np"
   ]
  },
  {
   "cell_type": "code",
   "execution_count": 157,
   "metadata": {},
   "outputs": [],
   "source": [
    "corpora = []"
   ]
  },
  {
   "cell_type": "code",
   "execution_count": 208,
   "metadata": {},
   "outputs": [],
   "source": [
    "url = 'https://www.houstonchronicle.com/business/article/Reworked-Nafta-deal-brings-relief-to-Texas-13273591.php'\n",
    "res = requests.get(url)\n",
    "soup = BeautifulSoup(res.content, 'lxml')"
   ]
  },
  {
   "cell_type": "code",
   "execution_count": 189,
   "metadata": {},
   "outputs": [
    {
     "data": {
      "text/plain": [
       "'Reworked Nafta deal brings relief to Texas businesses'"
      ]
     },
     "execution_count": 189,
     "metadata": {},
     "output_type": "execute_result"
    }
   ],
   "source": [
    "soup.title.text[:-23]"
   ]
  },
  {
   "cell_type": "code",
   "execution_count": 185,
   "metadata": {},
   "outputs": [
    {
     "data": {
      "text/plain": [
       "'The 11th hour deal struck by the United States and Canada to preserve a North American free trade zone brought relief to Texas businesses that for 25 years have relied on and prospered from cross-border commerce that has bolstered the state’s economy., For more than a year, energy companies, manufacturers and farmers have worried about the fate of the North American Free Trade Agreement between the United States, Canada and Mexico that had opened markets, built efficient supply chains and created more than 1 million jobs in Texas. President Donald Trump called NAFTA one of the worst deals ever made, threatened to tear it up and vowed to exclude Canada if the nation’s neighbor to the north did not acquiesce to U.S. demands., The Trump administration first reached a deal with Mexico in August; it concluded an agreement with Canada late Sunday to maintain the trilateral trade pact not long before a U.S.-imposed midnight deadline passed., Few details of the agreement were immediately available, but the broad strokes indicate natural gas producers will still have easy access to the growing Mexican markets and Gulf Coast refiners can still rely on heavy crude from Canada. Businesses in Texas border communities, whose local economies have become integrated with those across the Rio Grande, can resume long-planned investments that were put on hold given the uncertainty over NAFTA., \"This is very good news for Texas companies,\" said Doug McCullough, director of the Canada-Texas Chamber of Commerce. \"Trade restrictions, including any retaliatory tariffs, would have been harmful to Texas companies. Concluding the trade deal removes tremendous uncertainty for companies doing business throughout the North American market.\", The new agreement between the three countries replaces NAFTA with a new acronym, USMCA, for United States-Mexico-Canada Agreement. It has significant changes for automakers, opens Canada\\'s milk market to U.S. dairy farmers, and maintains arbitration rules that many American companies hoped would be kept in place. But for the most part, analysts said, the deal is more modifications than overhaul and<strong> </strong>leaves much of the older pact in place., Few states had as much at stake in the outcome of the negotiations as Texas. Mexico, the state’s biggest trading partner, and Canada, the second largest accounted for nearly half — 46 percent — of the state’s nearly $265 billion in exports last year., For energy companies, the agreement means that oil, natural gas and petroleum products will continue to move across borders without tariffs. Mexico, following reforms that opened its energy markets to foreign companies, has become the United States biggest export market for natural gas, much of it flowing through pipelines that stretch across the Texas-Mexico border and carry gas produced in Texas shale fields. Natural gas exports to Mexico, now averaging about 5 billion cubic feet, more than doubled in 2017 from 2014, according to the U.S. Energy Department., \"It should be business as usual,” said Ed Hirs, an economist at the University of Houston. “Or maybe a little better.”, The American Petroleum Institute, the main lobbying group for the oil and gas industry, called on Congress to approve the new pact, lauding the inclusion of Canada, which sends some 3.3 million barrels a day of heavy crude oil to U.S. refiners. Along the Gulf Coast, refineries are largely configured to process heavy, imported crude as opposed to lighter grades from U.S. shale plays., \"Having Canada as a trading partner and a party to this agreement is critical for North American energy security and U.S. consumers,” API CEO Mike Sommers in a statement. “Retaining a trade agreement for North America will help ensure the U.S. energy revolution continues into the future.\", Texas farmers and ranchers also viewed the trilateral agreement as a win. The value of U.S. agricultural trade with Canada and Mexico exploded under the North American Free Trade Agreement, with U.S. exports jumping from $8.7 billion in 1992 to $38.1 billion in 2016., Texas’ main agricultural exports to NAFTA countries include cotton, corn, grain and feed, rice and beef. Mexico is the state’s largest beef export market. Canada is the fifth largest., “We had really been hoping for this,” said Kelley Sullivan, co-owner of the Santa Rosa Ranch, which is the largest producer of Brangus and UltraBlack cattle in Texas. “We have been as an industry asking and imploring them to really instead of completely doing away with NAFTA, modernize it. Which really this seems to have done.”, Mexico is Greater Houston’s biggest trading partner. In 2017, trade between the Houston area and Mexico — both exports and imports — topped $20 billion. Canada accounted for $3.3 billion in trade with the region last year, according to the Greater Houston Partnership, a business group. Together, the two countries accounted for 12 percent of all international trade for the region., “Any agreement that the United States reaches with Mexico is important and is good news for Houston,” said Patrick Jankowski, vice president of research for the Greater Houston Partnership., The reaction along the border was similar. Trade between El Paso and Juarez in Mexico, totaled about $80 billion. The local economies of the two cities depends heavily on the free flow of goods and services across the border. Manufacturers might make components in El Paso and assemble them in Juarez and ship them to markets in both countries., Tom Fullerton, an economics professor at University of Texas El Paso, said many planned investments to upgrade factories were placed on hold as they awaited the outcome of NAFTA negotiations. As a result, employment tied to manufacturing slowed, but Fullerton said., “This has been surprising because the U.S. economy is doing so well,\" Fullerton said. \"These investments that have been on hold should be able to be put into action now.”, john.roper@chron.com, '"
      ]
     },
     "execution_count": 185,
     "metadata": {},
     "output_type": "execute_result"
    }
   ],
   "source": [
    "text_tag_all = str(soup.find_all('p'))\n",
    "text_tag_all = re.sub('\\[<p>', '', text_tag_all)\n",
    "text_tag_all = re.sub('<\\/p>', '', text_tag_all)\n",
    "text_tag_all = re.sub('<p>', '', text_tag_all)\n",
    "text_tag_all\n",
    "for char in range(len(text_tag_all)):\n",
    "    close = char+4\n",
    "    if text_tag_all[char:close] == '<em>':\n",
    "        text_tag_all = text_tag_all[:char]\n",
    "text_tag_all"
   ]
  },
  {
   "cell_type": "code",
   "execution_count": 100,
   "metadata": {},
   "outputs": [],
   "source": [
    "for char in range(len(article)):\n",
    "    close = char+4\n",
    "    if article[char:close] == '<em>':\n",
    "        article = article[:char]"
   ]
  },
  {
   "cell_type": "code",
   "execution_count": 142,
   "metadata": {},
   "outputs": [
    {
     "data": {
      "text/plain": [
       "26"
      ]
     },
     "execution_count": 142,
     "metadata": {},
     "output_type": "execute_result"
    }
   ],
   "source": [
    "len(article)"
   ]
  },
  {
   "cell_type": "code",
   "execution_count": 202,
   "metadata": {},
   "outputs": [
    {
     "data": {
      "text/plain": [
       "'Oct. 1, 2018'"
      ]
     },
     "execution_count": 202,
     "metadata": {},
     "output_type": "execute_result"
    }
   ],
   "source": [
    "date = [tag.text for tag in soup.find_all(itemprop = 'datePublished')]\n",
    "date = ''.join(date)\n",
    "date = re.sub('\\\\n\\s+', '', date)\n",
    "date"
   ]
  },
  {
   "cell_type": "code",
   "execution_count": 140,
   "metadata": {},
   "outputs": [],
   "source": [
    "for char in range(len(date)):\n",
    "        close = char + 2\n",
    "        if date[char:close] == 'By':\n",
    "            split = char + 3\n",
    "            date = date[split:]"
   ]
  },
  {
   "cell_type": "code",
   "execution_count": 141,
   "metadata": {},
   "outputs": [
    {
     "data": {
      "text/plain": [
       "'John Roper and Lynn Brezosky, Staff writers\\n                    '"
      ]
     },
     "execution_count": 141,
     "metadata": {},
     "output_type": "execute_result"
    }
   ],
   "source": [
    "date"
   ]
  },
  {
   "cell_type": "code",
   "execution_count": 117,
   "metadata": {},
   "outputs": [
    {
     "data": {
      "text/plain": [
       "'\\n                        By John Roper and Lynn Brezosky, Staff writers\\n                    '"
      ]
     },
     "execution_count": 117,
     "metadata": {},
     "output_type": "execute_result"
    }
   ],
   "source": [
    "date = [tag.text for tag in soup.find_all(class_ = 'header-byline')]\n",
    "\n",
    "date = ''.join(date)\n",
    "for char in range(len(date)):\n",
    "        close = char+1\n",
    "        if date[char:close] == 'By':\n",
    "            date = article[:char]\n",
    "date"
   ]
  },
  {
   "cell_type": "code",
   "execution_count": 215,
   "metadata": {},
   "outputs": [
    {
     "data": {
      "text/plain": [
       "'John Roper and Lynn Brezosky, Staff writers\\n                    '"
      ]
     },
     "execution_count": 215,
     "metadata": {},
     "output_type": "execute_result"
    }
   ],
   "source": [
    "author = [tag.text for tag in soup.find_all(class_ = 'header-byline')]\n",
    "author = ''.join(author)\n",
    "for char in range(len(author)):\n",
    "    close = char + 2\n",
    "    if author[char:close] == 'By':\n",
    "        split = char + 3\n",
    "        author = author[split:]\n",
    "author"
   ]
  },
  {
   "cell_type": "code",
   "execution_count": 244,
   "metadata": {},
   "outputs": [
    {
     "data": {
      "text/plain": [
       "['The 11th hour deal struck by the United States and Canada to preserve a North American free trade zone brought relief to Texas businesses that for 25 years have relied on and prospered from cross-border commerce that has bolstered the state’s economy.',\n",
       " 'For more than a year, energy companies, manufacturers and farmers have worried about the fate of the North American Free Trade Agreement between the United States, Canada and Mexico that had opened markets, built efficient supply chains and created more than 1 million jobs in Texas. President Donald Trump called NAFTA one of the worst deals ever made, threatened to tear it up and vowed to exclude Canada if the nation’s neighbor to the north did not acquiesce to U.S. demands.',\n",
       " 'The Trump administration first reached a deal with Mexico in August; it concluded an agreement with Canada late Sunday to maintain the trilateral trade pact not long before a U.S.-imposed midnight deadline passed.',\n",
       " 'Few details of the agreement were immediately available, but the broad strokes indicate natural gas producers will still have easy access to the growing Mexican markets and Gulf Coast refiners can still rely on heavy crude from Canada. Businesses in Texas border communities, whose local economies have become integrated with those across the Rio Grande, can resume long-planned investments that were put on hold given the uncertainty over NAFTA.',\n",
       " '\"This is very good news for Texas companies,\" said Doug McCullough, director of the Canada-Texas Chamber of Commerce. \"Trade restrictions, including any retaliatory tariffs, would have been harmful to Texas companies. Concluding the trade deal removes tremendous uncertainty for companies doing business throughout the North American market.\"',\n",
       " \"The new agreement between the three countries replaces NAFTA with a new acronym, USMCA, for United States-Mexico-Canada Agreement. It has significant changes for automakers, opens Canada's milk market to U.S. dairy farmers, and maintains arbitration rules that many American companies hoped would be kept in place. But for the most part, analysts said, the deal is more modifications than overhaul and leaves much of the older pact in place.\",\n",
       " 'Few states had as much at stake in the outcome of the negotiations as Texas. Mexico, the state’s biggest trading partner, and Canada, the second largest accounted for nearly half — 46 percent — of the state’s nearly $265 billion in exports last year.',\n",
       " 'For energy companies, the agreement means that oil, natural gas and petroleum products will continue to move across borders without tariffs. Mexico, following reforms that opened its energy markets to foreign companies, has become the United States biggest export market for natural gas, much of it flowing through pipelines that stretch across the Texas-Mexico border and carry gas produced in Texas shale fields. Natural gas exports to Mexico, now averaging about 5 billion cubic feet, more than doubled in 2017 from 2014, according to the U.S. Energy Department.',\n",
       " '\"It should be business as usual,” said Ed Hirs, an economist at the University of Houston. “Or maybe a little better.”',\n",
       " 'The American Petroleum Institute, the main lobbying group for the oil and gas industry, called on Congress to approve the new pact, lauding the inclusion of Canada, which sends some 3.3 million barrels a day of heavy crude oil to U.S. refiners. Along the Gulf Coast, refineries are largely configured to process heavy, imported crude as opposed to lighter grades from U.S. shale plays.',\n",
       " '\"Having Canada as a trading partner and a party to this agreement is critical for North American energy security and U.S. consumers,” API CEO Mike Sommers in a statement. “Retaining a trade agreement for North America will help ensure the U.S. energy revolution continues into the future.\"',\n",
       " 'Texas farmers and ranchers also viewed the trilateral agreement as a win. The value of U.S. agricultural trade with Canada and Mexico exploded under the North American Free Trade Agreement, with U.S. exports jumping from $8.7 billion in 1992 to $38.1 billion in 2016.',\n",
       " 'Texas’ main agricultural exports to NAFTA countries include cotton, corn, grain and feed, rice and beef. Mexico is the state’s largest beef export market. Canada is the fifth largest.',\n",
       " '“We had really been hoping for this,” said Kelley Sullivan, co-owner of the Santa Rosa Ranch, which is the largest producer of Brangus and UltraBlack cattle in Texas. “We have been as an industry asking and imploring them to really instead of completely doing away with NAFTA, modernize it. Which really this seems to have done.”',\n",
       " 'Mexico is Greater Houston’s biggest trading partner. In 2017, trade between the Houston area and Mexico — both exports and imports — topped $20 billion. Canada accounted for $3.3 billion in trade with the region last year, according to the Greater Houston Partnership, a business group. Together, the two countries accounted for 12 percent of all international trade for the region.',\n",
       " '“Any agreement that the United States reaches with Mexico is important and is good news for Houston,” said Patrick Jankowski, vice president of research for the Greater Houston Partnership.',\n",
       " 'The reaction along the border was similar. Trade between El Paso and Juarez in Mexico, totaled about $80 billion. The local economies of the two cities depends heavily on the free flow of goods and services across the border. Manufacturers might make components in El Paso and assemble them in Juarez and ship them to markets in both countries.',\n",
       " 'Tom Fullerton, an economics professor at University of Texas El Paso, said many planned investments to upgrade factories were placed on hold as they awaited the outcome of NAFTA negotiations. As a result, employment tied to manufacturing slowed, but Fullerton said.',\n",
       " '“This has been surprising because the U.S. economy is doing so well,\" Fullerton said. \"These investments that have been on hold should be able to be put into action now.”',\n",
       " 'john.roper@chron.com',\n",
       " 'lbrezosky@express-news.net',\n",
       " \"To read this article in one of Houston's most-spoken languages, click on the button below.\",\n",
       " 'About',\n",
       " 'Contact',\n",
       " '©2018 Hearst']"
      ]
     },
     "execution_count": 244,
     "metadata": {},
     "output_type": "execute_result"
    }
   ],
   "source": [
    "[tag.text for tag in soup.find_all('p')]"
   ]
  },
  {
   "cell_type": "code",
   "execution_count": 211,
   "metadata": {},
   "outputs": [
    {
     "data": {
      "text/plain": [
       "'Reworked Nafta deal brings relief to Texas businesses'"
      ]
     },
     "execution_count": 211,
     "metadata": {},
     "output_type": "execute_result"
    }
   ],
   "source": [
    "titled = soup.title.text\n",
    "titled[:-23]"
   ]
  },
  {
   "cell_type": "code",
   "execution_count": 258,
   "metadata": {},
   "outputs": [],
   "source": [
    "def HoustonChronicle_scrapper(piece):\n",
    "    # The normal set-up of a scrape\n",
    "    url = piece\n",
    "    res = requests.get(url)\n",
    "    soup = BeautifulSoup(res.content, 'lxml')\n",
    "    \n",
    "    # Creating the list which the article will be held in\n",
    "    article = []\n",
    "    \n",
    "    # Title\n",
    "    titled = soup.title.text\n",
    "    article.append(titled[:-23])\n",
    "    \n",
    "    # Author\n",
    "    author = [tag.text for tag in soup.find_all(class_ = 'header-byline')]\n",
    "    author = ''.join(author)\n",
    "    for char in range(len(author)):\n",
    "        close = char + 2\n",
    "        if author[char:close] == 'By':\n",
    "            split = char + 3\n",
    "            author = author[split:]\n",
    "    article.append(author)\n",
    "    \n",
    "    # Date\n",
    "    date = [tag.text for tag in soup.find_all(itemprop = 'datePublished')]\n",
    "    date = ''.join(date)\n",
    "    date = re.sub('\\\\n\\s+', '', date)\n",
    "    article.append(date)\n",
    "    \n",
    "    # Finding all of the text an in article\n",
    "    text_tag_all = [tag.text for tag in soup.find_all('p')]\n",
    "    text_tag_all = ''.join(text_tag_all)\n",
    "    article.append(text_tag_all)\n",
    "    corpora.append(article)\n"
   ]
  },
  {
   "cell_type": "code",
   "execution_count": 259,
   "metadata": {},
   "outputs": [],
   "source": [
    "houston_articles = ['https://www.houstonchronicle.com/opinion/editorials/article/Jim-Allison-s-Nobel-shows-world-He-wasn-t-13273450.php', 'https://www.houstonchronicle.com/news/politics/texas/article/Governor-Greg-Abbott-describes-Beto-O-Rourke-as-13272063.php', 'https://www.houstonchronicle.com/business/article/Reworked-Nafta-deal-brings-relief-to-Texas-13273591.php']"
   ]
  },
  {
   "cell_type": "code",
   "execution_count": 260,
   "metadata": {},
   "outputs": [],
   "source": [
    "corpora = []"
   ]
  },
  {
   "cell_type": "code",
   "execution_count": 261,
   "metadata": {},
   "outputs": [],
   "source": [
    "for pieces in houston_articles:\n",
    "    HoustonChronicle_scrapper(pieces)"
   ]
  },
  {
   "cell_type": "code",
   "execution_count": 262,
   "metadata": {},
   "outputs": [
    {
     "data": {
      "text/plain": [
       "[['Jim Allison’s Nobel shows world: He wasn’t crazy; he was a cancer pioneer. [Editorial]',\n",
       "  'The Editorial Board\\n                    ',\n",
       "  'Oct. 1, 2018',\n",
       "  \"Jim Allison lost his mother, a brother, two uncles and a cousin to cancer, but he says he never set out to find a cure for the disease. Like many great scientists, he was driven by “the selfish desire to be the first person on the planet to know something,” as he explained to Houston Chronicle medical writer Todd Ackerman.In the 1990s, Allison’s development of an antibody that frees the body’s immune system to attack tumors revived the moribund field of immunotherapy, now taking its place alongside surgery, chemotherapy and radiation as a key weapon in treating cancer.Allison, the MD Anderson Cancer Center’s director of immunology, was honored on Monday with the Nobel Prize in Medicine. He shared the award with Tasuku Honjo of Kyoto University in Japan, who conducted similar research.The Nobel announcement, which follows the prestigious Lasker Award and other recognition showered on Allison’s work, is a proud moment for the harmonica-playing scientist, for MD Anderson and for Houston. And it’s a reminder that even amid the turmoil and drama that often roils major medical institutions, the men and women toiling behind the scenes in labs deserve our support — including the support of public funding — even when the practical benefits of their work aren’t immediately apparent.“Everyone thought I was crazy,” Allison says, when his research with mice challenged conventional wisdom regarding the function of a newly identified protein. While other scientists believed the protein stimulated the immune system, Allison’s work indicated it had the opposite effect — it was a brake, not a gas pedal.Even as Allison’s work advanced — he figured out how to unlock the brake — it wasn’t clear whether or when it would lead to effective treatments. Twenty years later, immunotherapy drugs are extending the lives of patients with lung, breast and other deadly cancers.The accolades for Allison’s work over the past few years have coincided with controversy and turmoil in the institution that employs him. After five years as MD Anderson’s president, Dr. Ron DePinho resigned in March 2017 amid a revolt by faculty members who said they felt pressure to produce more revenue through higher patient loads. The world-renowned cancer center started in 2017 with an operating deficit of nearly $170 million. It laid off hundreds of employees.Leadership issues and financial problems ebb and flow, but the work of scientists like Jim Allison will endure. Its legacy will be the lengthened and improved lives of countless cancer patients, and the inspiration that trickles down to future generations of researchers driven, like Allison, by a pure thirst for knowledge.To read this article in one of Houston's most-spoken languages, click on the button below.AboutContact©2018 Hearst\"],\n",
       " [\"Governor Greg Abbott describes Beto O'Rourke as 'cult like'\",\n",
       "  '\\n\\nJeremy Wallace\\n ',\n",
       "  'Oct. 1, 2018',\n",
       "  'Texas Gov. Greg Abbott is not running for re-election against Democrat Beto O\\'Rourke, but during an early morning interview on national television, it was clear the El Paso Democrat is on Abbott\\'s mind.For more than half of the 5-minute interview on Fox & Friends, Abbott talked about O\\'Rourke almost exclusively, never mentioning U.S. Sen. Ted Cruz -- the Republican O\\'Rourke is challenging in his campaign -- or Democrat Lupe Valdez, the Democrat running against Abbott this year.\"Listen, he\\'s been a cult-like, very popular figure the way that he\\'s run the campaign,\" Abbott said of O\\'Rourke.Abbott said as people learn more about O\\'Rourke\\'s positions on issues \"Beto O\\'Rourke is going to sink.\" Abbott compared O\\'Rourke to Wendy Davis, the 2014 Democratic nominee for governor whom Abbott beat handily.Abbott said O\\'Rourke wants higher taxes and open borders -- two claims about O\\'Rourke\\'s platform that\\xa0O\\'Rourke has said are not true.Abbott, however, refused to get into questions about O\\'Rourke having a drunken driving arrest form 20 years ago. Asked if the arrest would affect the race, Abbott said no.\"In the end, I don\\'t think that\\'s going to matter all that much,\" Abbott said.Abbott was on Fox & Friends to promote his own new TV ad supporting his re-election.Check out the full interview here:\\xa0https://video.foxnews.com/v/5842800611001/?#sp=show-clipsJeremy.wallace@chron.comJeremy Wallace is a reporter at the Austin, Texas, bureau.To read this article in one of Houston\\'s most-spoken languages, click on the button below.AboutContact©2018 Hearst'],\n",
       " ['Reworked Nafta deal brings relief to Texas businesses',\n",
       "  'John Roper and Lynn Brezosky, Staff writers\\n                    ',\n",
       "  'Oct. 1, 2018',\n",
       "  'The 11th hour deal struck by the United States and Canada to preserve a North American free trade zone brought relief to Texas businesses that for 25 years have relied on and prospered from cross-border commerce that has bolstered the state’s economy.For more than a year, energy companies, manufacturers and farmers have worried about the fate of the North American Free Trade Agreement between the United States, Canada and Mexico that had opened markets, built efficient supply chains and created more than 1 million jobs in Texas. President Donald Trump called NAFTA one of the worst deals ever made, threatened to tear it up and vowed to exclude Canada if the nation’s neighbor to the north did not acquiesce to U.S. demands.The Trump administration first reached a deal with Mexico in August; it concluded an agreement with Canada late Sunday to maintain the trilateral trade pact not long before a U.S.-imposed midnight deadline passed.Few details of the agreement were immediately available, but the broad strokes indicate natural gas producers will still have easy access to the growing Mexican markets and Gulf Coast refiners can still rely on heavy crude from Canada. Businesses in Texas border communities, whose local economies have become integrated with those across the Rio Grande, can resume long-planned investments that were put on hold given the uncertainty over NAFTA.\"This is very good news for Texas companies,\" said Doug McCullough, director of the Canada-Texas Chamber of Commerce. \"Trade restrictions, including any retaliatory tariffs, would have been harmful to Texas companies. Concluding the trade deal removes tremendous uncertainty for companies doing business throughout the North American market.\"The new agreement between the three countries replaces NAFTA with a new acronym, USMCA, for United States-Mexico-Canada Agreement. It has significant changes for automakers, opens Canada\\'s milk market to U.S. dairy farmers, and maintains arbitration rules that many American companies hoped would be kept in place. But for the most part, analysts said, the deal is more modifications than overhaul and leaves much of the older pact in place.Few states had as much at stake in the outcome of the negotiations as Texas. Mexico, the state’s biggest trading partner, and Canada, the second largest accounted for nearly half — 46 percent — of the state’s nearly $265 billion in exports last year.For energy companies, the agreement means that oil, natural gas and petroleum products will continue to move across borders without tariffs. Mexico, following reforms that opened its energy markets to foreign companies, has become the United States biggest export market for natural gas, much of it flowing through pipelines that stretch across the Texas-Mexico border and carry gas produced in Texas shale fields. Natural gas exports to Mexico, now averaging about 5 billion cubic feet, more than doubled in 2017 from 2014, according to the U.S. Energy Department.\"It should be business as usual,” said Ed Hirs, an economist at the University of Houston. “Or maybe a little better.”The American Petroleum Institute, the main lobbying group for the oil and gas industry, called on Congress to approve the new pact, lauding the inclusion of Canada, which sends some 3.3 million barrels a day of heavy crude oil to U.S. refiners. Along the Gulf Coast, refineries are largely configured to process heavy, imported crude as opposed to lighter grades from U.S. shale plays.\"Having Canada as a trading partner and a party to this agreement is critical for North American energy security and U.S. consumers,” API CEO Mike Sommers in a statement. “Retaining a trade agreement for North America will help ensure the U.S. energy revolution continues into the future.\"Texas farmers and ranchers also viewed the trilateral agreement as a win. The value of U.S. agricultural trade with Canada and Mexico exploded under the North American Free Trade Agreement, with U.S. exports jumping from $8.7 billion in 1992 to $38.1 billion in 2016.Texas’ main agricultural exports to NAFTA countries include cotton, corn, grain and feed, rice and beef. Mexico is the state’s largest beef export market. Canada is the fifth largest.“We had really been hoping for this,” said Kelley Sullivan, co-owner of the Santa Rosa Ranch, which is the largest producer of Brangus and UltraBlack cattle in Texas. “We have been as an industry asking and imploring them to really instead of completely doing away with NAFTA, modernize it. Which really this seems to have done.”Mexico is Greater Houston’s biggest trading partner. In 2017, trade between the Houston area and Mexico — both exports and imports — topped $20 billion. Canada accounted for $3.3 billion in trade with the region last year, according to the Greater Houston Partnership, a business group. Together, the two countries accounted for 12 percent of all international trade for the region.“Any agreement that the United States reaches with Mexico is important and is good news for Houston,” said Patrick Jankowski, vice president of research for the Greater Houston Partnership.The reaction along the border was similar. Trade between El Paso and Juarez in Mexico, totaled about $80 billion. The local economies of the two cities depends heavily on the free flow of goods and services across the border. Manufacturers might make components in El Paso and assemble them in Juarez and ship them to markets in both countries.Tom Fullerton, an economics professor at University of Texas El Paso, said many planned investments to upgrade factories were placed on hold as they awaited the outcome of NAFTA negotiations. As a result, employment tied to manufacturing slowed, but Fullerton said.“This has been surprising because the U.S. economy is doing so well,\" Fullerton said. \"These investments that have been on hold should be able to be put into action now.”john.roper@chron.comlbrezosky@express-news.netTo read this article in one of Houston\\'s most-spoken languages, click on the button below.AboutContact©2018 Hearst']]"
      ]
     },
     "execution_count": 262,
     "metadata": {},
     "output_type": "execute_result"
    }
   ],
   "source": [
    "corpora"
   ]
  },
  {
   "cell_type": "code",
   "execution_count": null,
   "metadata": {},
   "outputs": [],
   "source": []
  }
 ],
 "metadata": {
  "kernelspec": {
   "display_name": "Python 3",
   "language": "python",
   "name": "python3"
  },
  "language_info": {
   "codemirror_mode": {
    "name": "ipython",
    "version": 3
   },
   "file_extension": ".py",
   "mimetype": "text/x-python",
   "name": "python",
   "nbconvert_exporter": "python",
   "pygments_lexer": "ipython3",
   "version": "3.6.5"
  }
 },
 "nbformat": 4,
 "nbformat_minor": 2
}
