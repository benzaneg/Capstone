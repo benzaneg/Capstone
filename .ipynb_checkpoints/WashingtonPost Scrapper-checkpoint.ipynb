{
 "cells": [
  {
   "cell_type": "code",
   "execution_count": 3,
   "metadata": {},
   "outputs": [],
   "source": [
    "# Import libaries\n",
    "from bs4 import BeautifulSoup\n",
    "import pandas as pd\n",
    "import requests\n",
    "import re\n",
    "import numpy as np"
   ]
  },
  {
   "cell_type": "code",
   "execution_count": 4,
   "metadata": {},
   "outputs": [],
   "source": [
    "url = 'https://www.washingtonpost.com/national/health-science/denver-removes-homeless-storage-units-lived-in-by-people/2018/09/27/2c10fb72-c2b2-11e8-9451-e878f96be19b_story.html?utm_term=.72532f41b61c'\n",
    "res = requests.get(url)\n",
    "soup = BeautifulSoup(res.content, 'lxml')\n",
    "    "
   ]
  },
  {
   "cell_type": "code",
   "execution_count": 8,
   "metadata": {},
   "outputs": [
    {
     "data": {
      "text/plain": [
       "'Denver removes homeless storage units lived in by people'"
      ]
     },
     "execution_count": 8,
     "metadata": {},
     "output_type": "execute_result"
    }
   ],
   "source": [
    "titled = soup.title.text\n",
    "titled[:-22]"
   ]
  },
  {
   "cell_type": "code",
   "execution_count": 11,
   "metadata": {},
   "outputs": [
    {
     "data": {
      "text/plain": [
       "'The Washington Post'"
      ]
     },
     "execution_count": 11,
     "metadata": {},
     "output_type": "execute_result"
    }
   ],
   "source": [
    "publisher = soup.title.text\n",
    "publisher[-19:]"
   ]
  },
  {
   "cell_type": "code",
   "execution_count": 37,
   "metadata": {},
   "outputs": [],
   "source": [
    "text_tag_all = soup.article"
   ]
  },
  {
   "cell_type": "code",
   "execution_count": 38,
   "metadata": {},
   "outputs": [
    {
     "data": {
      "text/plain": [
       "'DENVER — Denver officials have removed large outdoor storage containers set up last year for homeless people after discovering that people were living inside them.The city paid $30,000 for 10 4-by-6-foot (1-by-2-meter) containers meant to give homeless people a safe place to store clothing and other possessions.But the city decided to do away with the containers for now because people were staying in the unventilated units day and night, Chris Conner, director of the city’s Denver Road Home homelessness agency, told The Denver Post.Some units near the Denver Rescue Mission shelter and facilities run by other nonprofit groups serving the homeless were damaged and vandalized and there were unconfirmed reports of narcotics sales and allegations of prostitution inside the containers, Conner said.“There was a feeling that they had crossed a threshold and were making the area less stable and safe for people,” Conner said.Homeless advocate Ray Lyall said he was not surprised by people lived in the containers.“If it’s cold, it’s wet, I’d have slept in those things, too,” he said. “I can’t blame them for that.”The city is talking to a nonprofit group about moving the containers to another location that would likely be gated and only available to homeless people who are seeking jobs, Conner said.Nonprofit groups and at least one business offer lockers for homeless people to use, some of them funded by the city. But they tend to be smaller and usually require people to check in with staffers before accessing them.The restaurant Sexy Pizza has four school-style lockers for homeless people outside its location near downtown Denver. Kayvan Khalatbari, a mayoral candidate who holds a stake in the business, said having the lockers in a residential area seems to have helped.“You have more eyes on these around the day,” he said. “We haven’t had a single issue in almost a year that these have been installed.”___Information from: The Denver Post, http://www.denverpost.comCopyright 2018 The Associated Press. All rights reserved. This material may not be published, broadcast, rewritten or redistributed.'"
      ]
     },
     "execution_count": 38,
     "metadata": {},
     "output_type": "execute_result"
    }
   ],
   "source": [
    "text_tag_all = [tag.text for tag in text_tag_all.find_all('p')]\n",
    "text_tag_all = ''.join(text_tag_all)\n",
    "text_tag_all"
   ]
  },
  {
   "cell_type": "code",
   "execution_count": 77,
   "metadata": {},
   "outputs": [
    {
     "data": {
      "text/plain": [
       "'DENVER — Denver officials have removed large outdoor storage containers set up last year for homeless people after discovering that people were living inside them.The city paid $30,000 for 10 4-by-6-foot (1-by-2-meter) containers meant to give homeless people a safe place to store clothing and other possessions.But the city decided to do away with the containers for now because people were staying in the unventilated units day and night, Chris Conner, director of the city’s Denver Road Home homelessness agency, told The Denver Post.Some units near the Denver Rescue Mission shelter and facilities run by other nonprofit groups serving the homeless were damaged and vandalized and there were unconfirmed reports of narcotics sales and allegations of prostitution inside the containers, Conner said.“There was a feeling that they had crossed a threshold and were making the area less stable and safe for people,” Conner said.Homeless advocate Ray Lyall said he was not surprised by people lived in the containers.“If it’s cold, it’s wet, I’d have slept in those things, too,” he said. “I can’t blame them for that.”The city is talking to a nonprofit group about moving the containers to another location that would likely be gated and only available to homeless people who are seeking jobs, Conner said.Nonprofit groups and at least one business offer lockers for homeless people to use, some of them funded by the city. But they tend to be smaller and usually require people to check in with staffers before accessing them.The restaurant Sexy Pizza has four school-style lockers for homeless people outside its location near downtown Denver. Kayvan Khalatbari, a mayoral candidate who holds a stake in the business, said having the lockers in a residential area seems to have helped.“You have more eyes on these around the day,” he said. “We haven’t had a single issue in almost a year that these have been installed.”'"
      ]
     },
     "execution_count": 77,
     "metadata": {},
     "output_type": "execute_result"
    }
   ],
   "source": [
    "text_tag_all = [tag.text for tag in soup.find_all('p')]\n",
    "text_tag_all = ''.join(text_tag_all[3:])\n",
    "for char in range(len(text_tag_all)):\n",
    "    close = char + 3\n",
    "    if text_tag_all[char:close] == '___':\n",
    "        text_tag_all = text_tag_all[:char]\n",
    "text_tag_all"
   ]
  },
  {
   "cell_type": "code",
   "execution_count": 86,
   "metadata": {},
   "outputs": [
    {
     "name": "stdout",
     "output_type": "stream",
     "text": [
      "2018-09-27T08:52-500\n"
     ]
    }
   ],
   "source": [
    "for tag in soup.find_all(class_=\"author-timestamp\"):\n",
    "    print(tag.attrs['content'])"
   ]
  },
  {
   "cell_type": "code",
   "execution_count": 80,
   "metadata": {},
   "outputs": [],
   "source": [
    "def WashPost_scrapper(piece):\n",
    "    # The normal set-up of a scrape\n",
    "    url = piece\n",
    "    res = requests.get(url)\n",
    "    soup = BeautifulSoup(res.content, 'lxml')\n",
    "    \n",
    "    # Creating the list which the article will be held in\n",
    "    article = []\n",
    "    \n",
    "    # Title\n",
    "    titled = soup.title.text\n",
    "    article.append(titled[:-22])\n",
    "    \n",
    "    # Author\n",
    "    author = [tag.text for tag in soup.find_all(itemprop = \"author creator\")]\n",
    "    author = ''.join(author)\n",
    "    article.append(author[3:])\n",
    "    \n",
    "    # Date\n",
    "    date = [tag.text for tag in soup.find_all(class_ = 'css-1wnyjki eqgapgq0')]\n",
    "    date = ''.join(date)\n",
    "    article.append(date)\n",
    "    \n",
    "    # Finding all of the text an in article\n",
    "    text_tag_all = [tag.text for tag in soup.find_all('p')]\n",
    "    text_tag_all = ''.join(text_tag_all[3:])\n",
    "    for char in range(len(text_tag_all)):\n",
    "        close = char + 3\n",
    "        if text_tag_all[char:close] == '___':\n",
    "            text_tag_all = text_tag_all[:char]\n",
    "    article.append(text_tag_all)\n",
    "    \n",
    "    # Location of reporting\n",
    "    for char in range(len(text_tag_all)):\n",
    "        if text_tag_all[char] == ' ':\n",
    "            text_tag_all = text_tag_all[:char].lower()\n",
    "            break\n",
    "    article.append(text_tag_all)\n",
    "    \n",
    "    article.append(text_tag_all)\n",
    "    return article\n"
   ]
  },
  {
   "cell_type": "code",
   "execution_count": null,
   "metadata": {},
   "outputs": [],
   "source": []
  }
 ],
 "metadata": {
  "kernelspec": {
   "display_name": "Python 3",
   "language": "python",
   "name": "python3"
  },
  "language_info": {
   "codemirror_mode": {
    "name": "ipython",
    "version": 3
   },
   "file_extension": ".py",
   "mimetype": "text/x-python",
   "name": "python",
   "nbconvert_exporter": "python",
   "pygments_lexer": "ipython3",
   "version": "3.6.5"
  }
 },
 "nbformat": 4,
 "nbformat_minor": 2
}
