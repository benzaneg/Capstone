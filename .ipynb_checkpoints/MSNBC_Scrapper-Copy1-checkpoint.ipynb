{
 "cells": [
  {
   "cell_type": "code",
   "execution_count": 2,
   "metadata": {},
   "outputs": [],
   "source": [
    "# Import libaries\n",
    "from bs4 import BeautifulSoup\n",
    "import pandas as pd\n",
    "import requests\n",
    "import re\n",
    "import numpy as np"
   ]
  },
  {
   "cell_type": "code",
   "execution_count": 14,
   "metadata": {},
   "outputs": [],
   "source": [
    "url = 'https://www.nbcnews.com/business/business-news/trump-has-lost-1-billion-personal-wealth-running-president-n916221'\n",
    "res = requests.get(url)\n",
    "soup = BeautifulSoup(res.content, 'lxml')"
   ]
  },
  {
   "cell_type": "code",
   "execution_count": 23,
   "metadata": {},
   "outputs": [
    {
     "data": {
      "text/plain": [
       "'Oct.03.2018'"
      ]
     },
     "execution_count": 23,
     "metadata": {},
     "output_type": "execute_result"
    }
   ],
   "source": [
    "date = [tag.text for tag in soup.find_all(class_ = 'pubDate___3OViw')]\n",
    "date = ''.join(date)\n",
    "for char in range(len(date)):\n",
    "        if date[char] == '/':\n",
    "            split = char - 1\n",
    "            date = date[:split]\n",
    "            break\n",
    "date\n",
    "#article.append(date)"
   ]
  },
  {
   "cell_type": "code",
   "execution_count": 28,
   "metadata": {},
   "outputs": [
    {
     "data": {
      "text/plain": [
       "'Trump has lost $1 billion in personal wealth since running for president'"
      ]
     },
     "execution_count": 28,
     "metadata": {},
     "output_type": "execute_result"
    }
   ],
   "source": [
    "soup.title.text"
   ]
  },
  {
   "cell_type": "code",
   "execution_count": 15,
   "metadata": {},
   "outputs": [],
   "source": [
    "for tag in soup.find_all(class_=\"author-timestamp\"):\n",
    "    print(tag.attrs['content'])"
   ]
  },
  {
   "cell_type": "code",
   "execution_count": null,
   "metadata": {},
   "outputs": [],
   "source": [
    "def MSNBC_scrapper(piece):\n",
    "    # The normal set-up of a scrape\n",
    "    url = piece\n",
    "    res = requests.get(url)\n",
    "    soup = BeautifulSoup(res.content, 'lxml')\n",
    "    \n",
    "    # Creating the list which the article will be held in\n",
    "    article = []\n",
    "    \n",
    "    # Title\n",
    "    titled = soup.title.text\n",
    "    article.append(titled)\n",
    "    \n",
    "    # Author\n",
    "    author = [tag.text for tag in soup.find_all(class_ = \"inlineAuthor___sgwQx\")]\n",
    "    author = ''.join(author)\n",
    "    article.append(author[3:-3])\n",
    "    \n",
    "    # Date\n",
    "    date = [tag.text for tag in soup.find_all(class_ = 'pubDate___3OViw')]\n",
    "    date = ''.join(date)\n",
    "    for char in range(len(date)):\n",
    "        if date[char] == '/':\n",
    "            split = char - 1\n",
    "            date = date[:split]\n",
    "            break\n",
    "    date\n",
    "    \n",
    "    # Finding all of the text an in article\n",
    "    text_tag_all = [tag.text for tag in soup.find_all('p')]\n",
    "    text_tag_all = ''.join(text_tag_all[3:])\n",
    "    text_tag_all = re.sub(\"\\\\'\", '', text_tag_all)\n",
    "    text_tag_all\n",
    "    \n",
    "    # Location of reporting\n",
    "    for char in range(len(text_tag_all)):\n",
    "        if text_tag_all[char] == ' ':\n",
    "            text_tag_all = text_tag_all[:char].lower()\n",
    "            break\n",
    "    article.append(text_tag_all)\n",
    "    \n",
    "    article.append(text_tag_all)\n",
    "    return article\n"
   ]
  },
  {
   "cell_type": "code",
   "execution_count": 30,
   "metadata": {},
   "outputs": [
    {
     "name": "stdout",
     "output_type": "stream",
     "text": [
      "Collecting PyPDF2\n",
      "\u001b[?25l  Downloading https://files.pythonhosted.org/packages/b4/01/68fcc0d43daf4c6bdbc6b33cc3f77bda531c86b174cac56ef0ffdb96faab/PyPDF2-1.26.0.tar.gz (77kB)\n",
      "\u001b[K    100% |████████████████████████████████| 81kB 4.4MB/s ta 0:00:01\n",
      "\u001b[?25hBuilding wheels for collected packages: PyPDF2\n",
      "  Running setup.py bdist_wheel for PyPDF2 ... \u001b[?25ldone\n",
      "\u001b[?25h  Stored in directory: /Users/bengreer/Library/Caches/pip/wheels/53/84/19/35bc977c8bf5f0c23a8a011aa958acd4da4bbd7a229315c1b7\n",
      "Successfully built PyPDF2\n",
      "Installing collected packages: PyPDF2\n",
      "Successfully installed PyPDF2-1.26.0\n"
     ]
    }
   ],
   "source": [
    "!pip install PyPDF2 "
   ]
  },
  {
   "cell_type": "code",
   "execution_count": 31,
   "metadata": {},
   "outputs": [],
   "source": [
    "import PyPDF2"
   ]
  },
  {
   "cell_type": "code",
   "execution_count": null,
   "metadata": {},
   "outputs": [],
   "source": []
  }
 ],
 "metadata": {
  "kernelspec": {
   "display_name": "Python 3",
   "language": "python",
   "name": "python3"
  },
  "language_info": {
   "codemirror_mode": {
    "name": "ipython",
    "version": 3
   },
   "file_extension": ".py",
   "mimetype": "text/x-python",
   "name": "python",
   "nbconvert_exporter": "python",
   "pygments_lexer": "ipython3",
   "version": "3.6.5"
  }
 },
 "nbformat": 4,
 "nbformat_minor": 2
}
